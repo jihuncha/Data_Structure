{
 "cells": [
  {
   "cell_type": "code",
   "execution_count": 7,
   "metadata": {},
   "outputs": [
    {
     "name": "stdout",
     "output_type": "stream",
     "text": [
      "0.8999999999999999\n",
      "123.46\n",
      "0.9\n"
     ]
    }
   ],
   "source": [
    "#실수값을 제대로 사용하기 위해서는 round사용 필수\n",
    "a = 0.3 + 0.6\n",
    "print(a)\n",
    "\n",
    "#round()\n",
    "#1. 실수형 데이터 2.반올림하고자하는 위치 -1\n",
    "print(round(123.456, 2))\n",
    "\n",
    "#5번째부터 반올림하는게 일반적\n",
    "print(round(a, 4))"
   ]
  },
  {
   "cell_type": "code",
   "execution_count": 16,
   "metadata": {},
   "outputs": [
    {
     "name": "stdout",
     "output_type": "stream",
     "text": [
      "[1, 3, 5, 7, 9, 11, 13, 15, 17, 19]\n",
      "[1, 3, 5, 7, 9, 11, 13, 15, 17, 19]\n",
      "[1, 4, 9, 16, 25, 36, 49, 64, 81]\n",
      "[[0, 0, 0, 0], [0, 0, 0, 0], [0, 0, 0, 0]]\n"
     ]
    }
   ],
   "source": [
    "#리스트 컴프리헨션\n",
    "#list 초기화에 자주 사용된다.\n",
    "\n",
    "#20까지의 숫자중 홀수\n",
    "array = [i for i in range(20) if i % 2 == 1]\n",
    "\n",
    "#위에식을 풀어쓰면\n",
    "array2 = []\n",
    "for i in range(20):\n",
    "    if i % 2 == 1:\n",
    "        array2.append(i)\n",
    "\n",
    "print(array)\n",
    "print(array2)\n",
    "\n",
    "#1부터 9까지의 제곱 list\n",
    "array3 = [i * i  for i in range(1,10)]\n",
    "print(array3)\n",
    "\n",
    "\n",
    "#2차원 배열을 초기화할때 매우 효율적으로 사용됨\n",
    "\n",
    "# N x M 의 2차원 배열 초기화\n",
    "n = 3\n",
    "m = 4\n",
    "array4 = [[0] * m for _ in range(n)]\n",
    "\n",
    "print(array4)"
   ]
  },
  {
   "cell_type": "code",
   "execution_count": 17,
   "metadata": {},
   "outputs": [
    {
     "name": "stdout",
     "output_type": "stream",
     "text": [
      "[1, 2, 4]\n"
     ]
    }
   ],
   "source": [
    "#파이선은 list remove all 을 제공하지않는다.\n",
    "\n",
    "a = [1,2,3,4,5,5,5]\n",
    "remove_set = [3,5]\n",
    "\n",
    "result = [i for i in a if i not in remove_set]\n",
    "\n",
    "print(result)"
   ]
  },
  {
   "cell_type": "code",
   "execution_count": 19,
   "metadata": {},
   "outputs": [
    {
     "name": "stdout",
     "output_type": "stream",
     "text": [
      "3\n"
     ]
    },
    {
     "ename": "TypeError",
     "evalue": "'tuple' object does not support item assignment",
     "output_type": "error",
     "traceback": [
      "\u001b[0;31m---------------------------------------------------------------------------\u001b[0m",
      "\u001b[0;31mTypeError\u001b[0m                                 Traceback (most recent call last)",
      "\u001b[0;32m<ipython-input-19-ec065d6b0aaa>\u001b[0m in \u001b[0;36m<module>\u001b[0;34m\u001b[0m\n\u001b[1;32m      7\u001b[0m \u001b[0mprint\u001b[0m\u001b[0;34m(\u001b[0m\u001b[0ma\u001b[0m\u001b[0;34m[\u001b[0m\u001b[0;36m2\u001b[0m\u001b[0;34m]\u001b[0m\u001b[0;34m)\u001b[0m\u001b[0;34m\u001b[0m\u001b[0;34m\u001b[0m\u001b[0m\n\u001b[1;32m      8\u001b[0m \u001b[0;34m\u001b[0m\u001b[0m\n\u001b[0;32m----> 9\u001b[0;31m \u001b[0ma\u001b[0m\u001b[0;34m[\u001b[0m\u001b[0;36m2\u001b[0m\u001b[0;34m]\u001b[0m \u001b[0;34m=\u001b[0m \u001b[0;36m111\u001b[0m\u001b[0;34m\u001b[0m\u001b[0;34m\u001b[0m\u001b[0m\n\u001b[0m",
      "\u001b[0;31mTypeError\u001b[0m: 'tuple' object does not support item assignment"
     ]
    }
   ],
   "source": [
    "#튜플 자료형\n",
    "#1. 튜플 자료형은 한번 선언된 값을 변경 할 수 없다.\n",
    "#2. 소괄호 () 사용\n",
    "\n",
    "a = (1,2,3,4)\n",
    "\n",
    "print(a[2])\n",
    "\n",
    "a[2] = 111\n",
    "\n",
    "#주로 그래프 알고리즘에 사용..\n",
    "#우선 큐를 사용 -> 우선 큐의 값이 변경되면 안되기 때문..\n"
   ]
  },
  {
   "cell_type": "code",
   "execution_count": 28,
   "metadata": {},
   "outputs": [
    {
     "name": "stdout",
     "output_type": "stream",
     "text": [
      "{1, 2, 3, 4, 5, 6, 7}\n",
      "{3, 4, 5}\n",
      "{1, 2}\n",
      "{1, 2, 3, 4}\n",
      "{1, 2, 3}\n",
      "{1, 2, 3, 5, 6}\n"
     ]
    }
   ],
   "source": [
    "#set \n",
    "#중복을 허용하지 않음\n",
    "#순서가 없다\n",
    "\n",
    "a = set([1,2,3,4,5])\n",
    "b = set([3,4,5,6,7])\n",
    "\n",
    "#합집합\n",
    "print(a | b)\n",
    "#교집합\n",
    "print(a & b)\n",
    "#차집합\n",
    "print(a - b)\n",
    "\n",
    "\n",
    "data = set([1,2,3])\n",
    "#add \n",
    "data.add(4)\n",
    "print(data)\n",
    "\n",
    "#remove\n",
    "data.remove(4)\n",
    "print(data)\n",
    "\n",
    "#update -> 여러개값\n",
    "data.update([5,6])\n",
    "print(data)"
   ]
  },
  {
   "cell_type": "code",
   "execution_count": 31,
   "metadata": {},
   "outputs": [
    {
     "name": "stdout",
     "output_type": "stream",
     "text": [
      "10\n",
      "10\n"
     ]
    }
   ],
   "source": [
    "#함수 및 람다식\n",
    "def add(a,b):\n",
    "    return a + b\n",
    "\n",
    "print(add(3, 7))\n",
    "\n",
    "#람다식\n",
    "print((lambda a,b : a + b)(3,7))"
   ]
  },
  {
   "cell_type": "code",
   "execution_count": 32,
   "metadata": {},
   "outputs": [
    {
     "name": "stdout",
     "output_type": "stream",
     "text": [
      "5\n",
      "5\n"
     ]
    }
   ],
   "source": [
    "#입출력\n",
    "n = int(input())\n",
    "print(n)"
   ]
  },
  {
   "cell_type": "code",
   "execution_count": 33,
   "metadata": {},
   "outputs": [
    {
     "name": "stdout",
     "output_type": "stream",
     "text": [
      "1 2 3 4 5\n",
      "data -  [1, 2, 3, 4, 5]\n"
     ]
    }
   ],
   "source": [
    "data = list(map(int, input().split()))\n",
    "\n",
    "print(\"data - \", data)"
   ]
  },
  {
   "cell_type": "code",
   "execution_count": 39,
   "metadata": {},
   "outputs": [
    {
     "name": "stdout",
     "output_type": "stream",
     "text": [
      "2 3 42\n",
      "2 3 42\n"
     ]
    }
   ],
   "source": [
    "n,m,k = map(int, input().split())\n",
    "\n",
    "print(n, m, k)\n"
   ]
  },
  {
   "cell_type": "code",
   "execution_count": 40,
   "metadata": {},
   "outputs": [
    {
     "name": "stdout",
     "output_type": "stream",
     "text": [
      "\n"
     ]
    }
   ],
   "source": [
    "#input은 동작속도가 느려 sys를 사용해야할때가 있다!\n",
    "import sys\n",
    "\n",
    "data = sys.stdin.readline().rstrip()\n",
    "\n",
    "print(data)\n",
    "\n",
    "#jupyter 에서는 stdin 이 제대로 구성되어 있지 않기 때문에 stdin.readline() 을 실행하면 입력을 받지 못하고 항상 빈 문자열이 반환\n"
   ]
  },
  {
   "cell_type": "markdown",
   "metadata": {},
   "source": [
    "# 내장함수\n",
    "### import 없이 사용\n",
    "### input() print() max() min() sum() eval() sorted() "
   ]
  },
  {
   "cell_type": "code",
   "execution_count": 41,
   "metadata": {},
   "outputs": [
    {
     "name": "stdout",
     "output_type": "stream",
     "text": [
      "15\n"
     ]
    }
   ],
   "source": [
    "result = sum([1,2,3,4,5])\n",
    "print(result)"
   ]
  },
  {
   "cell_type": "code",
   "execution_count": 42,
   "metadata": {},
   "outputs": [
    {
     "name": "stdout",
     "output_type": "stream",
     "text": [
      "1\n"
     ]
    }
   ],
   "source": [
    "result = min([1,2,3,4,5])\n",
    "print(result)"
   ]
  },
  {
   "cell_type": "code",
   "execution_count": 43,
   "metadata": {},
   "outputs": [
    {
     "name": "stdout",
     "output_type": "stream",
     "text": [
      "5\n"
     ]
    }
   ],
   "source": [
    "result = max([1,2,3,4,5])\n",
    "print(result)"
   ]
  },
  {
   "cell_type": "code",
   "execution_count": 44,
   "metadata": {},
   "outputs": [
    {
     "name": "stdout",
     "output_type": "stream",
     "text": [
      "22\n"
     ]
    }
   ],
   "source": [
    "#eval -> 문자열 수식을 계산해준다.\n",
    "result = eval(\"3 * 5 + 7\")\n",
    "print(result)"
   ]
  },
  {
   "cell_type": "code",
   "execution_count": 46,
   "metadata": {},
   "outputs": [
    {
     "name": "stdout",
     "output_type": "stream",
     "text": [
      "[1, 4, 5, 8, 9]\n",
      "[9, 8, 5, 4, 1]\n"
     ]
    }
   ],
   "source": [
    "result = sorted([9, 1, 8, 5, 4]) #오름차순\n",
    "print(result)\n",
    "\n",
    "result = sorted([9, 1, 8, 5, 4], reverse=True) # 내림차순\n",
    "print(result)"
   ]
  },
  {
   "cell_type": "code",
   "execution_count": 47,
   "metadata": {},
   "outputs": [
    {
     "name": "stdout",
     "output_type": "stream",
     "text": [
      "[('홍길동', 35), ('아무개', 50), ('이순신', 77)]\n"
     ]
    }
   ],
   "source": [
    "#특정 위치에서 사용\n",
    "result = sorted([('홍길동', 35), ('이순신', 77), ('아무개', 50)], key = lambda x:x[1])\n",
    "print(result)"
   ]
  },
  {
   "cell_type": "code",
   "execution_count": 49,
   "metadata": {},
   "outputs": [
    {
     "name": "stdout",
     "output_type": "stream",
     "text": [
      "[1, 4, 5, 8, 9]\n"
     ]
    }
   ],
   "source": [
    "#sort() 사용\n",
    "data = [9, 1, 8, 5, 4]\n",
    "data.sort()\n",
    "\n",
    "print(data)"
   ]
  },
  {
   "cell_type": "markdown",
   "metadata": {},
   "source": [
    "# Itertools\n",
    "## 반복되는 데이터를 처리할때 사용\n",
    "#### 1. permutations -> 순열\n",
    "\n",
    "#### 2. combinations -> 조합\n",
    "\n",
    "#### 3. product -> 순열인데 중복이 가능한 순열\n",
    "\n",
    "#### 4. combinations_with_replacement -> 조합/ 순서고려안함/중복가능\n",
    "\n"
   ]
  },
  {
   "cell_type": "code",
   "execution_count": 1,
   "metadata": {},
   "outputs": [
    {
     "name": "stdout",
     "output_type": "stream",
     "text": [
      "[('A', 'B', 'C'), ('A', 'C', 'B'), ('B', 'A', 'C'), ('B', 'C', 'A'), ('C', 'A', 'B'), ('C', 'B', 'A')]\n"
     ]
    }
   ],
   "source": [
    "from itertools import permutations\n",
    "\n",
    "data = ['A', 'B', 'C']\n",
    "\n",
    "#list 에서 3개를 뽑아 나열하는 경우의 순열 \n",
    "result = list(permutations(data, 3))\n",
    "\n",
    "print(result)"
   ]
  },
  {
   "cell_type": "code",
   "execution_count": 2,
   "metadata": {},
   "outputs": [
    {
     "name": "stdout",
     "output_type": "stream",
     "text": [
      "[('A', 'B'), ('A', 'C'), ('B', 'C')]\n"
     ]
    }
   ],
   "source": [
    "from itertools import combinations\n",
    "\n",
    "data = ['A', 'B', 'C']\n",
    "\n",
    "#2개를 뽑는 모든 조합\n",
    "result = list(combinations(data, 2))\n",
    "\n",
    "print(result)"
   ]
  },
  {
   "cell_type": "code",
   "execution_count": 3,
   "metadata": {},
   "outputs": [
    {
     "name": "stdout",
     "output_type": "stream",
     "text": [
      "[('A', 'A'), ('A', 'B'), ('A', 'C'), ('B', 'A'), ('B', 'B'), ('B', 'C'), ('C', 'A'), ('C', 'B'), ('C', 'C')]\n"
     ]
    }
   ],
   "source": [
    "from itertools import product\n",
    "\n",
    "data = ['A', 'B', 'C']\n",
    "\n",
    "#2개를 뽑는 모든 순열 구하기\n",
    "result = list(product(data, repeat=2))\n",
    "\n",
    "print(result)"
   ]
  },
  {
   "cell_type": "code",
   "execution_count": 4,
   "metadata": {},
   "outputs": [
    {
     "name": "stdout",
     "output_type": "stream",
     "text": [
      "[('A', 'A'), ('A', 'B'), ('A', 'C'), ('B', 'B'), ('B', 'C'), ('C', 'C')]\n"
     ]
    }
   ],
   "source": [
    "from itertools import combinations_with_replacement\n",
    "\n",
    "data = ['A', 'B', 'C']\n",
    "\n",
    "#2개를 뽑는 모든 조합\n",
    "result = list(combinations_with_replacement(data, 2))\n",
    "\n",
    "print(result)"
   ]
  },
  {
   "cell_type": "markdown",
   "metadata": {},
   "source": [
    "# heapq\n",
    "\n",
    "heap 사용\n",
    "\n",
    "####원소 삽입시 -> heapq.heappush() // 꺼낼시 -> heapq.heappop()"
   ]
  },
  {
   "cell_type": "code",
   "execution_count": 5,
   "metadata": {},
   "outputs": [
    {
     "name": "stdout",
     "output_type": "stream",
     "text": [
      "[1, 2, 3, 4, 5, 6, 7, 8, 9, 10]\n"
     ]
    }
   ],
   "source": [
    "import heapq\n",
    "\n",
    "def heapsort(iterable):\n",
    "    h = []\n",
    "    result = []\n",
    "    \n",
    "    #모든 원소를 차례대로 heap 에 삽입\n",
    "    for value in iterable:\n",
    "        heapq.heappush(h, value)\n",
    "        \n",
    "    for i in range(len(h)):\n",
    "        result.append(heapq.heappop(h))\n",
    "    return result\n",
    "\n",
    "result = heapsort([1,3,5,7,9,2,4,6,8,10])\n",
    "print(result)\n",
    "    "
   ]
  },
  {
   "cell_type": "code",
   "execution_count": null,
   "metadata": {},
   "outputs": [],
   "source": [
    "#파이선은 최대 힙을 제공하지 않는다 \n",
    "#최대 힙을 구현할때에는 원소부호를 바꾸어야함"
   ]
  },
  {
   "cell_type": "code",
   "execution_count": 7,
   "metadata": {},
   "outputs": [
    {
     "name": "stdout",
     "output_type": "stream",
     "text": [
      "[10, 9, 8, 7, 6, 5, 4, 3, 2, 1]\n"
     ]
    }
   ],
   "source": [
    "import heapq\n",
    "\n",
    "def heapsort(iterable):\n",
    "    h = []\n",
    "    result = []\n",
    "    \n",
    "    #모든 원소를 차례대로 heap 에 삽입\n",
    "    for value in iterable:\n",
    "        heapq.heappush(h, -value)\n",
    "        \n",
    "    for i in range(len(h)):\n",
    "        result.append(-heapq.heappop(h))\n",
    "    return result\n",
    "\n",
    "result = heapsort([1,3,5,7,9,2,4,6,8,10])\n",
    "print(result)\n"
   ]
  },
  {
   "cell_type": "markdown",
   "metadata": {},
   "source": [
    "# bisect \n",
    "\n",
    "#### 파이썬으로 이진 탐색\n",
    "#### 정렬된 배열에서 특정 원소를 찾아낼때 자주 사용\n",
    "\n",
    "#### bisect_left(a,x) - 정렬된 순서를 유지하면서 리스트 a에 데이터 x를 삽입할 가장 왼쪽인덱스를 찾아주는 메소드\n",
    "#### bisect_right(a,x) - 정렬된 순서를 유지하면서 리스트 a에 데이터 x를 삽입할 가장 오른쪽 인덱스를 찾아주는 메소드"
   ]
  },
  {
   "cell_type": "code",
   "execution_count": 8,
   "metadata": {},
   "outputs": [
    {
     "name": "stdout",
     "output_type": "stream",
     "text": [
      "2\n",
      "4\n"
     ]
    }
   ],
   "source": [
    "#값이 특정범위 사이에있는 것을 효율적으로 쓸수있다\n",
    "\n",
    "from bisect import bisect_left, bisect_right\n",
    "\n",
    "a = [1,2,4,4,8]\n",
    "x = 4\n",
    "\n",
    "print(bisect_left(a,x))\n",
    "print(bisect_right(a,x))"
   ]
  },
  {
   "cell_type": "code",
   "execution_count": 10,
   "metadata": {},
   "outputs": [
    {
     "name": "stdout",
     "output_type": "stream",
     "text": [
      "right_index - 8\n",
      "left_index - 6\n",
      "2\n",
      "right_index - 6\n",
      "left_index - 0\n",
      "6\n"
     ]
    }
   ],
   "source": [
    "from bisect import bisect_left, bisect_right\n",
    "\n",
    "#값이 (left_value, right_value)인 데이터의 개수를 반환하는 함수\n",
    "\n",
    "def count_by_range(a, left_value, right_value):\n",
    "    right_index = bisect_right(a, right_value)\n",
    "    left_index = bisect_left(a, left_value)\n",
    "    print('right_index - {}'.format(right_index))\n",
    "    print('left_index - {}'.format(left_index))\n",
    "    return right_index - left_index\n",
    "\n",
    "a = [1,2,3,3,3,3,4,4,8,9]\n",
    "\n",
    "#값이 4인 데이터 갯수 출력\n",
    "print(count_by_range(a, 4, 4))\n",
    "\n",
    "#값이 [-1, 3] 범위안에 있는 데이터 출력\n",
    "print(count_by_range(a, -1, 3))\n",
    "    \n"
   ]
  },
  {
   "cell_type": "markdown",
   "metadata": {},
   "source": [
    "# Collections\n",
    "\n",
    "#### 자료구조\n",
    "\n",
    "#### deque -> 큐를 구현한다. -> list에서는 가장앞에 원소를 추가할 경우 // 가장 뒤의 원소를 제거할 경우에 O(N) 시간 복잡도가 걸리나 deque 를 사용하면 O(1) 으로 처리가 가능하다.\n",
    "#### deque는 인덱싱/슬라이싱을 사용할 수 없다 \n",
    "#### 첫번째 원소 제거 -> popleft() , 마지막원소 제거 -> pop() // 삽입의 경우 appendleft() , append()\n",
    "\n",
    "\n",
    "\n",
    "#### counter\n",
    "#### 등장횟수를 알려준다.\n"
   ]
  },
  {
   "cell_type": "code",
   "execution_count": 13,
   "metadata": {},
   "outputs": [
    {
     "name": "stdout",
     "output_type": "stream",
     "text": [
      "deque([1, 2, 3, 4, 5])\n",
      "[1, 2, 3, 4, 5]\n"
     ]
    }
   ],
   "source": [
    "from collections import deque\n",
    "\n",
    "data = deque([2,3,4])\n",
    "data.appendleft(1)\n",
    "data.append(5)\n",
    "\n",
    "print(data)\n",
    "#list형으로 변환\n",
    "print(list(data))"
   ]
  },
  {
   "cell_type": "code",
   "execution_count": 15,
   "metadata": {},
   "outputs": [
    {
     "name": "stdout",
     "output_type": "stream",
     "text": [
      "3\n",
      "1\n",
      "{'red': 1, 'blue': 3, 'green': 1}\n"
     ]
    }
   ],
   "source": [
    "from collections import Counter\n",
    "\n",
    "counter = Counter(['red', 'blue', 'green', 'blue', 'blue'])\n",
    "\n",
    "print(counter['blue'])\n",
    "print(counter['green'])\n",
    "#dict 으로 전환\n",
    "print(dict(counter))"
   ]
  },
  {
   "cell_type": "markdown",
   "metadata": {},
   "source": [
    "# MATH\n",
    "#### 팩토리얼, 제곱근, 최대공약수(GCD) "
   ]
  },
  {
   "cell_type": "code",
   "execution_count": 16,
   "metadata": {},
   "outputs": [
    {
     "name": "stdout",
     "output_type": "stream",
     "text": [
      "120\n"
     ]
    }
   ],
   "source": [
    "import math\n",
    "\n",
    "print(math.factorial(5))"
   ]
  },
  {
   "cell_type": "code",
   "execution_count": 17,
   "metadata": {},
   "outputs": [
    {
     "name": "stdout",
     "output_type": "stream",
     "text": [
      "2.6457513110645907\n"
     ]
    }
   ],
   "source": [
    "import math\n",
    "\n",
    "print(math.sqrt(7)) # 7의 제곱근을 출력"
   ]
  },
  {
   "cell_type": "code",
   "execution_count": 20,
   "metadata": {},
   "outputs": [
    {
     "name": "stdout",
     "output_type": "stream",
     "text": [
      "7\n",
      "3.141592653589793\n",
      "2.718281828459045\n"
     ]
    }
   ],
   "source": [
    "import math\n",
    "\n",
    "print(math.gcd(21, 14))\n",
    "\n",
    "print(math.pi)\n",
    "print(math.e)"
   ]
  },
  {
   "cell_type": "code",
   "execution_count": null,
   "metadata": {},
   "outputs": [],
   "source": []
  }
 ],
 "metadata": {
  "kernelspec": {
   "display_name": "Python 3",
   "language": "python",
   "name": "python3"
  },
  "language_info": {
   "codemirror_mode": {
    "name": "ipython",
    "version": 3
   },
   "file_extension": ".py",
   "mimetype": "text/x-python",
   "name": "python",
   "nbconvert_exporter": "python",
   "pygments_lexer": "ipython3",
   "version": "3.8.2"
  }
 },
 "nbformat": 4,
 "nbformat_minor": 4
}
