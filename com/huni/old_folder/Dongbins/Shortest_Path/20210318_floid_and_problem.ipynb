{
 "cells": [
  {
   "cell_type": "code",
   "execution_count": 4,
   "id": "miniature-anthony",
   "metadata": {},
   "outputs": [
    {
     "name": "stdout",
     "output_type": "stream",
     "text": [
      "4\n",
      "7\n",
      "1 2 4\n",
      "1 4 6\n",
      "2 1 3\n",
      "2 3 7\n",
      "3 1 5\n",
      "3 4 4\n",
      "4 3 2\n",
      "0 4 8 6 \n",
      "3 0 7 9 \n",
      "5 9 0 4 \n",
      "7 11 2 0 \n"
     ]
    }
   ],
   "source": [
    "# 플로이드 워셜\n",
    "\n",
    "INF = int(1e9)\n",
    "\n",
    "# 노드및 간선\n",
    "n = int(input())\n",
    "m = int(input())\n",
    "\n",
    "# 2차원리스트 -> 처음에 INF 로 초기화\n",
    "graph = [[INF] * (n + 1) for _ in range(n + 1)]\n",
    "\n",
    "# print(graph)\n",
    "\n",
    "for a in range(n+1):\n",
    "    for b in range(n+1):\n",
    "        if a==b:\n",
    "            graph[a][b] = 0\n",
    "# print(graph)\n",
    "\n",
    "for _ in range(m):\n",
    "    a,b,c = map(int,input().split())\n",
    "    graph[a][b] = c\n",
    "    \n",
    "for k in range(1, n+1):\n",
    "    for a in range(1, n+1):\n",
    "        for b in range(1, n+1):\n",
    "            graph[a][b] = min(graph[a][b], graph[a][k] + graph[k][b])\n",
    "            \n",
    "for a in range(1, n+1):\n",
    "    for b in range(1, n+1):\n",
    "        if graph[a][b] == INF:\n",
    "            print(\"no!! INF!!\", end=' ')\n",
    "        else:\n",
    "            print(graph[a][b], end=' ')\n",
    "    print()\n",
    "    \n"
   ]
  },
  {
   "cell_type": "code",
   "execution_count": null,
   "id": "planned-porter",
   "metadata": {},
   "outputs": [],
   "source": [
    "4\n",
    "7\n",
    "1 2 4\n",
    "1 4 6\n",
    "2 1 3\n",
    "2 3 7\n",
    "3 1 5\n",
    "3 4 4\n",
    "4 3 2"
   ]
  },
  {
   "cell_type": "code",
   "execution_count": 8,
   "id": "affected-advantage",
   "metadata": {},
   "outputs": [
    {
     "name": "stdout",
     "output_type": "stream",
     "text": [
      "5 7\n",
      "[[1000000000, 1000000000, 1000000000, 1000000000, 1000000000, 1000000000], [1000000000, 0, 1000000000, 1000000000, 1000000000, 1000000000], [1000000000, 1000000000, 0, 1000000000, 1000000000, 1000000000], [1000000000, 1000000000, 1000000000, 0, 1000000000, 1000000000], [1000000000, 1000000000, 1000000000, 1000000000, 0, 1000000000], [1000000000, 1000000000, 1000000000, 1000000000, 1000000000, 0]]\n",
      "1 2\n",
      "1 3\n",
      "1 4\n",
      "2 4\n",
      "3 4\n",
      "3 5\n",
      "4 5\n",
      "[[1000000000, 1000000000, 1000000000, 1000000000, 1000000000, 1000000000], [1000000000, 0, 1, 1, 1, 1000000000], [1000000000, 1, 0, 1000000000, 1, 1000000000], [1000000000, 1, 1000000000, 0, 1, 1], [1000000000, 1, 1, 1, 0, 1], [1000000000, 1000000000, 1000000000, 1, 1, 0]]\n",
      "4 5\n",
      "[[1000000000, 1000000000, 1000000000, 1000000000, 1000000000, 1000000000], [1000000000, 0, 1, 1, 1, 2], [1000000000, 1, 0, 2, 1, 2], [1000000000, 1, 2, 0, 1, 1], [1000000000, 1, 1, 1, 0, 1], [1000000000, 2, 2, 1, 1, 0]]\n",
      "3\n"
     ]
    }
   ],
   "source": [
    "# 미래도시\n",
    "\n",
    "INF = int(1e9)\n",
    "\n",
    "n,m = map(int, input().split())\n",
    "\n",
    "graph = [[INF] * (n+1) for _ in range(n+1)]\n",
    "\n",
    "# print(graph)\n",
    "\n",
    "for a in range(1, n+1):\n",
    "    for b in range(1, n+1):\n",
    "        if a == b:\n",
    "            graph[a][b] = 0\n",
    "print(graph)\n",
    "\n",
    "# 거쳐갈 수 있는 영역 체크\n",
    "for i in range(m):\n",
    "    a,b = map(int, input().split())\n",
    "    graph[a][b] = 1\n",
    "    graph[b][a] = 1\n",
    "\n",
    "print(graph)\n",
    "    \n",
    "x,k = map(int, input().split())\n",
    "\n",
    "for e in range(1, n+1):\n",
    "    for a in range(1, n+1):\n",
    "        for b in range(1, n+1):\n",
    "            graph[a][b] = min(graph[a][b], graph[a][e] + graph[e][b])\n",
    "\n",
    "print(graph)\n",
    "result = graph[1][k] + graph[k][x]\n",
    "\n",
    "print(result)"
   ]
  },
  {
   "cell_type": "code",
   "execution_count": null,
   "id": "illegal-french",
   "metadata": {},
   "outputs": [],
   "source": [
    "5 7 \n",
    "1 2\n",
    "1 3\n",
    "1 4\n",
    "2 4\n",
    "3 4\n",
    "3 5\n",
    "4 5 \n",
    "4 5"
   ]
  },
  {
   "cell_type": "code",
   "execution_count": null,
   "id": "intense-grounds",
   "metadata": {},
   "outputs": [],
   "source": [
    "# 전보\n",
    "\n",
    "import heapq\n",
    "\n"
   ]
  },
  {
   "cell_type": "code",
   "execution_count": null,
   "id": "statewide-delivery",
   "metadata": {},
   "outputs": [],
   "source": [
    "3 2 1\n",
    "1 2 4\n",
    "1 3 2\n",
    "\n",
    "2 4"
   ]
  },
  {
   "cell_type": "code",
   "execution_count": null,
   "id": "adjustable-colon",
   "metadata": {},
   "outputs": [],
   "source": []
  },
  {
   "cell_type": "code",
   "execution_count": null,
   "id": "removable-danger",
   "metadata": {},
   "outputs": [],
   "source": []
  },
  {
   "cell_type": "code",
   "execution_count": null,
   "id": "least-complaint",
   "metadata": {},
   "outputs": [],
   "source": []
  }
 ],
 "metadata": {
  "kernelspec": {
   "display_name": "Python 3",
   "language": "python",
   "name": "python3"
  },
  "language_info": {
   "codemirror_mode": {
    "name": "ipython",
    "version": 3
   },
   "file_extension": ".py",
   "mimetype": "text/x-python",
   "name": "python",
   "nbconvert_exporter": "python",
   "pygments_lexer": "ipython3",
   "version": "3.8.2"
  }
 },
 "nbformat": 4,
 "nbformat_minor": 5
}
