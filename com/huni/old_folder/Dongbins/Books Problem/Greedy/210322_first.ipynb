{
 "cells": [
  {
   "cell_type": "markdown",
   "id": "intended-branch",
   "metadata": {},
   "source": [
    "# 모험가 길드\n",
    "\n",
    "공포도 / 만들수있는 최대 그룹수\n",
    "\n",
    "### 입력 예시\n",
    "\n",
    "5\n",
    "\n",
    "2 3 1 2 2\n",
    "\n",
    "### 출력예시\n",
    "2"
   ]
  },
  {
   "cell_type": "code",
   "execution_count": 2,
   "id": "czech-evaluation",
   "metadata": {},
   "outputs": [
    {
     "name": "stdout",
     "output_type": "stream",
     "text": [
      "5\n",
      "2 3 1 2 2\n",
      "2\n"
     ]
    }
   ],
   "source": [
    "data_range = int(input())\n",
    "\n",
    "# data = []\n",
    "# for i in range(data_range):\n",
    "data = list(map(int, input().split()))\n",
    "    \n",
    "data.sort()\n",
    "\n",
    "# 현재 그룹의 모험가\n",
    "count = 0\n",
    "#결과\n",
    "result = 0\n",
    "for i in data:\n",
    "    count += 1\n",
    "    if count >= i:\n",
    "        result += 1\n",
    "        count = 0\n",
    "\n",
    "print(result)\n",
    "# count = 0\n",
    "# temp_sum = 0\n",
    "# for check in data:\n",
    "#     if check > data_range:\n",
    "#         continue\n",
    "#     temp_sum += check\n",
    "#     if temp_sum == data_range:\n",
    "#         temp_sum = 0\n",
    "#         count+=1\n",
    "#     elif temp_sum > data_range:\n",
    "#         temp_sum = check\n",
    "#         count+=1\n",
    "\n",
    "# print(count)"
   ]
  },
  {
   "cell_type": "code",
   "execution_count": null,
   "id": "treated-jacob",
   "metadata": {},
   "outputs": [],
   "source": [
    "# 풀이\n",
    "n = int(input())\n",
    "data = list(map(int, input().split()))\n",
    "data.sort()\n",
    "\n",
    "result = 0 # 총 그룹의 수\n",
    "count = 0 # 현재 그룹에 포함된 모험가의 수\n",
    "\n",
    "for i in data: # 공포도를 낮은 것부터 하나씩 확인하며\n",
    "    count += 1 # 현재 그룹에 해당 모험가를 포함시키기\n",
    "    if count >= i: # 현재 그룹에 포함된 모험가의 수가 현재의 공포도 이상이라면, 그룹 결성\n",
    "        result += 1 # 총 그룹의 수 증가시키기\n",
    "        count = 0 # 현재 그룹에 포함된 모험가의 수 초기화\n",
    "\n",
    "print(result) # 총 그룹의 수 출력"
   ]
  },
  {
   "cell_type": "code",
   "execution_count": 4,
   "id": "dirty-unemployment",
   "metadata": {},
   "outputs": [
    {
     "name": "stdout",
     "output_type": "stream",
     "text": [
      "23456\n"
     ]
    }
   ],
   "source": [
    "# test = \"1* 23456\"\n",
    "# print(eval(test))"
   ]
  },
  {
   "cell_type": "markdown",
   "id": "deluxe-indicator",
   "metadata": {},
   "source": [
    "# 곱하기 혹은 더하기\n",
    "\n",
    "가장 큰수가 되도록\n",
    "그러나 연산은 왼쪽부터 실행됨\n",
    "\n",
    "### 입력 예시\n",
    "\n",
    "02984\n",
    "\n",
    "### 출력 예시\n",
    "\n",
    "576\n",
    "\n",
    "### 입력 예시\n",
    "\n",
    "567\n",
    "\n",
    "### 출력 예시\n",
    "\n",
    "210"
   ]
  },
  {
   "cell_type": "code",
   "execution_count": 12,
   "id": "express-cigarette",
   "metadata": {},
   "outputs": [
    {
     "name": "stdout",
     "output_type": "stream",
     "text": [
      "567\n",
      "210\n"
     ]
    }
   ],
   "source": [
    "data = input()\n",
    "\n",
    "result = 0\n",
    "for idx, check in enumerate(data):\n",
    "    temp = int(check)\n",
    "    if idx == 0:\n",
    "        result = temp\n",
    "    else:\n",
    "        if result <= 1:\n",
    "            result += temp\n",
    "        else:\n",
    "            if temp <= 1:\n",
    "                result += temp\n",
    "            elif temp > 1 :\n",
    "                result *= temp\n",
    "print(result)\n",
    "            "
   ]
  },
  {
   "cell_type": "code",
   "execution_count": null,
   "id": "temporal-stream",
   "metadata": {},
   "outputs": [],
   "source": [
    "#풀이  \n",
    "data = input()\n",
    "\n",
    "# 첫 번째 문자를 숫자로 변경하여 대입\n",
    "result = int(data[0])\n",
    "\n",
    "for i in range(1, len(data)):\n",
    "    # 두 수 중에서 하나라도 '0' 혹은 '1'인 경우, 곱하기보다는 더하기 수행\n",
    "    num = int(data[i])\n",
    "    if num <= 1 or result <= 1:\n",
    "        result += num\n",
    "    else:\n",
    "        result *= num\n",
    "\n",
    "print(result)"
   ]
  },
  {
   "cell_type": "code",
   "execution_count": null,
   "id": "coastal-contrast",
   "metadata": {},
   "outputs": [],
   "source": []
  },
  {
   "cell_type": "code",
   "execution_count": null,
   "id": "after-certificate",
   "metadata": {},
   "outputs": [],
   "source": []
  }
 ],
 "metadata": {
  "kernelspec": {
   "display_name": "Python 3",
   "language": "python",
   "name": "python3"
  },
  "language_info": {
   "codemirror_mode": {
    "name": "ipython",
    "version": 3
   },
   "file_extension": ".py",
   "mimetype": "text/x-python",
   "name": "python",
   "nbconvert_exporter": "python",
   "pygments_lexer": "ipython3",
   "version": "3.8.2"
  }
 },
 "nbformat": 4,
 "nbformat_minor": 5
}
