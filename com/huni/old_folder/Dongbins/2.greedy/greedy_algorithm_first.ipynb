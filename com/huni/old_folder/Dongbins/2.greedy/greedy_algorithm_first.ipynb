{
 "cells": [
  {
   "cell_type": "markdown",
   "metadata": {},
   "source": [
    "# 거스름돈\n",
    "\n",
    "거스름돈이 500, 100, 50, 10원 동전이 무한히 존재\n",
    "거슬러줘야할돈이 N원일떄 거슬러줘야하는 동전의 최소 갯수를 구하자\n",
    "N은 항상 10의 배수"
   ]
  },
  {
   "cell_type": "code",
   "execution_count": 5,
   "metadata": {},
   "outputs": [
    {
     "name": "stdout",
     "output_type": "stream",
     "text": [
      "1260\n",
      "6\n"
     ]
    }
   ],
   "source": [
    "data = int(input())\n",
    "\n",
    "coin_count = 0\n",
    "\n",
    "if data >= 500:\n",
    "    coin_count += data // 500\n",
    "    data = data % 500\n",
    "if data >= 100:\n",
    "    coin_count += data // 100\n",
    "    data = data % 100\n",
    "if data >= 50:\n",
    "    coin_count += data // 50\n",
    "    data = data % 50\n",
    "if data >= 10:\n",
    "    coin_count += data // 10\n",
    "\n",
    "print(coin_count)\n"
   ]
  },
  {
   "cell_type": "code",
   "execution_count": 6,
   "metadata": {},
   "outputs": [
    {
     "name": "stdout",
     "output_type": "stream",
     "text": [
      "1260\n",
      "6\n"
     ]
    }
   ],
   "source": [
    "#해설\n",
    "data = int(input())\n",
    "\n",
    "coin_count = 0\n",
    "\n",
    "coin_type = [500, 100, 50 ,10]\n",
    "\n",
    "for result in coin_type:\n",
    "    coin_count += data // result\n",
    "    data = data % result\n",
    "\n",
    "print(coin_count)\n"
   ]
  },
  {
   "cell_type": "markdown",
   "metadata": {},
   "source": [
    "# 큰 수의 법칙\n",
    "\n",
    "배열의 크기 N, 숫자가 더해지는 횟수 M, 그리고 K가 주어짐\n",
    "(K는 가장 큰 숫자가 몇번까지 더해질수 있는지에 대한 숫자)\n",
    "\n",
    "입력 \n",
    "\n",
    "5 8 3\n",
    "\n",
    "2 4 5 4 6\n",
    "\n",
    "출력\n",
    "46"
   ]
  },
  {
   "cell_type": "code",
   "execution_count": 9,
   "metadata": {},
   "outputs": [
    {
     "name": "stdout",
     "output_type": "stream",
     "text": [
      "5 8 3\n",
      "2 4 5 4 6\n",
      "5 8 3\n",
      "[2, 4, 5, 4, 6]\n",
      "[6, 5, 4, 4, 2]\n",
      "46\n"
     ]
    }
   ],
   "source": [
    "n,m,k = map(int, input().split())\n",
    "\n",
    "data = list(map(int, input().split()))\n",
    "\n",
    "print(n,m,k)\n",
    "print(data)\n",
    "\n",
    "#정렬\n",
    "data.sort(reverse=True)\n",
    "print(data)\n",
    "\n",
    "#가장 큰수 / 두번쨰 큰수 할당\n",
    "first_data = data[0]\n",
    "second_data = data[1]\n",
    "\n",
    "#결과값\n",
    "result = 0\n",
    "#카운트값\n",
    "count = 0\n",
    "\n",
    "for check in range(m):\n",
    "    if count < k:\n",
    "        result += first_data\n",
    "        count += 1\n",
    "    else:\n",
    "        result += second_data\n",
    "        count = 0\n",
    "\n",
    "print(result)"
   ]
  },
  {
   "cell_type": "code",
   "execution_count": 10,
   "metadata": {},
   "outputs": [
    {
     "name": "stdout",
     "output_type": "stream",
     "text": [
      "5 8 3\n",
      "2 4 5 4 6\n",
      "46\n"
     ]
    }
   ],
   "source": [
    "#해설\n",
    "\n",
    "#m이 10000아래면 괜찮지만 100억정도되면 시간초과판정 -> 수학적으로 풀이\n",
    "\n",
    "#반복되는 수열에 대해서 파악해야한다.\n",
    "\n",
    "\n",
    "# N, M, K를 공백을 기준으로 구분하여 입력 받기\n",
    "n, m, k = map(int, input().split())\n",
    "# N개의 수를 공백을 기준으로 구분하여 입력 받기\n",
    "data = list(map(int, input().split()))\n",
    "\n",
    "data.sort() # 입력 받은 수들 정렬하기\n",
    "first = data[n - 1] # 가장 큰 수\n",
    "second = data[n - 2] # 두 번째로 큰 수\n",
    "\n",
    "# 가장 큰 수가 더해지는 횟수 계산\n",
    "# m / k + 1 -> 이것은 1개의 수열내에서 이 반복되는 횟수(전체 수열은 큰수를 k번 더한것 + 두번쨰로 큰수를 더한것)\n",
    "# * k 는 반복되는 횟수 ()\n",
    "\n",
    "#두 번쨰 줄은 나머지를 구한것\n",
    "count = int(m / (k + 1)) * k\n",
    "count += m % (k + 1)\n",
    "\n",
    "result = 0\n",
    "result += (count) * first # 가장 큰 수 더하기\n",
    "result += (m - count) * second # 두 번째로 큰 수 더하기\n",
    "\n",
    "print(result) # 최종 답안 출력"
   ]
  },
  {
   "cell_type": "markdown",
   "metadata": {},
   "source": [
    "# 숫자 카드 게임\n",
    "\n",
    "1. 숫자가 쓰인 카드 N * M 개 존재 (N은 행, M은 열)\n",
    "\n",
    "2. 뽑고자 하는 카드의 행을 선택\n",
    "\n",
    "3. 선택한 행의 가장 낮은 숫자를 뽑는다\n",
    "\n",
    "4. 최종적으로 가장 높은 숫자를 뽑을 수 있도록 고려해야한다.\n",
    "\n",
    "### 즉 각 숫자중에 가장 작은숫자들끼리 행마다 뽑아서 그중에 가장 큰 수를 출력해주면된다.\n",
    "\n",
    "입력예시\n",
    "\n",
    "3 3 \n",
    "\n",
    "3 1 2 \n",
    "\n",
    "4 1 4\n",
    "\n",
    "2 2 2 \n",
    "\n",
    "출력 \n",
    "\n",
    "2\n",
    "\n",
    "입력 \n",
    "\n",
    "2 4 \n",
    "\n",
    "7 3 1 8 \n",
    "\n",
    "3 3 3 4\n",
    "\n",
    "출력 \n",
    "\n",
    "3"
   ]
  },
  {
   "cell_type": "code",
   "execution_count": 15,
   "metadata": {},
   "outputs": [
    {
     "name": "stdout",
     "output_type": "stream",
     "text": [
      "2 4\n",
      "7 3 1 8\n",
      "3 3 3 4\n",
      "[[7, 3, 1, 8], [3, 3, 3, 4]]\n",
      "3\n"
     ]
    }
   ],
   "source": [
    "line_data = list(map(int, input().split()))\n",
    "\n",
    "all_data = []\n",
    "for make_all in range(line_data[0]):\n",
    "    all_data.append(list(map(int, input().split())))\n",
    "    \n",
    "print(all_data)\n",
    "\n",
    "# print(min(all_data[0]))\n",
    "check_list = []\n",
    "for make_min_data in all_data:\n",
    "    check_list.append(min(make_min_data))\n",
    "\n",
    "print(max(check_list))\n"
   ]
  },
  {
   "cell_type": "code",
   "execution_count": 16,
   "metadata": {},
   "outputs": [
    {
     "name": "stdout",
     "output_type": "stream",
     "text": [
      "2 4 \n",
      "7 3 1 8\n",
      "3 3 3 4\n",
      "3\n"
     ]
    }
   ],
   "source": [
    "# 풀이\n",
    "# N, M을 공백을 기준으로 구분하여 입력 받기\n",
    "n, m = map(int, input().split())\n",
    "\n",
    "result = 0\n",
    "# 한 줄씩 입력 받아 확인하기\n",
    "for i in range(n):\n",
    "    data = list(map(int, input().split()))\n",
    "    # 현재 줄에서 '가장 작은 수' 찾기\n",
    "    min_value = 10001\n",
    "    for a in data:\n",
    "        min_value = min(min_value, a)\n",
    "    # '가장 작은 수'들 중에서 가장 큰 수 찾기\n",
    "    result = max(result, min_value)\n",
    "\n",
    "print(result) # 최종 답안 출력"
   ]
  },
  {
   "cell_type": "markdown",
   "metadata": {},
   "source": [
    "# 1이 될 때 까지\n",
    "\n",
    "\n",
    "어떤 수 N 이 1이 될떄 까지 다음 2가지 과정을 수행한다.\n",
    "\n",
    "\n",
    "#### 1. N에서 1을 뺸다\n",
    "\n",
    "#### 2. N을 K로 나눈다.\n",
    "\n",
    "N이 1이 될떄가지 수행해야하는 최소 횟수를 구하시오.\n",
    "\n",
    "\n",
    "입력 예시\n",
    "\n",
    "25 5\n",
    "\n",
    "\n",
    "출력\n",
    "\n",
    "2\n",
    "\n",
    "\n",
    "\n"
   ]
  },
  {
   "cell_type": "code",
   "execution_count": 19,
   "metadata": {},
   "outputs": [
    {
     "name": "stdout",
     "output_type": "stream",
     "text": [
      "15 30\n",
      "14\n"
     ]
    }
   ],
   "source": [
    "n,k = map(int, input().split())\n",
    "\n",
    "count = 0\n",
    "while(n != 1):\n",
    "    if n % k == 0:\n",
    "        n = n // k\n",
    "        count += 1\n",
    "    else:\n",
    "        n -= 1\n",
    "        count += 1\n",
    "        \n",
    "print(count)"
   ]
  },
  {
   "cell_type": "code",
   "execution_count": 22,
   "metadata": {},
   "outputs": [
    {
     "name": "stdout",
     "output_type": "stream",
     "text": [
      "19 4\n",
      "target = 16\n",
      "result = 3\n",
      "n = 4\n",
      "target = 4\n",
      "result = 4\n",
      "n = 1\n",
      "target = 0\n",
      "result = 6\n",
      "0\n",
      "5\n"
     ]
    }
   ],
   "source": [
    "#해설\n",
    "\n",
    "# N, K공백을 기준으로 구분하여 입력 받기\n",
    "n, k = map(int, input().split())\n",
    "\n",
    "result = 0\n",
    "\n",
    "while True:\n",
    "    # N이 K로 나누어 떨어지는 수가 될 때까지만 1씩 빼기\n",
    "    target = (n // k) * k\n",
    "    result += (n - target)\n",
    "    \n",
    "    print(\"target = {}\".format(target))\n",
    "    \n",
    "    print(\"result = {}\".format(result))\n",
    "    n = target\n",
    "    # N이 K보다 작을 때 (더 이상 나눌 수 없을 때) 반복문 탈출\n",
    "    if n < k:\n",
    "        break\n",
    "    # K로 나누기\n",
    "    result += 1\n",
    "    n //= k\n",
    "    print(\"n = {}\".format(n))\n",
    "\n",
    "print(n)\n",
    "# 마지막으로 남은 수에 대하여 1씩 빼기\n",
    "result += (n - 1)\n",
    "print(result)"
   ]
  },
  {
   "cell_type": "code",
   "execution_count": null,
   "metadata": {},
   "outputs": [],
   "source": []
  }
 ],
 "metadata": {
  "kernelspec": {
   "display_name": "Python 3",
   "language": "python",
   "name": "python3"
  },
  "language_info": {
   "codemirror_mode": {
    "name": "ipython",
    "version": 3
   },
   "file_extension": ".py",
   "mimetype": "text/x-python",
   "name": "python",
   "nbconvert_exporter": "python",
   "pygments_lexer": "ipython3",
   "version": "3.7.6"
  }
 },
 "nbformat": 4,
 "nbformat_minor": 4
}
