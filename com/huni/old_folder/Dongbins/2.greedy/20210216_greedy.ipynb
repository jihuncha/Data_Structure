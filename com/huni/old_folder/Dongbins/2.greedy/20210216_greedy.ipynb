{
 "cells": [
  {
   "cell_type": "markdown",
   "id": "important-viewer",
   "metadata": {},
   "source": [
    "# 문제\n",
    "한 개의 회의실이 있는데 이를 사용하고자 하는 N개의 회의에 대하여 회의실 사용표를 만들려고 한다. 각 회의 I에 대해 시작시간과 끝나는 시간이 주어져 있고, 각 회의가 겹치지 않게 하면서 회의실을 사용할 수 있는 회의의 최대 개수를 찾아보자. 단, 회의는 한번 시작하면 중간에 중단될 수 없으며 한 회의가 끝나는 것과 동시에 다음 회의가 시작될 수 있다. 회의의 시작시간과 끝나는 시간이 같을 수도 있다. 이 경우에는 시작하자마자 끝나는 것으로 생각하면 된다.\n",
    "\n",
    "#### 입력\n",
    "\n",
    "첫째 줄에 회의의 수 N(1 ≤ N ≤ 100,000)이 주어진다. 둘째 줄부터 N+1 줄까지 각 회의의 정보가 주어지는데 이것은 공백을 사이에 두고 회의의 시작시간과 끝나는 시간이 주어진다. 시작 시간과 끝나는 시간은 231-1보다 작거나 같은 자연수 또는 0이다.\n",
    "\n",
    "#### 출력\n",
    "\n",
    "첫째 줄에 최대 사용할 수 있는 회의의 최대 개수를 출력한다.\n",
    "\n",
    "#### 예제 입력 1 \n",
    "\n",
    "11\n",
    "\n",
    "1 4\n",
    "\n",
    "3 5\n",
    "\n",
    "0 6\n",
    "\n",
    "5 7\n",
    "\n",
    "3 8\n",
    "\n",
    "5 9\n",
    "\n",
    "6 10\n",
    "\n",
    "8 11\n",
    "\n",
    "8 12\n",
    "\n",
    "2 13\n",
    "\n",
    "12 14\n",
    "\n",
    "#### 예제 출력 1 \n",
    "\n",
    "4"
   ]
  },
  {
   "cell_type": "code",
   "execution_count": 11,
   "id": "incorporate-third",
   "metadata": {},
   "outputs": [
    {
     "name": "stdout",
     "output_type": "stream",
     "text": [
      "11\n",
      "1 4\n",
      "3 5\n",
      "0 6\n",
      "5 7\n",
      "3 8\n",
      "5 9\n",
      "6 10\n",
      "8 11\n",
      "8 12\n",
      "2 13\n",
      "12 14\n",
      "4\n"
     ]
    }
   ],
   "source": [
    "conference_conut = int(input())\n",
    "\n",
    "data = []\n",
    "time_data = []\n",
    "for i in range(conference_conut):\n",
    "    data.append(list(map(int, input().split())))\n",
    "    \n",
    "data.sort(key=lambda x: x[1] - x[0])\n",
    "# print(data.sort(key=lambda x: x[1] - x[0]))\n",
    "# print(data)\n",
    "\n",
    "maintain_list = set()\n",
    "result_list = []\n",
    "for idx, make_list in enumerate(data):\n",
    "    if idx == 0:\n",
    "        result_list.append(make_list)\n",
    "        for all_num in range(make_list[0], make_list[1] + 1):\n",
    "            maintain_list.add(all_num)\n",
    "#         print('first', maintain_list)\n",
    "    else:\n",
    "        check_boolean = False\n",
    "        for all_num in range(make_list[0] + 1, make_list[1]):\n",
    "#             print(\"test :\", all_num)\n",
    "            if all_num in maintain_list:\n",
    "                check_boolean = True\n",
    "                break\n",
    "        if not check_boolean:\n",
    "            result_list.append(make_list)\n",
    "            for add_maintain in range(make_list[0], make_list[1] + 1):\n",
    "                maintain_list.add(add_maintain)\n",
    "#             print('else', maintain_list)\n",
    "\n",
    "        \n",
    "print(len(result_list))\n",
    "\n",
    "# count = 0\n",
    "# for "
   ]
  },
  {
   "cell_type": "code",
   "execution_count": 12,
   "id": "burning-handling",
   "metadata": {},
   "outputs": [
    {
     "ename": "SyntaxError",
     "evalue": "invalid syntax (<ipython-input-12-788f1c847539>, line 2)",
     "output_type": "error",
     "traceback": [
      "\u001b[1;36m  File \u001b[1;32m\"<ipython-input-12-788f1c847539>\"\u001b[1;36m, line \u001b[1;32m2\u001b[0m\n\u001b[1;33m    1 4\u001b[0m\n\u001b[1;37m      ^\u001b[0m\n\u001b[1;31mSyntaxError\u001b[0m\u001b[1;31m:\u001b[0m invalid syntax\n"
     ]
    }
   ],
   "source": [
    "11\n",
    "1 4\n",
    "3 5\n",
    "0 6\n",
    "5 7\n",
    "3 8\n",
    "5 9\n",
    "6 10\n",
    "8 11\n",
    "8 12\n",
    "2 13\n",
    "12 14"
   ]
  },
  {
   "cell_type": "code",
   "execution_count": 18,
   "id": "interim-literature",
   "metadata": {},
   "outputs": [
    {
     "name": "stdout",
     "output_type": "stream",
     "text": [
      "11\n",
      "1 4\n",
      "3 5\n",
      "0 6\n",
      "5 7\n",
      "3 8\n",
      "5 9\n",
      "6 10\n",
      "8 11\n",
      "8 12\n",
      "2 13\n",
      "12 14\n",
      "4\n"
     ]
    }
   ],
   "source": [
    "conference_conut = int(input())\n",
    "\n",
    "data = []\n",
    "time_data = []\n",
    "for i in range(conference_conut):\n",
    "    data.append(list(map(int, input().split())))\n",
    "    \n",
    "#짧은 길이 순서대로 정렬\n",
    "data.sort(key=lambda x: x[1] - x[0])\n",
    "\n",
    "#중복관리를 위해 set 사용 -> 내가 사용한 숫자(회의가 잡혀 있는 시간 표기)\n",
    "maintain_list = set()\n",
    "#결과를 담을 list\n",
    "result_list = []\n",
    "\n",
    "#temp_length_list\n",
    "temp_length_list = []\n",
    "for idx, make_list in enumerate(data):\n",
    "    # 초기값을 담아준다.\n",
    "    if idx == 0:\n",
    "        result_list.append(make_list)\n",
    "        for all_num in range(make_list[0], make_list[1] + 1):\n",
    "            maintain_list.add(all_num)\n",
    "    else:\n",
    "        check_boolean = False\n",
    "        for all_num in range(make_list[0] + 1, make_list[1]):\n",
    "            #이미 해당 시간대에 회의가 잡혀있는 경우.\n",
    "            if all_num in maintain_list:\n",
    "                check_boolean = True\n",
    "                break\n",
    "        if not check_boolean:\n",
    "            result_list.append(make_list)\n",
    "            for add_maintain in range(make_list[0], make_list[1] + 1):\n",
    "                maintain_list.add(add_maintain)\n",
    "\n",
    "        \n",
    "temp_length_list.append(len(result_list))\n",
    "\n",
    "#시간이 먼저인 순으로\n",
    "data.sort(key=lambda x: x[0])\n",
    "\n",
    "#중복관리를 위해 set 사용 -> 내가 사용한 숫자(회의가 잡혀 있는 시간 표기)\n",
    "maintain_list_second = set()\n",
    "#결과를 담을 list\n",
    "result_list_second = []\n",
    "\n",
    "for idx, make_list in enumerate(data):\n",
    "    # 초기값을 담아준다.\n",
    "    if idx == 0:\n",
    "        result_list_second.append(make_list)\n",
    "        for all_num in range(make_list[0], make_list[1] + 1):\n",
    "            maintain_list_second.add(all_num)\n",
    "    else:\n",
    "        check_boolean = False\n",
    "        for all_num in range(make_list[0] + 1, make_list[1]):\n",
    "            #이미 해당 시간대에 회의가 잡혀있는 경우.\n",
    "            if all_num in maintain_list_second:\n",
    "                check_boolean = True\n",
    "                break\n",
    "        if not check_boolean:\n",
    "            result_list_second.append(make_list)\n",
    "            for add_maintain in range(make_list[0], make_list[1] + 1):\n",
    "                maintain_list_second.add(add_maintain)\n",
    "\n",
    "        \n",
    "temp_length_list.append(len(result_list_second))\n",
    "\n",
    "print(max(temp_length_list))"
   ]
  },
  {
   "cell_type": "code",
   "execution_count": 19,
   "id": "requested-closer",
   "metadata": {},
   "outputs": [
    {
     "ename": "SyntaxError",
     "evalue": "invalid syntax (<ipython-input-19-a620f7ae7190>, line 2)",
     "output_type": "error",
     "traceback": [
      "\u001b[1;36m  File \u001b[1;32m\"<ipython-input-19-a620f7ae7190>\"\u001b[1;36m, line \u001b[1;32m2\u001b[0m\n\u001b[1;33m    3 5\u001b[0m\n\u001b[1;37m      ^\u001b[0m\n\u001b[1;31mSyntaxError\u001b[0m\u001b[1;31m:\u001b[0m invalid syntax\n"
     ]
    }
   ],
   "source": [
    "3\n",
    "3 5\n",
    "1 4\n",
    "4 8"
   ]
  },
  {
   "cell_type": "code",
   "execution_count": 21,
   "id": "indie-intake",
   "metadata": {},
   "outputs": [
    {
     "name": "stdout",
     "output_type": "stream",
     "text": [
      "3\n",
      "3 5\n",
      "1 4\n",
      "4 8\n",
      "2\n"
     ]
    }
   ],
   "source": [
    "import sys\n",
    "\n",
    "N = int(input())\n",
    "meeting = []\n",
    "for _ in range(N):\n",
    "    meeting.append(list(map(int, input().split())))\n",
    "\n",
    "meeting = sorted(meeting, key = lambda x: [x[1], x[0]])\n",
    "\n",
    "\n",
    "#빨리 끝나는 것 중 가장 빨리 시작하는 순서대로 더해준다.\n",
    "max_meeting = 0\n",
    "start = 0\n",
    "for meet in meeting:\n",
    "    if meet[0] >= start:\n",
    "        start = meet[1]\n",
    "        max_meeting += 1\n",
    "        \n",
    "print(max_meeting)"
   ]
  },
  {
   "cell_type": "code",
   "execution_count": null,
   "id": "accepting-winter",
   "metadata": {},
   "outputs": [],
   "source": []
  }
 ],
 "metadata": {
  "kernelspec": {
   "display_name": "Python 3",
   "language": "python",
   "name": "python3"
  },
  "language_info": {
   "codemirror_mode": {
    "name": "ipython",
    "version": 3
   },
   "file_extension": ".py",
   "mimetype": "text/x-python",
   "name": "python",
   "nbconvert_exporter": "python",
   "pygments_lexer": "ipython3",
   "version": "3.8.2"
  }
 },
 "nbformat": 4,
 "nbformat_minor": 5
}
