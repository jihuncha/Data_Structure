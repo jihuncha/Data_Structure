{
 "cells": [
  {
   "cell_type": "markdown",
   "metadata": {},
   "source": [
    "### 문제\n",
    "상근이는 요즘 설탕공장에서 설탕을 배달하고 있다. 상근이는 지금 사탕가게에 설탕을 정확하게 N킬로그램을 배달해야 한다. 설탕공장에서 만드는 설탕은 봉지에 담겨져 있다. 봉지는 3킬로그램 봉지와 5킬로그램 봉지가 있다.\n",
    "\n",
    "상근이는 귀찮기 때문에, 최대한 적은 봉지를 들고 가려고 한다. 예를 들어, 18킬로그램 설탕을 배달해야 할 때, 3킬로그램 봉지 6개를 가져가도 되지만, 5킬로그램 3개와 3킬로그램 1개를 배달하면, 더 적은 개수의 봉지를 배달할 수 있다.\n",
    "\n",
    "상근이가 설탕을 정확하게 N킬로그램 배달해야 할 때, 봉지 몇 개를 가져가면 되는지 그 수를 구하는 프로그램을 작성하시오.\n",
    "\n",
    "#### 입력\n",
    "첫째 줄에 N이 주어진다. (3 ≤ N ≤ 5000)\n",
    "\n",
    "#### 출력\n",
    "상근이가 배달하는 봉지의 최소 개수를 출력한다. 만약, 정확하게 N킬로그램을 만들 수 없다면 -1을 출력한다.\n",
    "\n",
    "예제 입력 1 \n",
    "18\n",
    "예제 출력 1 \n",
    "4\n",
    "\n",
    "\n",
    "예제 입력 2 \n",
    "4\n",
    "예제 출력 2 \n",
    "-1\n",
    "\n",
    "\n",
    "예제 입력 3 \n",
    "6\n",
    "예제 출력 3 \n",
    "2\n",
    "\n",
    "\n",
    "예제 입력 4 \n",
    "9\n",
    "예제 출력 4 \n",
    "3\n",
    "\n",
    "\n",
    "예제 입력 5 \n",
    "11\n",
    "예제 출력 5 \n",
    "3"
   ]
  },
  {
   "cell_type": "code",
   "execution_count": 25,
   "metadata": {},
   "outputs": [
    {
     "name": "stdout",
     "output_type": "stream",
     "text": [
      "11\n",
      "fice -  2\n",
      "temp L:  1\n",
      "hola\n",
      "Test2  3\n",
      "3\n"
     ]
    }
   ],
   "source": [
    "data = int(input())\n",
    "\n",
    "# 나눌수 없는 경우\n",
    "# if data % 3 != 0 or data % 5 != 0:\n",
    "#     print(-1)\n",
    "    \n",
    "count = 0\n",
    "five_count = 0\n",
    "three_count = 0\n",
    "# result = data\n",
    "temp = 0\n",
    "\n",
    "if data >= 5:\n",
    "    if data % 5 ==0:\n",
    "        count += data // 5\n",
    "        print(\"Test \", count)\n",
    "    else:\n",
    "        five_count = data // 5\n",
    "        count += five_count\n",
    "        temp = data % 5\n",
    "        print(\"fice - \" , five_count)\n",
    "        print(\"temp L: \", temp)\n",
    "        for test in range(five_count + 1):\n",
    "            if temp % 3 == 0:\n",
    "#                 print(test)\n",
    "                count += temp // 3\n",
    "                print(\"Test2 \", count)\n",
    "                break\n",
    "            else:\n",
    "                print(\"hola\")\n",
    "                count -= 1\n",
    "                temp += 5\n",
    "                \n",
    "else:\n",
    "    if data % 3 ==0:\n",
    "        count += 1\n",
    "    else :\n",
    "        count = -1\n",
    "\n",
    "if count ==0:\n",
    "    count = -1\n",
    "\n",
    "print(count)\n"
   ]
  },
  {
   "cell_type": "code",
   "execution_count": 30,
   "metadata": {},
   "outputs": [
    {
     "name": "stdout",
     "output_type": "stream",
     "text": [
      "11\n",
      "3\n"
     ]
    }
   ],
   "source": [
    "data = int(input())\n",
    "    \n",
    "count = 0\n",
    "five_count = 0\n",
    "temp = 0\n",
    "\n",
    "if data >= 5:\n",
    "    # 5이상이고 5로 나누어 떨어지는경우\n",
    "    if data % 5 == 0:\n",
    "        count += data // 5\n",
    "    else:\n",
    "        # 5의 몫과 나머지를 구함\n",
    "        five_count = data // 5\n",
    "        # 5의 몫만큼 더해둔다.\n",
    "        count += five_count\n",
    "        temp = data % 5\n",
    "        # 목이 0인경우도 실행해야 하기때문에 + 1\n",
    "        for test in range(five_count + 1):\n",
    "            # 3으로 나누어떨어지는 경우는 더해주고 빠져나간다.\n",
    "            if temp % 3 == 0:\n",
    "                count += temp // 3\n",
    "                break\n",
    "            # 3으로 나누어 떨어지지 않는 경우는 몫을 더하여 다시 실행한다.\n",
    "            else:\n",
    "                count -= 1\n",
    "                temp += 5\n",
    "                \n",
    "else:\n",
    "    if data % 3 == 0:\n",
    "        count += 1\n",
    "    else :\n",
    "        count = -1\n",
    "\n",
    "if count == 0:\n",
    "    count = -1\n",
    "\n",
    "print(count)\n"
   ]
  },
  {
   "cell_type": "code",
   "execution_count": 35,
   "metadata": {},
   "outputs": [
    {
     "name": "stdout",
     "output_type": "stream",
     "text": [
      "18\n",
      "[6, 4]\n",
      "4\n"
     ]
    }
   ],
   "source": [
    "from sys import *\n",
    "from math import *\n",
    "\n",
    "#ceil 숫자 올림. -> 2.3 이여도 3\n",
    "\n",
    "N = int(input())\n",
    "L = []\n",
    "for a in range(ceil(N/5)+1):\n",
    "    for b in range(ceil(N/3)+1):\n",
    "        if 5*a + 3*b == N:\n",
    "            L.append(a+b)\n",
    "print(L)\n",
    "if len(L) == 0:\n",
    "    print(-1)\n",
    "else:\n",
    "    print(min(L))"
   ]
  },
  {
   "cell_type": "code",
   "execution_count": 32,
   "metadata": {},
   "outputs": [
    {
     "name": "stdout",
     "output_type": "stream",
     "text": [
      "18\n",
      "4\n"
     ]
    }
   ],
   "source": [
    "n=int(input())\n",
    "temp=0\n",
    "while True:\n",
    "    if n%5==0:\n",
    "        print(temp+(n//5))\n",
    "        break\n",
    "    n=n-3\n",
    "    temp+=1\n",
    "    if n<3 and n!=0:\n",
    "        print(-1)\n",
    "        break"
   ]
  },
  {
   "cell_type": "code",
   "execution_count": 36,
   "metadata": {},
   "outputs": [
    {
     "name": "stdout",
     "output_type": "stream",
     "text": [
      "18\n",
      "4\n"
     ]
    }
   ],
   "source": [
    "N = int(input())\n",
    "cnt = 0\n",
    "arr = []\n",
    "while N>=0 :\n",
    "    if N % 3 == 0:\n",
    "        arr.append(cnt+N//3)\n",
    "    N-=5\n",
    "    cnt+=1\n",
    "print(min(arr) if len(arr) else -1)"
   ]
  },
  {
   "cell_type": "code",
   "execution_count": 38,
   "metadata": {},
   "outputs": [
    {
     "name": "stdout",
     "output_type": "stream",
     "text": [
      "3\n"
     ]
    }
   ],
   "source": [
    "import math\n",
    "print(math.ceil(2.2))"
   ]
  },
  {
   "cell_type": "markdown",
   "metadata": {},
   "source": [
    "### 문제\n",
    "인하은행에는 ATM이 1대밖에 없다. 지금 이 ATM앞에 N명의 사람들이 줄을 서있다. 사람은 1번부터 N번까지 번호가 매겨져 있으며, i번 사람이 돈을 인출하는데 걸리는 시간은 Pi분이다.\n",
    "\n",
    "사람들이 줄을 서는 순서에 따라서, 돈을 인출하는데 필요한 시간의 합이 달라지게 된다. 예를 들어, 총 5명이 있고, P1 = 3, P2 = 1, P3 = 4, P4 = 3, P5 = 2 인 경우를 생각해보자. [1, 2, 3, 4, 5] 순서로 줄을 선다면, 1번 사람은 3분만에 돈을 뽑을 수 있다. 2번 사람은 1번 사람이 돈을 뽑을 때 까지 기다려야 하기 때문에, 3+1 = 4분이 걸리게 된다. 3번 사람은 1번, 2번 사람이 돈을 뽑을 때까지 기다려야 하기 때문에, 총 3+1+4 = 8분이 필요하게 된다. 4번 사람은 3+1+4+3 = 11분, 5번 사람은 3+1+4+3+2 = 13분이 걸리게 된다. 이 경우에 각 사람이 돈을 인출하는데 필요한 시간의 합은 3+4+8+11+13 = 39분이 된다.\n",
    "\n",
    "줄을 [2, 5, 1, 4, 3] 순서로 줄을 서면, 2번 사람은 1분만에, 5번 사람은 1+2 = 3분, 1번 사람은 1+2+3 = 6분, 4번 사람은 1+2+3+3 = 9분, 3번 사람은 1+2+3+3+4 = 13분이 걸리게 된다. 각 사람이 돈을 인출하는데 필요한 시간의 합은 1+3+6+9+13 = 32분이다. 이 방법보다 더 필요한 시간의 합을 최소로 만들 수는 없다.\n",
    "\n",
    "줄을 서 있는 사람의 수 N과 각 사람이 돈을 인출하는데 걸리는 시간 Pi가 주어졌을 때, 각 사람이 돈을 인출하는데 필요한 시간의 합의 최솟값을 구하는 프로그램을 작성하시오.\n",
    "\n",
    "### 입력\n",
    "첫째 줄에 사람의 수 N(1 ≤ N ≤ 1,000)이 주어진다. 둘째 줄에는 각 사람이 돈을 인출하는데 걸리는 시간 Pi가 주어진다. (1 ≤ Pi ≤ 1,000)\n",
    "\n",
    "### 출력\n",
    "첫째 줄에 각 사람이 돈을 인출하는데 필요한 시간의 합의 최솟값을 출력한다.\n",
    "\n",
    "#### 예제 입력 1 \n",
    "\n",
    "5\n",
    "\n",
    "3 1 4 3 2\n",
    "\n",
    "#### 예제 출력 1 \n",
    "\n",
    "32"
   ]
  },
  {
   "cell_type": "code",
   "execution_count": 39,
   "metadata": {},
   "outputs": [
    {
     "name": "stdout",
     "output_type": "stream",
     "text": [
      "5\n",
      "3 1 4 3 2\n",
      "32\n"
     ]
    }
   ],
   "source": [
    "data_len = int(input())\n",
    "\n",
    "data = list(map(int, input().split()))\n",
    "\n",
    "data.sort()\n",
    "\n",
    "result = 0\n",
    "for idx, make_result in enumerate(data):\n",
    "    result += make_result * (data_len - idx)\n",
    "\n",
    "print(result)\n"
   ]
  },
  {
   "cell_type": "markdown",
   "metadata": {},
   "source": [
    "### 문제\n",
    "준규가 가지고 있는 동전은 총 N종류이고, 각각의 동전을 매우 많이 가지고 있다.\n",
    "\n",
    "동전을 적절히 사용해서 그 가치의 합을 K로 만들려고 한다. 이때 필요한 동전 개수의 최솟값을 구하는 프로그램을 작성하시오.\n",
    "\n",
    "### 입력\n",
    "첫째 줄에 N과 K가 주어진다. (1 ≤ N ≤ 10, 1 ≤ K ≤ 100,000,000)\n",
    "\n",
    "둘째 줄부터 N개의 줄에 동전의 가치 Ai가 오름차순으로 주어진다. (1 ≤ Ai ≤ 1,000,000, A1 = 1, i ≥ 2인 경우에 Ai는 Ai-1의 배수)\n",
    "\n",
    "### 출력\n",
    "첫째 줄에 K원을 만드는데 필요한 동전 개수의 최솟값을 출력한다.\n",
    "\n",
    "#### 입력 \n",
    "\n",
    "10 4200\n",
    "\n",
    "\n",
    "1\n",
    "5\n",
    "10\n",
    "50\n",
    "100\n",
    "500\n",
    "1000\n",
    "5000\n",
    "10000\n",
    "50000\n",
    "\n",
    "#### 출력\n",
    "\n",
    "6"
   ]
  },
  {
   "cell_type": "code",
   "execution_count": 44,
   "metadata": {},
   "outputs": [
    {
     "name": "stdout",
     "output_type": "stream",
     "text": [
      "10 4200\n",
      "10 4200\n",
      "1\n",
      "5\n",
      "10\n",
      "50\n",
      "100\n",
      "500\n",
      "1000\n",
      "5000\n",
      "10000\n",
      "50000\n",
      "[1, 5, 10, 50, 100, 500, 1000, 5000, 10000, 50000]\n",
      "6\n"
     ]
    }
   ],
   "source": [
    "n,k = input().split()\n",
    "\n",
    "# print(n, k)\n",
    "n = int(n)\n",
    "k = int(k)\n",
    "\n",
    "coin_type = []\n",
    "\n",
    "for make_coin in range(n):\n",
    "    coin_type.append(int(input()))\n",
    "    \n",
    "# print(coin_type)\n",
    "\n",
    "coin_type.sort(reverse=True)\n",
    "\n",
    "result = 0\n",
    "\n",
    "for make_result in coin_type:\n",
    "    if k >= make_result:\n",
    "        result += k // make_result\n",
    "        k = k % make_result\n",
    "\n",
    "print(result)"
   ]
  },
  {
   "cell_type": "code",
   "execution_count": null,
   "metadata": {},
   "outputs": [],
   "source": [
    "N, K = map(int, input().split())\n",
    "A = []\n",
    "for i in range(N):\n",
    "    A.append(int(input()))\n",
    "A.sort()\n",
    "A.reverse()\n",
    "coin = 0\n",
    "\n",
    "for i in range(len(A)):\n",
    "    coin += K // A[i]\n",
    "    K %= A[i]\n",
    "\n",
    "print(coin)"
   ]
  },
  {
   "cell_type": "code",
   "execution_count": null,
   "metadata": {},
   "outputs": [],
   "source": []
  }
 ],
 "metadata": {
  "kernelspec": {
   "display_name": "Python 3",
   "language": "python",
   "name": "python3"
  },
  "language_info": {
   "codemirror_mode": {
    "name": "ipython",
    "version": 3
   },
   "file_extension": ".py",
   "mimetype": "text/x-python",
   "name": "python",
   "nbconvert_exporter": "python",
   "pygments_lexer": "ipython3",
   "version": "3.7.6"
  }
 },
 "nbformat": 4,
 "nbformat_minor": 4
}
