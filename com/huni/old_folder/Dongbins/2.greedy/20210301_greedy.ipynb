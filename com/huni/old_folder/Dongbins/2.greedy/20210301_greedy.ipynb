{
 "cells": [
  {
   "cell_type": "markdown",
   "metadata": {},
   "source": [
    "# 2879번 코딩은 예쁘게\n",
    "\n",
    "\n",
    "문제\n",
    "백준이는 한 작은 회사에 취직했다. 이 회사에서 백준이는 소스 코드의 뒤죽박죽인 인덴트를 고치고 있다. 인덴트는 각 줄을 탭 키를 이용해 들여 쓰는 것을 말한다. 다행히 백준이가 사용하는 편집기는 연속된 줄을 그룹으로 선택하고, 여기에서 각 줄의 앞에 탭을 추가하거나, 삭제할 수 있다. 백준이를 도와 코드의 뒤죽박죽인 인덴트를 예쁘게 고치는 방법을 생각해보자.\n",
    "\n",
    "줄의 개수 N과 각 줄의 앞에 있는 탭의 개수와 올바른 탭의 개수가 주어진다. 이때, 한 번 편집을 할 때, 다음과 같은 명령을 수행할 수 있다.\n",
    "\n",
    "* 연속된 줄을 그룹으로 선택한다.\n",
    "* 선택된 줄의 앞에 탭 1개를 추가하거나 삭제한다.\n",
    "\n",
    "위의 두 명령을 모두 수행하는 것이 하나의 편집이며, 선택된 줄의 개수와는 상관이 없다. 만약, 선택한 줄 중에 단 한 줄이라도 탭이 없을 경우에는, 탭을 삭제하는 명령을 수행할 수 없다.\n",
    "\n",
    "백준이가 몇 번 편집 만에 코드의 인덴트를 올바르게 고칠 수 있는지 구하는 프로그램을 작성하시오. 이때, 편집 회수의 최솟값을 구해야 한다.\n",
    "\n",
    "## 입력\n",
    "\n",
    "첫째 줄에 줄의 개수 N(1 ≤ N ≤ 1,000)이 주어진다. 둘째 줄에는 현재 줄에 있는 탭의 개수가 주어지며, 1번째 줄부터 순서대로 주어진다. 탭의 개수는 0보다 크거나 같고, 80보다 작거나 같은 정수이다. 셋째 줄에는 각 줄의 올바른 탭의 개수가 주어진다. 1번째 줄부터 순서대로 주어지며, 이 값도 0보다 크거나 같고, 80보다 작거나 같은 정수이다.\n",
    "\n",
    "## 출력\n",
    "\n",
    "첫째 줄에 코드의 인덴트를 올바르게 고치는 편집 회수의 최솟값을 출력한다.\n",
    "\n",
    "#### 예제 입력 1 \n",
    "\n",
    "4\n",
    "\n",
    "1 2 3 4\n",
    "\n",
    "3 1 1 0\n",
    "\n",
    "#### 예제 출력 1 \n",
    "\n",
    "6"
   ]
  },
  {
   "cell_type": "code",
   "execution_count": 26,
   "metadata": {},
   "outputs": [
    {
     "name": "stdout",
     "output_type": "stream",
     "text": [
      "4\n",
      "1 2 3 4\n",
      " 12 2 33\n"
     ]
    },
    {
     "ename": "IndexError",
     "evalue": "list index out of range",
     "output_type": "error",
     "traceback": [
      "\u001b[0;31m---------------------------------------------------------------------------\u001b[0m",
      "\u001b[0;31mIndexError\u001b[0m                                Traceback (most recent call last)",
      "\u001b[0;32m<ipython-input-26-737f8303fb74>\u001b[0m in \u001b[0;36m<module>\u001b[0;34m\u001b[0m\n\u001b[1;32m     11\u001b[0m \u001b[0mresult_list\u001b[0m \u001b[0;34m=\u001b[0m \u001b[0;34m[\u001b[0m\u001b[0;34m]\u001b[0m\u001b[0;34m\u001b[0m\u001b[0;34m\u001b[0m\u001b[0m\n\u001b[1;32m     12\u001b[0m \u001b[0;32mfor\u001b[0m \u001b[0mmake_result\u001b[0m \u001b[0;32min\u001b[0m \u001b[0mrange\u001b[0m\u001b[0;34m(\u001b[0m\u001b[0mline_count\u001b[0m\u001b[0;34m)\u001b[0m\u001b[0;34m:\u001b[0m\u001b[0;34m\u001b[0m\u001b[0;34m\u001b[0m\u001b[0m\n\u001b[0;32m---> 13\u001b[0;31m     \u001b[0mresult_list\u001b[0m\u001b[0;34m.\u001b[0m\u001b[0mappend\u001b[0m\u001b[0;34m(\u001b[0m\u001b[0minput_line\u001b[0m\u001b[0;34m[\u001b[0m\u001b[0mmake_result\u001b[0m\u001b[0;34m]\u001b[0m \u001b[0;34m-\u001b[0m \u001b[0moutput_line\u001b[0m\u001b[0;34m[\u001b[0m\u001b[0mmake_result\u001b[0m\u001b[0;34m]\u001b[0m\u001b[0;34m)\u001b[0m\u001b[0;34m\u001b[0m\u001b[0;34m\u001b[0m\u001b[0m\n\u001b[0m\u001b[1;32m     14\u001b[0m \u001b[0;34m\u001b[0m\u001b[0m\n\u001b[1;32m     15\u001b[0m \u001b[0;31m# print(result_list)\u001b[0m\u001b[0;34m\u001b[0m\u001b[0;34m\u001b[0m\u001b[0;34m\u001b[0m\u001b[0m\n",
      "\u001b[0;31mIndexError\u001b[0m: list index out of range"
     ]
    }
   ],
   "source": [
    "line_count = int(input())\n",
    "\n",
    "input_line = list(map(int, input().split()))\n",
    "\n",
    "output_line = list(map(int, input().split()))\n",
    "\n",
    "# print(line_count)\n",
    "# print(input_line)\n",
    "# print(output_line)\n",
    "\n",
    "result_list = []\n",
    "for make_result in range(line_count):\n",
    "    result_list.append(input_line[make_result] - output_line[make_result])\n",
    "    \n",
    "print(result_list)\n",
    "\n",
    "# if max(result_list) > 0 and min(result_list) > 0:\n",
    "#     print(abs(max(result_list)))\n",
    "# elif max(result_list) < 0 and min(result_list) < 0:\n",
    "#     print(abs(min(result_list)))\n",
    "# else:\n",
    "#     print(abs(max(result_list)) + abs(min(result_list)))\n",
    "\n",
    "### 해결못함.."
   ]
  },
  {
   "cell_type": "code",
   "execution_count": 23,
   "metadata": {},
   "outputs": [
    {
     "name": "stdout",
     "output_type": "stream",
     "text": [
      "2\n"
     ]
    }
   ],
   "source": [
    "print(abs(-2))"
   ]
  },
  {
   "cell_type": "markdown",
   "metadata": {},
   "source": [
    "# 문제\n",
    "\n",
    "당신은 사탕 공장의 주인이다. 날마다, 당신은 J개의 사탕을 가게에 보내기 위해 상자에 포장해야 한다.\n",
    "\n",
    "당신은 크기가 다른 상자 N개를 가지고 있다. 당신은 편리를 위해 상자를 최소한으로 쓰려고 한다. (박스를 다 채울 필요는 없다. 일부분만 채워도 된다.)\n",
    "\n",
    "당신이 공장에서 나오는 사탕의 개수와 각 상자의 크기를 입력받고, 상자를 최소한으로 쓸 때의 사용되는 상자 개수를 출력하는 프로그램을 작성하라. 사탕들을 포장할 공간은 충분하다는 것이 보장된다.\n",
    "\n",
    "# 입력\n",
    "\n",
    "첫 번째 줄에는 테스트 케이스의 개수 T (1 ≤ T ≤ 10)가 주어진다. 각각의 테스트 케이스는 아래 형식을 따른다.\n",
    "\n",
    "테스트 케이스의 첫 번째 줄에는 사탕의 개수 J와 상자의 개수 N이 주어진다. (1 ≤ J, N ≤ 1,000)\n",
    "\n",
    "다음 N개의 줄에는 각각 줄마다 i번째 상자의 세로 길이 Ri 그리고 가로 길이 Ci가 주어진다. 상자의 크기는 다른 상자의 크기와 똑같을 수도 있다. 상자에는 Ri * Ci보다 더 많은 사탕을 포장할 수 없다. (1 ≤ Ri, Ci ≤ 10,000)\n",
    "\n",
    "# 출력\n",
    "\n",
    "출력은 T개의 줄로 이루어진다. 각각의 줄마다 i번째 테스트 케이스에서 최소한의 상자 개수를 출력하여야 한다.\n",
    "\n",
    "예제 입력 1 \n",
    "\n",
    "1\n",
    "\n",
    "20 5\n",
    "\n",
    "3 4\n",
    "\n",
    "2 5\n",
    "\n",
    "1 8\n",
    "\n",
    "3 3\n",
    "\n",
    "2 5\n",
    "\n",
    "예제 출력 1 \n",
    "\n",
    "2\n",
    "\n",
    "예제 입력 2 \n",
    "\n",
    "2\n",
    "\n",
    "12 3\n",
    "\n",
    "2 7\n",
    "\n",
    "1 5\n",
    "\n",
    "3 2\n",
    "\n",
    "20 3\n",
    "\n",
    "2 7\n",
    "\n",
    "1 5\n",
    "\n",
    "3 2\n",
    "\n",
    "예제 출력 2 \n",
    "\n",
    "1\n",
    "\n",
    "2"
   ]
  },
  {
   "cell_type": "code",
   "execution_count": 34,
   "metadata": {},
   "outputs": [
    {
     "name": "stdout",
     "output_type": "stream",
     "text": [
      "2\n",
      "12 3\n",
      "2 7\n",
      "1 5\n",
      "3 2\n",
      "20 3\n",
      "2 7\n",
      "1 5\n",
      "3 2\n",
      "1\n",
      "2\n"
     ]
    }
   ],
   "source": [
    "test_case = int(input())\n",
    "\n",
    "result = []\n",
    "for check_all_case in range(test_case):\n",
    "    n,m = map(int, input().split())\n",
    "    \n",
    "    box_check = []\n",
    "    for check_box in range(m):\n",
    "        r,c = map(int, input().split())\n",
    "        box_check.append(r * c)\n",
    "    \n",
    "    box_check.sort(reverse=True)\n",
    "    count = 0\n",
    "    for idx, test in enumerate(box_check):\n",
    "        count += test\n",
    "        if count >= n:\n",
    "            result.append(idx + 1)\n",
    "#             print(idx + 1)\n",
    "            break\n",
    "    \n",
    "for result_output in result:\n",
    "    print(result_output)"
   ]
  },
  {
   "cell_type": "code",
   "execution_count": 30,
   "metadata": {},
   "outputs": [
    {
     "name": "stdout",
     "output_type": "stream",
     "text": [
      "[9, 5, 3, 2, 1]\n"
     ]
    }
   ],
   "source": [
    "test = [1,5,3,2,9]\n",
    "test.sort(reverse=True)\n",
    "print(test)"
   ]
  },
  {
   "cell_type": "code",
   "execution_count": 35,
   "metadata": {},
   "outputs": [
    {
     "ename": "SyntaxError",
     "evalue": "invalid syntax (<ipython-input-35-75b6c736ff47>, line 2)",
     "output_type": "error",
     "traceback": [
      "\u001b[0;36m  File \u001b[0;32m\"<ipython-input-35-75b6c736ff47>\"\u001b[0;36m, line \u001b[0;32m2\u001b[0m\n\u001b[0;31m    20 5\u001b[0m\n\u001b[0m       ^\u001b[0m\n\u001b[0;31mSyntaxError\u001b[0m\u001b[0;31m:\u001b[0m invalid syntax\n"
     ]
    }
   ],
   "source": [
    "1\n",
    "20 5\n",
    "3 4\n",
    "2 5\n",
    "1 8\n",
    "3 3\n",
    "2 5"
   ]
  },
  {
   "cell_type": "markdown",
   "metadata": {},
   "source": [
    "# 숫자 더하기 출처다국어분류\n",
    "\n",
    "시간 제한\t메모리 제한\t제출\t정답\t맞은 사람\t정답 비율\n",
    "\n",
    "1 초\t128 MB\t668\t246\t220\t43.564%\n",
    "\n",
    "# 문제\n",
    "강민이가 초등학교 3학년일 때, 담임선생님이 이런 문제를 냈었다.\n",
    "\n",
    "숫자 1, 2, 7, 8, 9 를 사용해서 만든 두 숫자를 더했을 때, 나올 수 있는 가장 작은 수는 무엇일까요?\n",
    "\n",
    "강민이는 이 문제의 답이 207(78 + 129)이라고 생각했다. 그런데 선생님은 책 4페이지에 있는 비슷한 문제를 모두 풀어오라는 숙제를 내셨다. \n",
    "\n",
    "작년부터 프로그래밍을 시작한 강민이는 이런 숙제보다 코딩을 더 재밌어했다. 그래서 강민이는 이 숙제를 코딩으로 해결하기로 했다!\n",
    "\n",
    "어린 강민이를 위해 코딩을 도와주자.\n",
    "\n",
    "## 입력\n",
    "\n",
    "한 줄에 하나씩 연습문제가 주어진다.\n",
    "\n",
    "각 줄에서 첫 번째로 나오는 정수 N (2 ≤ N ≤ 14) 은 연습문제에서 사용될 숫자의 개수이다.\n",
    "\n",
    "두 번째부터 사용될 N개의 숫자가 주어진다. 0이 아닌 수가 최소 2개 이상 존재한다\n",
    "\n",
    "마지막 줄에 0을 입력하면 프로그램이 종료된다.\n",
    "\n",
    "## 출력\n",
    "\n",
    "각 연습문제마다 정답을 출력한다.\n",
    "\n",
    "#### 예제 입력 1 \n",
    "\n",
    "5 1 2 7 8 9\n",
    "\n",
    "6 3 4 2 2 2 2\n",
    "\n",
    "9 0 1 2 3 4 0 1 2 3\n",
    "\n",
    "0\n",
    "\n",
    "예제 출력 1 \n",
    "\n",
    "207\n",
    "\n",
    "447\n",
    "\n",
    "11257\n"
   ]
  },
  {
   "cell_type": "code",
   "execution_count": 3,
   "metadata": {},
   "outputs": [
    {
     "name": "stdout",
     "output_type": "stream",
     "text": [
      "5 1 2 7 8 9\n",
      "28\n",
      "179\n",
      "207\n",
      "6 1 2 7 8 9 0\n",
      "179\n",
      "208\n",
      "387\n",
      "9 0 1 2 3 4 0 1 2 3\n",
      "10023\n",
      "1234\n",
      "11257\n",
      "0\n"
     ]
    }
   ],
   "source": [
    "import bisect\n",
    "\n",
    "while True:\n",
    "    data = list(map(int, input().split()))\n",
    "    # 0인 경우 빠져나간다 \n",
    "    if data[0] == 0:\n",
    "        break\n",
    "    \n",
    "    #범위를 추출한다.\n",
    "    data_range = data[0]\n",
    "    # 맨 처음 인덱스의 값 제거\n",
    "    del data[0]\n",
    "    data.sort()\n",
    "    \n",
    "    zero_count = 0\n",
    "    if 0 in data:\n",
    "        zero_count = bisect.bisect_right(data, 0) - bisect.bisect_left(data, 0)\n",
    "        \n",
    "    str_temp = ''\n",
    "    str_temp_second = ''\n",
    "\n",
    "    for idx, check in enumerate(data):\n",
    "        if check == 0:\n",
    "            continue\n",
    "        if idx % 2 != 0:\n",
    "            str_temp += str(check)\n",
    "        else:\n",
    "            str_temp_second += str(check)\n",
    "    \n",
    "    for insert_zero in range(zero_count):\n",
    "        if len(str_temp) <= len(str_temp_second):\n",
    "            str_temp = str_temp[:1] + str(0) + str_temp[1:]\n",
    "        else :\n",
    "            str_temp_second = str_temp_second[:1] + str(0) + str_temp_second[1:]\n",
    "#         if insert_zero % 2 != 0:\n",
    "#             str_temp_second = str_temp_second[:1] + str(0) + str_temp_second[1:]\n",
    "#         else:\n",
    "#             str_temp = str_temp[:1] + str(0) + str_temp[1:]\n",
    "#     print(str_temp)\n",
    "#     print(str_temp_second)\n",
    "            \n",
    "    print(int(str_temp) + int(str_temp_second))\n"
   ]
  },
  {
   "cell_type": "markdown",
   "metadata": {},
   "source": [
    "## data_list = [1,2,2,1,2,3,1,2]\n",
    "\n",
    "del data_list[0]\n",
    "print(data_list)"
   ]
  },
  {
   "cell_type": "code",
   "execution_count": null,
   "metadata": {},
   "outputs": [
    {
     "name": "stdout",
     "output_type": "stream",
     "text": [
      "9 0 1 2 3 4 0 1 2 3\n",
      "[1, 1]\n",
      "11257\n"
     ]
    }
   ],
   "source": [
    "# 다른 사람 풀이\n",
    "\n",
    "while True:\n",
    "    num = list(map(int, input().split()))\n",
    "    if num[0] == 0:\n",
    "        break\n",
    "    else:\n",
    "        n = num[0]\n",
    "        num = num[1:]\n",
    "        num.sort()\n",
    "        #맨 앞에 들어갈 두개를 추출한다 -> 0이 아닌놈\n",
    "        small = list(i for i in num if i!=0)[0:2]\n",
    "        print(small)\n",
    "        # 맨앞에 들어갈놈을 먼저 제거\n",
    "        num.remove(small[0])\n",
    "        num.remove(small[1])\n",
    "\n",
    "        # 따로 string 으로 담아주네\n",
    "        odd = str(small[0])\n",
    "        even = str(small[1])\n",
    "\n",
    "        # 그 다음 부터 2칸씩 담아준다.\n",
    "        for i in range(0,len(num),2):\n",
    "            odd = odd + str(num[i])\n",
    "        for j in range(1,len(num),2):\n",
    "            even = even + str(num[j])\n",
    "\n",
    "\n",
    "        print(int(even)+int(odd))\n"
   ]
  },
  {
   "cell_type": "code",
   "execution_count": null,
   "metadata": {},
   "outputs": [],
   "source": []
  }
 ],
 "metadata": {
  "kernelspec": {
   "display_name": "Python 3",
   "language": "python",
   "name": "python3"
  },
  "language_info": {
   "codemirror_mode": {
    "name": "ipython",
    "version": 3
   },
   "file_extension": ".py",
   "mimetype": "text/x-python",
   "name": "python",
   "nbconvert_exporter": "python",
   "pygments_lexer": "ipython3",
   "version": "3.7.6"
  }
 },
 "nbformat": 4,
 "nbformat_minor": 4
}
