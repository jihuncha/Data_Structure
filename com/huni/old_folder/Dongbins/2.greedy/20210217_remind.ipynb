{
 "cells": [
  {
   "cell_type": "markdown",
   "id": "impossible-briefs",
   "metadata": {},
   "source": [
    "# 문제\n",
    "한 개의 회의실이 있는데 이를 사용하고자 하는 N개의 회의에 대하여 회의실 사용표를 만들려고 한다. 각 회의 I에 대해 시작시간과 끝나는 시간이 주어져 있고, 각 회의가 겹치지 않게 하면서 회의실을 사용할 수 있는 회의의 최대 개수를 찾아보자. 단, 회의는 한번 시작하면 중간에 중단될 수 없으며 한 회의가 끝나는 것과 동시에 다음 회의가 시작될 수 있다. 회의의 시작시간과 끝나는 시간이 같을 수도 있다. 이 경우에는 시작하자마자 끝나는 것으로 생각하면 된다.\n",
    "\n",
    "#### 입력\n",
    "\n",
    "첫째 줄에 회의의 수 N(1 ≤ N ≤ 100,000)이 주어진다. 둘째 줄부터 N+1 줄까지 각 회의의 정보가 주어지는데 이것은 공백을 사이에 두고 회의의 시작시간과 끝나는 시간이 주어진다. 시작 시간과 끝나는 시간은 231-1보다 작거나 같은 자연수 또는 0이다.\n",
    "\n",
    "#### 출력\n",
    "\n",
    "첫째 줄에 최대 사용할 수 있는 회의의 최대 개수를 출력한다.\n",
    "\n",
    "#### 예제 입력 1 \n",
    "\n",
    "11\n",
    "\n",
    "1 4\n",
    "\n",
    "3 5\n",
    "\n",
    "0 6\n",
    "\n",
    "5 7\n",
    "\n",
    "3 8\n",
    "\n",
    "5 9\n",
    "\n",
    "6 10\n",
    "\n",
    "8 11\n",
    "\n",
    "8 12\n",
    "\n",
    "2 13\n",
    "\n",
    "12 14\n",
    "\n",
    "#### 예제 출력 1 \n",
    "\n",
    "4"
   ]
  },
  {
   "cell_type": "code",
   "execution_count": 4,
   "id": "atlantic-expression",
   "metadata": {},
   "outputs": [
    {
     "name": "stdout",
     "output_type": "stream",
     "text": [
      "3\n",
      "3 5\n",
      "1 4\n",
      "4 8\n",
      "[[1, 4], [3, 5], [4, 8]]\n",
      "2\n"
     ]
    }
   ],
   "source": [
    "data_count = int(input())\n",
    "\n",
    "all_data = []\n",
    "for make_all in range(data_count):\n",
    "    all_data.append(list(map(int, input().split())))\n",
    "    \n",
    "all_data.sort(key=lambda x: [x[1],x[0]])\n",
    "\n",
    "# print(all_data)\n",
    "\n",
    "count = 0\n",
    "start_idx = 0\n",
    "for check in all_data:\n",
    "    if check[0] >= start_idx:\n",
    "        start_idx = check[1]\n",
    "        count+=1\n",
    "\n",
    "print(count)\n",
    "        \n",
    "    "
   ]
  },
  {
   "cell_type": "markdown",
   "id": "norwegian-evening",
   "metadata": {},
   "source": []
  },
  {
   "cell_type": "markdown",
   "id": "acute-gamma",
   "metadata": {},
   "source": [
    "# 문제\n",
    "타로는 자주 JOI잡화점에서 물건을 산다. JOI잡화점에는 잔돈으로 500엔, 100엔, 50엔, 10엔, 5엔, 1엔이 충분히 있고, 언제나 거스름돈 개수가 가장 적게 잔돈을 준다. 타로가 JOI잡화점에서 물건을 사고 카운터에서 1000엔 지폐를 한장 냈을 때, 받을 잔돈에 포함된 잔돈의 개수를 구하는 프로그램을 작성하시오.\n",
    "\n",
    "예를 들어 입력된 예1의 경우에는 아래 그림에서 처럼 4개를 출력해야 한다.\n",
    "\n",
    "### 입력\n",
    "입력은 한줄로 이루어져있고, 타로가 지불할 돈(1 이상 1000미만의 정수) 1개가 쓰여져있다.\n",
    "\n",
    "### 출력\n",
    "제출할 출력 파일은 1행으로만 되어 있다. 잔돈에 포함된 매수를 출력하시오.\n",
    "\n",
    "\n",
    "\n",
    "380 -> 4 "
   ]
  },
  {
   "cell_type": "code",
   "execution_count": 10,
   "id": "advance-louisiana",
   "metadata": {},
   "outputs": [
    {
     "name": "stdout",
     "output_type": "stream",
     "text": [
      "10\n",
      "10\n"
     ]
    }
   ],
   "source": [
    "coin = 1000 - int(input())\n",
    "\n",
    "my_data = [500,100,50,10,5,1]\n",
    "\n",
    "count = 0\n",
    "\n",
    "for make_count in my_data:\n",
    "    count += coin // make_count\n",
    "    coin = coin % make_count\n",
    "#     print('count :', count)\n",
    "#     print('coin :', coin)\n",
    "\n",
    "print(count)"
   ]
  },
  {
   "cell_type": "code",
   "execution_count": 11,
   "id": "industrial-liability",
   "metadata": {},
   "outputs": [
    {
     "name": "stdout",
     "output_type": "stream",
     "text": [
      "123\n",
      "6\n"
     ]
    }
   ],
   "source": [
    "test = int(input())\n",
    "\n",
    "result = 0\n",
    "for result_test in str(test):\n",
    "    result += int(result_test)\n",
    "    \n",
    "print(result)"
   ]
  },
  {
   "cell_type": "markdown",
   "id": "silent-newcastle",
   "metadata": {},
   "source": [
    "# 문제\n",
    "\n",
    "세준이는 양수와 +, -, 그리고 괄호를 가지고 식을 만들었다. 그리고 나서 세준이는 괄호를 모두 지웠다.\n",
    "\n",
    "그리고 나서 세준이는 괄호를 적절히 쳐서 이 식의 값을 최소로 만들려고 한다.\n",
    "\n",
    "괄호를 적절히 쳐서 이 식의 값을 최소로 만드는 프로그램을 작성하시오.\n",
    "\n",
    "### 입력\n",
    "\n",
    "첫째 줄에 식이 주어진다. 식은 ‘0’~‘9’, ‘+’, 그리고 ‘-’만으로 이루어져 있고, 가장 처음과 마지막 문자는 숫자이다. 그리고 연속해서 두 개 이상의 연산자가 나타나지 않고, 5자리보다 많이 연속되는 숫자는 없다. 수는 0으로 시작할 수 있다. 입력으로 주어지는 식의 길이는 50보다 작거나 같다.\n",
    "\n",
    "### 출력\n",
    "\n",
    "첫째 줄에 정답을 출력한다.\n",
    "\n",
    "예제 입력 1 \n",
    "\n",
    "\n",
    "55-50+40\n",
    "\n",
    "예제 출력 1 \n",
    "\n",
    "\n",
    "-35"
   ]
  },
  {
   "cell_type": "code",
   "execution_count": 24,
   "id": "conventional-heater",
   "metadata": {},
   "outputs": [
    {
     "name": "stdout",
     "output_type": "stream",
     "text": [
      "55-50+40\n",
      "[2, 5]\n",
      "45\n"
     ]
    }
   ],
   "source": [
    "data = input()\n",
    "\n",
    "# print(data)\n",
    "### 중요 eval -> string 수식을 바로 계산해준다.\n",
    "\n",
    "idx_list = []\n",
    "result = []\n",
    "for idx, make_result in enumerate(data):\n",
    "    if make_result == '+' or make_result == '-':\n",
    "        idx_list.append(idx)\n",
    "        \n",
    "print(idx_list)\n",
    "print(eval(data))\n",
    "\n",
    "# temp = list(data)\n",
    "# index = 0\n",
    "# for idx, first_check in enumerate(idx_list):\n",
    "#     temp_second = temp\n",
    "#     temp_second.insert(first_check, '(')\n",
    "#     index = idx\n",
    "#     for idx2,second_check in enumerate(idx_list):\n",
    "#         temp_third = temp_second\n",
    "#         if idx2 <= index:\n",
    "#             continue\n",
    "#         temp_third.insert(second_check + 1, ')')\n",
    "#         test = eval(str(temp_third))\n",
    "#         result.append(test)\n",
    "#         temp_third = temp_second\n",
    "        \n",
    "# print(result)"
   ]
  },
  {
   "cell_type": "markdown",
   "id": "expanded-opera",
   "metadata": {},
   "source": [
    "## 해설\n",
    "\n",
    "최초로 마이너스가 나오기 전까지 나오는 숫자는 모두 더할 수 밖에 없으며, \n",
    "이후 마이너스가 나오는 순간 그 뒤에 있는 모든 수들을 빼주면 된다.\n",
    "\n",
    "최솟값을 만들기 위해서는 - 기준으로 괄호를 치면 된다.\n",
    "\n",
    " \n",
    "\n",
    "예를 들어\n",
    "\n",
    " \n",
    "\n",
    "55 - 50 + 40 - 30 + 20\n",
    "\n",
    " \n",
    "\n",
    "위와 같이 입력을 받았을때 - 기준으로\n",
    "\n",
    " \n",
    "\n",
    "55 - (50 + 40) - (30 + 20)\n",
    "\n",
    " \n",
    "\n",
    "이렇게 괄호를 쳤을때 최솟값이 된다.\n",
    "\n",
    " \n",
    "\n",
    "그래서 입력을 받을때 - 기준으로 입력을 받아준다.\n",
    "\n",
    " \n",
    "\n",
    "위와 같이 입력을 받았을때\n",
    "\n",
    " \n",
    "\n",
    "['55', '50 + 40', '30 + 20']\n",
    "\n",
    " \n",
    "\n",
    "이렇게 입력을 받게 되는데\n",
    "\n",
    " \n",
    "\n",
    "각 원소에 있는 숫자들을 계산해주고\n",
    "\n",
    " \n",
    "\n",
    "맨 처음의 원소는 더해주고 나머지는 빼준다.\n"
   ]
  },
  {
   "cell_type": "code",
   "execution_count": 26,
   "id": "solar-program",
   "metadata": {},
   "outputs": [
    {
     "name": "stdout",
     "output_type": "stream",
     "text": [
      "55-50+40\n",
      "-35\n"
     ]
    }
   ],
   "source": [
    "s = input().split('-')\n",
    " \n",
    "sum = 0\n",
    "for i in s[0].split('+'):\n",
    "    sum += int(i)\n",
    "\n",
    "for i in s[1:]:\n",
    "    for j in i.split('+'):\n",
    "        sum -= int(j)\n",
    "        \n",
    "print(sum)"
   ]
  },
  {
   "cell_type": "code",
   "execution_count": null,
   "id": "specific-symposium",
   "metadata": {},
   "outputs": [],
   "source": []
  }
 ],
 "metadata": {
  "kernelspec": {
   "display_name": "Python 3",
   "language": "python",
   "name": "python3"
  },
  "language_info": {
   "codemirror_mode": {
    "name": "ipython",
    "version": 3
   },
   "file_extension": ".py",
   "mimetype": "text/x-python",
   "name": "python",
   "nbconvert_exporter": "python",
   "pygments_lexer": "ipython3",
   "version": "3.8.2"
  }
 },
 "nbformat": 4,
 "nbformat_minor": 5
}
