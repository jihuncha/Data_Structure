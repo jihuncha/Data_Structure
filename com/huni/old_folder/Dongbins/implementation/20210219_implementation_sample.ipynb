{
 "metadata": {
  "language_info": {
   "codemirror_mode": {
    "name": "ipython",
    "version": 3
   },
   "file_extension": ".py",
   "mimetype": "text/x-python",
   "name": "python",
   "nbconvert_exporter": "python",
   "pygments_lexer": "ipython3",
   "version": "3.8.2"
  },
  "orig_nbformat": 2,
  "kernelspec": {
   "name": "python3",
   "display_name": "Python 3.8.2 64-bit",
   "metadata": {
    "interpreter": {
     "hash": "f9266f085dcc9ee4013393ad5f3967da5189060ee5ebc3a05ca413c384b65509"
    }
   }
  }
 },
 "nbformat": 4,
 "nbformat_minor": 2,
 "cells": [
  {
   "source": [
    "문제\n",
    "Hello World!를 출력하시오.\n",
    "\n",
    "입력\n",
    "없음\n",
    "\n",
    "출력\n",
    "Hello World!를 출력하시오.\n",
    "\n",
    "예제 입력 1 \n",
    "예제 출력 1 \n",
    "Hello World!"
   ],
   "cell_type": "markdown",
   "metadata": {}
  },
  {
   "cell_type": "code",
   "execution_count": 2,
   "metadata": {},
   "outputs": [
    {
     "output_type": "stream",
     "name": "stdout",
     "text": [
      "Hello World!\n"
     ]
    }
   ],
   "source": [
    "print('Hello World!')"
   ]
  },
  {
   "source": [
    "문제\n",
    "두 정수 A와 B를 입력받은 다음, A+B를 출력하는 프로그램을 작성하시오.\n",
    "\n",
    "입력\n",
    "첫째 줄에 A와 B가 주어진다. (0 < A, B < 10)\n",
    "\n",
    "출력\n",
    "첫째 줄에 A+B를 출력한다.\n",
    "\n",
    "예제 입력 1 \n",
    "\n",
    "1 2\n",
    "\n",
    "예제 출력 1 \n",
    "\n",
    "3"
   ],
   "cell_type": "markdown",
   "metadata": {}
  },
  {
   "cell_type": "code",
   "execution_count": 6,
   "metadata": {},
   "outputs": [
    {
     "output_type": "stream",
     "name": "stdout",
     "text": [
      "0.3333333333333333\n"
     ]
    }
   ],
   "source": [
    "a,b = map(int,input().split())\n",
    "\n",
    "print(a/b)"
   ]
  },
  {
   "source": [
    "문제\n",
    "ACM-ICPC 인터넷 예선, Regional, 그리고 World Finals까지 이미 2회씩 진출해버린 kriii는 미련을 버리지 못하고 왠지 모르게 올해에도 파주 World Finals 준비 캠프에 참여했다.\n",
    "\n",
    "대회를 뜰 줄 모르는 지박령 kriii를 위해서 격려의 문구를 출력해주자.\n",
    "\n",
    "입력\n",
    "본 문제는 입력이 없다.\n",
    "\n",
    "출력\n",
    "두 줄에 걸쳐 \"강한친구 대한육군\"을 한 줄에 한 번씩 출력한다.\n",
    "\n",
    "예제 입력 1 \n",
    "\n",
    "예제 출력 1 \n",
    "\n",
    "강한친구 대한육군\n",
    "\n",
    "강한친구 대한육군"
   ],
   "cell_type": "markdown",
   "metadata": {}
  },
  {
   "cell_type": "code",
   "execution_count": 5,
   "metadata": {},
   "outputs": [
    {
     "output_type": "stream",
     "name": "stdout",
     "text": [
      "강한친구 대한육군\n강한친구 대한육군\n"
     ]
    }
   ],
   "source": [
    "print('강한친구 대한육군')\n",
    "print('강한친구 대한육군')"
   ]
  },
  {
   "source": [
    "문제\n",
    "N을 입력받은 뒤, 구구단 N단을 출력하는 프로그램을 작성하시오. 출력 형식에 맞춰서 출력하면 된다.\n",
    "\n",
    "입력\n",
    "첫째 줄에 N이 주어진다. N은 1보다 크거나 같고, 9보다 작거나 같다.\n",
    "\n",
    "출력\n",
    "출력형식과 같게 N*1부터 N*9까지 출력한다.\n",
    "\n",
    "예제 입력 1 \n",
    "\n",
    "2\n",
    "\n",
    "예제 출력 1 \n",
    "\n",
    "2 * 1 = 2\n",
    "\n",
    "2 * 2 = 4\n",
    "\n",
    "2 * 3 = 6\n",
    "\n",
    "2 * 4 = 8\n",
    "\n",
    "2 * 5 = 10\n",
    "\n",
    "2 * 6 = 12\n",
    "\n",
    "2 * 7 = 14\n",
    "\n",
    "2 * 8 = 16\n",
    "\n",
    "2 * 9 = 18\n"
   ],
   "cell_type": "markdown",
   "metadata": {}
  },
  {
   "cell_type": "code",
   "execution_count": 7,
   "metadata": {},
   "outputs": [
    {
     "output_type": "stream",
     "name": "stdout",
     "text": [
      "2 * 1 = 2\n2 * 2 = 4\n2 * 3 = 6\n2 * 4 = 8\n2 * 5 = 10\n2 * 6 = 12\n2 * 7 = 14\n2 * 8 = 16\n2 * 9 = 18\n"
     ]
    }
   ],
   "source": [
    "data = int(input())\n",
    "\n",
    "for gugu in range(1,10):\n",
    "    print(\"{} * {} = {}\".format(data, gugu, data * gugu))"
   ]
  },
  {
   "source": [
    "# 문제\n",
    "\n",
    "수를 처리하는 것은 통계학에서 상당히 중요한 일이다. 통계학에서 N개의 수를 대표하는 기본 통계값에는 다음과 같은 것들이 있다. 단, N은 홀수라고 가정하자.\n",
    "\n",
    "## 산술평균 : N개의 수들의 합을 N으로 나눈 값\n",
    "\n",
    "## 중앙값 : N개의 수들을 증가하는 순서로 나열했을 경우 그 중앙에 위치하는 값\n",
    "\n",
    "## 최빈값 : N개의 수들 중 가장 많이 나타나는 값\n",
    "\n",
    "## 범위 : N개의 수들 중 최댓값과 최솟값의 차이\n",
    "\n",
    "N개의 수가 주어졌을 때, 네 가지 기본 통계값을 구하는 프로그램을 작성하시오.\n",
    "\n",
    "입력\n",
    "\n",
    "첫째 줄에 수의 개수 N(1 ≤ N ≤ 500,000)이 주어진다. 그 다음 N개의 줄에는 정수들이 주어진다. 입력되는 정수의 절댓값은 4,000을 넘지 않는다.\n",
    "\n",
    "출력\n",
    "\n",
    "첫째 줄에는 산술평균을 출력한다. 소수점 이하 첫째 자리에서 반올림한 값을 출력한다.\n",
    "\n",
    "둘째 줄에는 중앙값을 출력한다.\n",
    "\n",
    "셋째 줄에는 최빈값을 출력한다. 여러 개 있을 때에는 최빈값 중 두 번째로 작은 값을 출력한다.\n",
    "\n",
    "넷째 줄에는 범위를 출력한다."
   ],
   "cell_type": "markdown",
   "metadata": {}
  },
  {
   "source": [
    "예제 입력 1 \n",
    "\n",
    "5\n",
    "1\n",
    "3\n",
    "8\n",
    "-2\n",
    "2\n",
    "\n",
    "예제 출력 1 \n",
    "\n",
    "2\n",
    "2\n",
    "1\n",
    "10\n",
    "\n",
    "예제 입력 2 \n",
    "\n",
    "1\n",
    "4000\n",
    "\n",
    "예제 출력 2 \n",
    "\n",
    "4000\n",
    "4000\n",
    "4000\n",
    "0\n",
    "\n",
    "예제 입력 3 \n",
    "\n",
    "5\n",
    "-1\n",
    "-2\n",
    "-3\n",
    "-1\n",
    "-2\n",
    "\n",
    "예제 출력 3 \n",
    "\n",
    "-2\n",
    "-2\n",
    "-1\n",
    "2"
   ],
   "cell_type": "markdown",
   "metadata": {}
  },
  {
   "cell_type": "code",
   "execution_count": 58,
   "metadata": {},
   "outputs": [
    {
     "output_type": "stream",
     "name": "stdout",
     "text": [
      "4000\n4000\n4000\n0\n"
     ]
    }
   ],
   "source": [
    "import sys\n",
    "data_count = int(input())\n",
    "\n",
    "data = []\n",
    "for _ in range(data_count):\n",
    "    data.append(int(input()))\n",
    "\n",
    "data.sort()\n",
    "\n",
    "#평균\n",
    "print(round(sum(data) / len(data)))\n",
    "\n",
    "#중앙값 -> statistics 가 속편하다\n",
    "print(data[data_count//2])\n",
    "# import statistics as st\n",
    "\n",
    "#중간값\n",
    "# print(st.median(data))\n",
    "#최빈값\n",
    "# print(st.mode(data))\n",
    "\n",
    "from collections import Counter\n",
    "test = Counter(data).most_common()\n",
    "result = 0\n",
    "if len(test) > 1:\n",
    "    if test[0][1] == test[1][1]:\n",
    "        result = test[1][0]\n",
    "    else:\n",
    "        result = test[0][0]\n",
    "else:\n",
    "    result = test[0][0]\n",
    "print(result)\n",
    "\n",
    "\n",
    "# print(Counter(data)[0])\n",
    "\n",
    "# dic = {}\n",
    "# for count in data:\n",
    "#     if count not in dic:\n",
    "#         dic[count] = 1\n",
    "#     else:\n",
    "#         dic[count] += 1\n",
    "# dic_new = sorted(dic.items(), key=lambda x : x[1], reverse=True)\n",
    "\n",
    "# # result = dic_new[]\n",
    "\n",
    "# print(dic)\n",
    "\n",
    "# item_count_list = []\n",
    "# for idx, test in enumerate(data):\n",
    "#     if test not in item_count_list:\n",
    "#         item_count_list.append([test, 1])\n",
    "#     else:\n",
    "#         item_count_list[idx] += 1\n",
    "\n",
    "# item_count_list.sort(key=lambda x : x[1])\n",
    "\n",
    "# print(item_count_list)\n",
    "\n",
    "# #최대값 최소값 차이\n",
    "print(data[len(data)-1] - data[0] if len(data) != 1 else 0)\n",
    "\n",
    "\n"
   ]
  },
  {
   "cell_type": "code",
   "execution_count": null,
   "metadata": {},
   "outputs": [],
   "source": []
  }
 ]
}