{
 "cells": [
  {
   "cell_type": "markdown",
   "metadata": {},
   "source": [
    "# 파이선은 메모리 제한을 고려해야한다.\n",
    "\n",
    "#### 대체로 128 ~ 512MB 메모리제한을 둔다\n",
    "\n",
    "\n",
    "### int 자료형 데이터의 갯수에 따른 메모리 사용량\n",
    "\n",
    "|<span style=\"color:red\">데이터 갯수 (리스트의 길이)</span>|<span style=\"color:red\">메모리 사용량</span>|\n",
    "|------|---|\n",
    "|1,000|약 4KB|\n",
    "|1,000,000|약 4MB|\n",
    "|10,000,000|약 40MB|"
   ]
  },
  {
   "cell_type": "markdown",
   "metadata": {},
   "source": [
    "# 상하좌우\n",
    "\n",
    "여행가 A는 N x N 크기의 정사각형 위에 있다.\n",
    "\n",
    "가자 왼쪽 위의 좌표는 (1,1) 이고, 가장 오른쪽 아래의 좌표는 (N,N) 이다.\n",
    "\n",
    "이동계획서는 L,R,U,D 의 문자가 명시되어 있다.\n",
    "\n",
    "L -> 왼 , R -> 오른 , U -> 위 , D -> 아래\n",
    "\n",
    "단 N x N 의 정사각형 범위에서 벗어나는 움직임은 무시한다 (ex. (1,1) 에서 L , U 을 한 경우)\n",
    "\n",
    "A가 최종 도달하는 위치를 구하시오.\n",
    "\n",
    "\n",
    "입력예시\n",
    "\n",
    "5\n",
    "\n",
    "R R R U D D\n",
    "\n",
    "출력예시\n",
    "\n",
    "3 4\n",
    "\n",
    "\n"
   ]
  },
  {
   "cell_type": "code",
   "execution_count": 4,
   "metadata": {},
   "outputs": [
    {
     "name": "stdout",
     "output_type": "stream",
     "text": [
      "5\n",
      "R R R U D D\n",
      "1 2\n",
      "1 3\n",
      "1 4\n",
      "0 4\n",
      "2 4\n",
      "3 4\n",
      "3 4\n"
     ]
    }
   ],
   "source": [
    "data_length = int(input())\n",
    "step = [1,1]\n",
    "data_list = list(input().split())\n",
    "\n",
    "# print(data_list)\n",
    "\n",
    "#x,y 이동좌표 정의\n",
    "step_x = [0, 0, -1, 1]\n",
    "step_y = [-1, 1, 0, 0]\n",
    "move_type = ['L','R','U','D']\n",
    "\n",
    "for make_step in data_list:\n",
    "    for i in range(len(move_type)):\n",
    "        if make_step == move_type[i]:\n",
    "            nx = step[0] + step_x[i]\n",
    "            ny = step[1] + step_y[i]\n",
    "            \n",
    "#             print(nx , ny)\n",
    "    if nx < 1 or ny < 1 or nx > data_length or ny > data_length:\n",
    "        continue\n",
    "            \n",
    "    step[0] = nx\n",
    "    step[1] = ny\n",
    "        \n",
    "print(step[0], step[1])"
   ]
  },
  {
   "cell_type": "code",
   "execution_count": 12,
   "metadata": {},
   "outputs": [
    {
     "name": "stdout",
     "output_type": "stream",
     "text": [
      "5\n",
      "R R R U D D\n",
      "3 4\n"
     ]
    }
   ],
   "source": [
    "\n",
    "# N 입력받기\n",
    "n = int(input())\n",
    "x, y = 1, 1\n",
    "plans = input().split()\n",
    "\n",
    "# L, R, U, D에 따른 이동 방향\n",
    "dx = [0, 0, -1, 1]\n",
    "dy = [-1, 1, 0, 0]\n",
    "move_types = ['L', 'R', 'U', 'D']\n",
    "\n",
    "# 이동 계획을 하나씩 확인\n",
    "for plan in plans:\n",
    "    # 이동 후 좌표 구하기\n",
    "    for i in range(len(move_types)):\n",
    "        if plan == move_types[i]:\n",
    "            nx = x + dx[i]\n",
    "            ny = y + dy[i]\n",
    "    # 공간을 벗어나는 경우 무시\n",
    "    if nx < 1 or ny < 1 or nx > n or ny > n:\n",
    "        continue\n",
    "    # 이동 수행\n",
    "    x, y = nx, ny\n",
    "\n",
    "print(x, y)"
   ]
  },
  {
   "cell_type": "markdown",
   "metadata": {},
   "source": [
    "# 시각\n",
    "\n",
    "정수 N이 입력되면 00시 00분 00초부터 N시 59분 59초까지의 모든 시각 중에서 3이 하나라도 포함되는 경우의 수를 구하시오\n",
    "\n",
    "예를 들어 1이 입력되었을때\n",
    "\n",
    "00시 00분 03초\n",
    "\n",
    "00시 13분 30초\n",
    "\n",
    "반면에 다음은 3이 하나라도 포함이 안되있음\n",
    "\n",
    "00시 02분 55초\n",
    "\n",
    "01시 27분 45초\n",
    "\n",
    "입력예시\n",
    "\n",
    "5\n",
    "\n",
    "출력예시\n",
    "\n",
    "11475\n"
   ]
  },
  {
   "cell_type": "code",
   "execution_count": 10,
   "metadata": {},
   "outputs": [
    {
     "name": "stdout",
     "output_type": "stream",
     "text": [
      "5\n",
      "11475\n"
     ]
    }
   ],
   "source": [
    "# 탐색 알고리즘\n",
    "\n",
    "clock = int(input())\n",
    "\n",
    "result = 0\n",
    "\n",
    "for hour in range(0, clock + 1):\n",
    "    for minute in range(0, 60):\n",
    "        for second in range(0, 60):\n",
    "            if '3' in str(hour) + str(minute) + str(second):\n",
    "                result +=1\n",
    "print(result)"
   ]
  },
  {
   "cell_type": "code",
   "execution_count": 11,
   "metadata": {},
   "outputs": [
    {
     "name": "stdout",
     "output_type": "stream",
     "text": [
      "5\n",
      "11475\n"
     ]
    }
   ],
   "source": [
    "# H를 입력받기\n",
    "h = int(input())\n",
    "\n",
    "count = 0\n",
    "for i in range(h + 1):\n",
    "    for j in range(60):\n",
    "        for k in range(60):\n",
    "            # 매 시각 안에 '3'이 포함되어 있다면 카운트 증가\n",
    "            if '3' in str(i) + str(j) + str(k):\n",
    "                count += 1\n",
    "\n",
    "print(count)"
   ]
  },
  {
   "cell_type": "code",
   "execution_count": null,
   "metadata": {},
   "outputs": [],
   "source": []
  }
 ],
 "metadata": {
  "kernelspec": {
   "display_name": "Python 3",
   "language": "python",
   "name": "python3"
  },
  "language_info": {
   "codemirror_mode": {
    "name": "ipython",
    "version": 3
   },
   "file_extension": ".py",
   "mimetype": "text/x-python",
   "name": "python",
   "nbconvert_exporter": "python",
   "pygments_lexer": "ipython3",
   "version": "3.7.6"
  }
 },
 "nbformat": 4,
 "nbformat_minor": 4
}
