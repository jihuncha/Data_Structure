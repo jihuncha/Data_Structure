{
 "metadata": {
  "language_info": {
   "codemirror_mode": {
    "name": "ipython",
    "version": 3
   },
   "file_extension": ".py",
   "mimetype": "text/x-python",
   "name": "python",
   "nbconvert_exporter": "python",
   "pygments_lexer": "ipython3",
   "version": "3.8.2"
  },
  "orig_nbformat": 2,
  "kernelspec": {
   "name": "python3",
   "display_name": "Python 3.8.2 64-bit",
   "metadata": {
    "interpreter": {
     "hash": "f9266f085dcc9ee4013393ad5f3967da5189060ee5ebc3a05ca413c384b65509"
    }
   }
  }
 },
 "nbformat": 4,
 "nbformat_minor": 2,
 "cells": [
  {
   "cell_type": "code",
   "execution_count": 6,
   "metadata": {},
   "outputs": [
    {
     "output_type": "stream",
     "name": "stdout",
     "text": [
      "[5, 4]\n"
     ]
    }
   ],
   "source": [
    "data_count = int(input())\n",
    "\n",
    "# print(data)\n",
    "\n",
    "data_info = list(map(str, input().split()))\n",
    "\n",
    "move_data = ['R','L','U','D']\n",
    "# R,L,U,D\n",
    "x_data = [0,0,-1,1]\n",
    "y_data = [1,-1,0,0]\n",
    "\n",
    "start_position = [1,1]\n",
    "\n",
    "for test in data_info:\n",
    "    for result in range(len(move_data)):\n",
    "        if test == move_data[result]:\n",
    "            x = start_position[0] + x_data[result]\n",
    "            y = start_position[1] + y_data[result] \n",
    "\n",
    "        if x <=0 or y<=0 or x > data_count or y > data_count:\n",
    "            continue\n",
    "\n",
    "        start_position[0], start_position[1] = x,y\n",
    "\n",
    "print(start_position)\n"
   ]
  },
  {
   "cell_type": "code",
   "execution_count": null,
   "metadata": {},
   "outputs": [],
   "source": []
  },
  {
   "cell_type": "code",
   "execution_count": null,
   "metadata": {},
   "outputs": [],
   "source": []
  },
  {
   "cell_type": "code",
   "execution_count": null,
   "metadata": {},
   "outputs": [],
   "source": []
  },
  {
   "cell_type": "code",
   "execution_count": null,
   "metadata": {},
   "outputs": [],
   "source": []
  },
  {
   "cell_type": "code",
   "execution_count": null,
   "metadata": {},
   "outputs": [],
   "source": []
  }
 ]
}