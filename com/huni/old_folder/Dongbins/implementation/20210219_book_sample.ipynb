{
 "metadata": {
  "language_info": {
   "codemirror_mode": {
    "name": "ipython",
    "version": 3
   },
   "file_extension": ".py",
   "mimetype": "text/x-python",
   "name": "python",
   "nbconvert_exporter": "python",
   "pygments_lexer": "ipython3",
   "version": "3.8.2"
  },
  "orig_nbformat": 2,
  "kernelspec": {
   "name": "python3",
   "display_name": "Python 3.8.2 64-bit",
   "metadata": {
    "interpreter": {
     "hash": "f9266f085dcc9ee4013393ad5f3967da5189060ee5ebc3a05ca413c384b65509"
    }
   }
  }
 },
 "nbformat": 4,
 "nbformat_minor": 2,
 "cells": [
  {
   "cell_type": "code",
   "execution_count": 17,
   "metadata": {},
   "outputs": [
    {
     "output_type": "stream",
     "name": "stdout",
     "text": [
      "[1, 1]\n2 and 3\n2 and -1\n0 and -1\n0 and 3\n3 and 2\n3 and 0\n-1 and 0\n-1 and 2\n2\n"
     ]
    }
   ],
   "source": [
    "input_data = list(input())\n",
    "# print(list(input_data))\n",
    "move_types = [(1,2), (1,-2), (-1,-2), (-1,2),(2,1), (2,-1),(-2,-1),(-2,1)]\n",
    "\n",
    "num_position = [ ord('a') - ord(input_data[0]) + 1, int(input_data[1])]\n",
    "\n",
    "count = 0\n",
    "\n",
    "print(num_position)\n",
    "\n",
    "for check in move_types:\n",
    "    x_data = num_position[0] + check[0]\n",
    "    y_data = num_position[1] + check[1]\n",
    "\n",
    "    print(\"{} and {}\".format(x_data,y_data))\n",
    "\n",
    "    if x_data < 1 or y_data < 1 or x_data > 8 or y_data > 8:\n",
    "        continue\n",
    "\n",
    "    count+=1\n",
    "\n",
    "print(count)\n",
    "# print(move_types)\n",
    "\n"
   ]
  },
  {
   "cell_type": "code",
   "execution_count": 6,
   "metadata": {},
   "outputs": [
    {
     "output_type": "stream",
     "name": "stdout",
     "text": [
      "97\n98\n"
     ]
    }
   ],
   "source": [
    "print(ord('a'))\n",
    "\n",
    "print(ord('b'))"
   ]
  },
  {
   "cell_type": "code",
   "execution_count": 22,
   "metadata": {},
   "outputs": [
    {
     "output_type": "stream",
     "name": "stdout",
     "text": [
      "[[1, 1, 0, 1], [1, 0, 0, 0], [1, 0, 1, 0], [1, 0, 2, 0]]\n"
     ]
    }
   ],
   "source": [
    "#게임개발\n",
    "\n",
    "map_data = list(map(int,input().split()))\n",
    "\n",
    "start_position = list(map(int, input().split()))\n",
    "\n",
    "map_detail = []\n",
    "for make_map_detail in range(map_data[1]):\n",
    "    map_detail.append(list(map(int, input().split())))\n",
    "\n",
    "print(map_detail)\n",
    "# 북 서 남 동\n",
    "seen = [0,3,2,1]\n",
    "\n",
    "# 4 4 \n",
    "# 1 1 0\n",
    "# 1 1 1 1\n",
    "# 1 0 0 1\n",
    "# 1 1 0 1\n",
    "# 1 1 1 1\n",
    "\n",
    "for "
   ]
  },
  {
   "cell_type": "code",
   "execution_count": 23,
   "metadata": {},
   "outputs": [
    {
     "output_type": "stream",
     "name": "stdout",
     "text": [
      "3\n"
     ]
    }
   ],
   "source": [
    "# N, M을 공백을 기준으로 구분하여 입력받기\n",
    "n, m = map(int, input().split())\n",
    "\n",
    "# 방문한 위치를 저장하기 위한 맵을 생성하여 0으로 초기화\n",
    "d = [[0] * m for _ in range(n)]\n",
    "# 현재 캐릭터의 X 좌표, Y 좌표, 방향을 입력받기\n",
    "x, y, direction = map(int, input().split())\n",
    "d[x][y] = 1 # 현재 좌표 방문 처리\n",
    "\n",
    "# 전체 맵 정보를 입력받기\n",
    "array = []\n",
    "for i in range(n):\n",
    "    array.append(list(map(int, input().split())))\n",
    "\n",
    "# 북, 동, 남, 서 방향 정의\n",
    "dx = [-1, 0, 1, 0]\n",
    "dy = [0, 1, 0, -1]\n",
    "\n",
    "# 왼쪽으로 회전\n",
    "def turn_left():\n",
    "    global direction\n",
    "    direction -= 1\n",
    "    if direction == -1:\n",
    "        direction = 3\n",
    "\n",
    "# 시뮬레이션 시작\n",
    "count = 1\n",
    "turn_time = 0\n",
    "while True:\n",
    "    # 왼쪽으로 회전\n",
    "    turn_left()\n",
    "    nx = x + dx[direction]\n",
    "    ny = y + dy[direction]\n",
    "    # 회전한 이후 정면에 가보지 않은 칸이 존재하는 경우 이동\n",
    "    if d[nx][ny] == 0 and array[nx][ny] == 0:\n",
    "        d[nx][ny] = 1\n",
    "        x = nx\n",
    "        y = ny\n",
    "        count += 1\n",
    "        turn_time = 0\n",
    "        continue\n",
    "    # 회전한 이후 정면에 가보지 않은 칸이 없거나 바다인 경우\n",
    "    else:\n",
    "        turn_time += 1\n",
    "    # 네 방향 모두 갈 수 없는 경우\n",
    "    if turn_time == 4:\n",
    "        nx = x - dx[direction]\n",
    "        ny = y - dy[direction]\n",
    "        # 뒤로 갈 수 있다면 이동하기\n",
    "        if array[nx][ny] == 0:\n",
    "            x = nx\n",
    "            y = ny\n",
    "        # 뒤가 바다로 막혀있는 경우\n",
    "        else:\n",
    "            break\n",
    "        turn_time = 0\n",
    "\n",
    "# 정답 출력\n",
    "print(count)"
   ]
  },
  {
   "cell_type": "code",
   "execution_count": null,
   "metadata": {},
   "outputs": [],
   "source": []
  }
 ]
}