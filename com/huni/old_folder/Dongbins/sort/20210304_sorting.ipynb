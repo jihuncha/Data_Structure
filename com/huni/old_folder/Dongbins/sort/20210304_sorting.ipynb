{
 "cells": [
  {
   "cell_type": "code",
   "execution_count": 1,
   "id": "hearing-basket",
   "metadata": {},
   "outputs": [
    {
     "name": "stdout",
     "output_type": "stream",
     "text": [
      "[0, 1, 2, 3, 4, 5, 6, 7, 8, 9]\n"
     ]
    }
   ],
   "source": [
    "array = [5,7,9,0,3,1,6,2,4,8]\n",
    "\n",
    "\n",
    "def quick_sort(array, start, end):\n",
    "    if start >= end: #원소가 1개인 경우는 종료한다.\n",
    "        return\n",
    "    \n",
    "    pivot = start\n",
    "    left = start + 1\n",
    "    right = end\n",
    "    \n",
    "    while left <= right:\n",
    "        while left <= end and array[left] <= array[start]:\n",
    "            left+=1\n",
    "            \n",
    "        while right > start and array[right] >= array[start]:\n",
    "            right-=1\n",
    "            \n",
    "        if left > right:\n",
    "            array[right], array[pivot] = array[pivot], array[right] \n",
    "        else:\n",
    "            array[left], array[right] = array[right], array[left] \n",
    "            \n",
    "    \n",
    "    quick_sort(array, start, right-1)\n",
    "    quick_sort(array, right+1, end)\n",
    "    \n",
    "quick_sort(array, 0, len(array) - 1)\n",
    "print(array)\n",
    "\n",
    "        "
   ]
  },
  {
   "cell_type": "code",
   "execution_count": 2,
   "id": "excellent-medicine",
   "metadata": {},
   "outputs": [
    {
     "name": "stdout",
     "output_type": "stream",
     "text": [
      "[0, 1, 2, 3, 4, 5, 6, 7, 8, 9]\n"
     ]
    }
   ],
   "source": [
    "#파이선 장점을 살린 quicksort\n",
    "# 시간이 조금 더 걸리나 직관적이다.\n",
    "\n",
    "array = [5,7,9,0,3,1,6,2,4,8]\n",
    "\n",
    "def quick_sort(array):\n",
    "    # 리스트가 하나 이하의 원소를 가지고 있을 경우는 종료처리\n",
    "    if len(array) <= 1 :\n",
    "        return array\n",
    "    \n",
    "    pivot = array[0]\n",
    "    tail = array[1:]\n",
    "    \n",
    "    left_side = [x for x in tail if x <= pivot]\n",
    "    right_side = [x for x in tail if x > pivot]\n",
    "    \n",
    "    return quick_sort(left_side) + [pivot] + quick_sort(right_side)\n",
    "\n",
    "                      \n",
    "print(quick_sort(array))\n",
    "# print(array)\n",
    "    "
   ]
  },
  {
   "cell_type": "code",
   "execution_count": 5,
   "id": "final-drove",
   "metadata": {},
   "outputs": [
    {
     "name": "stdout",
     "output_type": "stream",
     "text": [
      "0 0 1 1 2 2 3 4 5 5 6 7 8 9 9 "
     ]
    }
   ],
   "source": [
    "# 꼐수 정렬\n",
    "array = [7,5,9,0,3,1,6,2,9,1,4,8,0,5,2]\n",
    "\n",
    "count = [0] * (max(array) + 1)\n",
    "\n",
    "for i in range(len(array)):\n",
    "    count[array[i]] += 1\n",
    "    \n",
    "for i in range(len(count)):\n",
    "    for j in range(count[i]):\n",
    "        print(i, end=' ')"
   ]
  },
  {
   "cell_type": "code",
   "execution_count": 12,
   "id": "civilian-motorcycle",
   "metadata": {},
   "outputs": [
    {
     "name": "stdout",
     "output_type": "stream",
     "text": [
      "[('바나나', 2), ('당근', 3), ('사과', 5)]\n"
     ]
    }
   ],
   "source": [
    "array = [('바나나',2),('사과',5),('당근',3)]\n",
    "\n",
    "def setting(data):\n",
    "    return data[1]\n",
    "\n",
    "print(sorted(array, key=setting))\n",
    "\n",
    "# print(ord('당근'))\n",
    "print(sorted(array, key=lambda x:x[1]))"
   ]
  },
  {
   "cell_type": "code",
   "execution_count": 16,
   "id": "married-rebound",
   "metadata": {},
   "outputs": [
    {
     "name": "stdout",
     "output_type": "stream",
     "text": [
      "[8, 7, 5, 4, 3, 2]\n",
      "[4, 3, 5, 2, 8, 7]\n",
      "[2, 3, 4, 5, 7, 8]\n"
     ]
    }
   ],
   "source": [
    "test_list = [4,3,5,2,8,7]\n",
    "\n",
    "print(sorted(test_list, reverse=True))\n",
    "\n",
    "print(test_list)\n",
    "\n",
    "test_list.sort()\n",
    "print(test_list)"
   ]
  },
  {
   "cell_type": "markdown",
   "id": "southeast-moisture",
   "metadata": {},
   "source": [
    "# 수열을 내림차순으로..\n",
    "\n",
    "첫번쨰에 수열의 갯수 N\n",
    "그다음 수열숫자들\n",
    "\n",
    "### 입력 예시\n",
    "3\n",
    "\n",
    "15\n",
    "\n",
    "27\n",
    "\n",
    "12\n",
    "\n",
    "### 출력\n",
    "27 15 12\n",
    "\n"
   ]
  },
  {
   "cell_type": "code",
   "execution_count": 18,
   "id": "black-neighborhood",
   "metadata": {},
   "outputs": [
    {
     "name": "stdout",
     "output_type": "stream",
     "text": [
      "3\n",
      "15\n",
      "27\n",
      "12\n",
      "27 15 12 "
     ]
    }
   ],
   "source": [
    "data = int(input())\n",
    "\n",
    "data_all = []\n",
    "for x in range(data):\n",
    "    data_all.append(int(input()))\n",
    "    \n",
    "data_all.sort()\n",
    "data_all.reverse()\n",
    "\n",
    "for x in data_all:\n",
    "    print(x, end=' ')\n",
    "\n"
   ]
  },
  {
   "cell_type": "markdown",
   "id": "smart-theorem",
   "metadata": {},
   "source": [
    "# 성적이 낮은순\n",
    "\n",
    "이름과 성적 -> 낮은순대로 출력\n",
    "\n",
    "### 입력 예시\n",
    "\n",
    "2\n",
    "\n",
    "홍길동 95\n",
    "\n",
    "이순신 77\n",
    "\n",
    "### 출력 예시\n",
    "\n",
    "이순신 홍길동\n",
    "\n"
   ]
  },
  {
   "cell_type": "code",
   "execution_count": 24,
   "id": "cordless-monitor",
   "metadata": {},
   "outputs": [
    {
     "name": "stdout",
     "output_type": "stream",
     "text": [
      "2\n",
      "길동 95\n",
      "순신 77\n",
      "[('길동', 95), ('순신', 77)]\n",
      "순신 길동 "
     ]
    }
   ],
   "source": [
    "data_length = int(input())\n",
    "\n",
    "data_all = []\n",
    "for x in range(data_length):\n",
    "    input_data = input().split()\n",
    "    \n",
    "    data_all.append((input_data[0], int(input_data[1])))\n",
    "                    \n",
    "print(data_all)\n",
    "\n",
    "data_all = sorted(data_all, key=lambda x: x[1])\n",
    "\n",
    "for result in data_all:\n",
    "    print(result[0], end=' ')"
   ]
  },
  {
   "cell_type": "markdown",
   "id": "graduate-swing",
   "metadata": {},
   "source": [
    "# 두 배열의 원소 교체\n",
    "\n",
    "k번바꿔치기해서 a원소의 합이 최대가 되도록 -> 합을 출력한다.\n",
    "\n",
    "\n",
    "### 입력 예시\n",
    "\n",
    "5 3 \n",
    "\n",
    "1 2 5 4 3\n",
    "\n",
    "5 5 6 6 5\n",
    "\n",
    "### 출력 예시\n",
    "\n",
    "26\n",
    "\n",
    "\n"
   ]
  },
  {
   "cell_type": "code",
   "execution_count": 28,
   "id": "revolutionary-opinion",
   "metadata": {},
   "outputs": [
    {
     "name": "stdout",
     "output_type": "stream",
     "text": [
      "5 3\n",
      "1 2 5 4 3\n",
      "5 5 6 6 5\n",
      "5 3\n",
      "[1, 2, 5, 4, 3]\n",
      "[5, 5, 6, 6, 5]\n",
      "26\n"
     ]
    }
   ],
   "source": [
    "n, k = map(int, input().split())\n",
    "\n",
    "a_list = list(map(int, input().split()))\n",
    "b_list = list(map(int, input().split()))\n",
    "\n",
    "print(n, k)\n",
    "print(a_list)\n",
    "print(b_list)\n",
    "\n",
    "a_list.sort()\n",
    "b_list.sort()\n",
    "b_list.reverse()\n",
    "\n",
    "change_count = 0\n",
    "for check in range(n):\n",
    "    if change_count == k:\n",
    "        break\n",
    "    \n",
    "    if a_list[check] < b_list[check]:\n",
    "        a_list[check], b_list[check] = b_list[check], a_list[check]\n",
    "        change_count += 1\n",
    "        \n",
    "print(sum(a_list))\n",
    "        \n"
   ]
  },
  {
   "cell_type": "code",
   "execution_count": null,
   "id": "selective-thompson",
   "metadata": {},
   "outputs": [],
   "source": [
    "5 3\n",
    "1 2 5 4 3\n",
    "5 5 6 6 5"
   ]
  }
 ],
 "metadata": {
  "kernelspec": {
   "display_name": "Python 3",
   "language": "python",
   "name": "python3"
  },
  "language_info": {
   "codemirror_mode": {
    "name": "ipython",
    "version": 3
   },
   "file_extension": ".py",
   "mimetype": "text/x-python",
   "name": "python",
   "nbconvert_exporter": "python",
   "pygments_lexer": "ipython3",
   "version": "3.8.2"
  }
 },
 "nbformat": 4,
 "nbformat_minor": 5
}
