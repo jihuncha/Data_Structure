{
 "cells": [
  {
   "cell_type": "markdown",
   "metadata": {},
   "source": [
    "# 부품 찾기\n",
    "\n",
    "부품이 있을 경우는 yes 부품이 없을 경우는 no 를 반환\n",
    "\n",
    "### 입력 예시\n",
    "\n",
    "5\n",
    "\n",
    "8 3 7 9 2\n",
    "\n",
    "3\n",
    "\n",
    "5 7 9 \n",
    "\n",
    "### 출력 예시\n",
    "\n",
    "no yes yes"
   ]
  },
  {
   "cell_type": "code",
   "execution_count": 8,
   "metadata": {},
   "outputs": [
    {
     "name": "stdout",
     "output_type": "stream",
     "text": [
      "5\n",
      "8 3 7 9 2\n",
      "3\n",
      "5 7 9\n",
      "no yes yes "
     ]
    }
   ],
   "source": [
    "input_range = int(input())\n",
    "\n",
    "input_data = list(map(int, input().split()))\n",
    "\n",
    "my_data_range = int(input())\n",
    "\n",
    "my_data = list(map(int, input().split()))\n",
    "\n",
    "input_data.sort()\n",
    "\n",
    "# 재귀 이용\n",
    "def binary_search(array, target, start, end):\n",
    "    if start > end:\n",
    "        return None\n",
    "    \n",
    "    mid = (start + end) // 2\n",
    "#     print(\"mid == {}\".format(mid))\n",
    "    \n",
    "    if array[mid] == target:\n",
    "#         print(\"result == {}\".format(target))\n",
    "        return mid\n",
    "    elif array[mid] < target:\n",
    "        return binary_search(array, target, mid+1, end)\n",
    "    else:\n",
    "        return binary_search(array, target, start, mid-1)\n",
    "    \n",
    "# for 이용\n",
    "def binary_search_second(array, target, start, end):\n",
    "    while start <= end:\n",
    "        mid = (start + end) // 2\n",
    "        \n",
    "        if array[mid] == target:\n",
    "            return mid\n",
    "        elif array[mid] < target:\n",
    "            start = mid + 1\n",
    "        else:\n",
    "            end = mid - 1\n",
    "    \n",
    "    return None\n",
    "    \n",
    "for check in my_data:\n",
    "    temp_data = binary_search_second(input_data, check, 0, input_range-1)\n",
    "    if temp_data == None:\n",
    "        print('no', end=' ')\n",
    "    else:\n",
    "        print('yes', end=' ')\n",
    "    "
   ]
  },
  {
   "cell_type": "code",
   "execution_count": 9,
   "metadata": {},
   "outputs": [
    {
     "name": "stdout",
     "output_type": "stream",
     "text": [
      "5\n",
      "8 3 7 9 2\n",
      "3\n",
      "5 7 9 \n",
      "no yes yes "
     ]
    }
   ],
   "source": [
    "# 계수 정렬을 이용\n",
    "\n",
    "n = int(input())\n",
    "\n",
    "array = [0] * 1000001\n",
    "\n",
    "for i in input().split():\n",
    "    array[int(i)] = 1\n",
    "    \n",
    "m = int(input())\n",
    "\n",
    "x = list(map(int, input().split()))\n",
    "\n",
    "for i in x:\n",
    "    if array[i] == 1:\n",
    "        print('yes', end=' ')\n",
    "    else:\n",
    "        print('no', end=' ')"
   ]
  },
  {
   "cell_type": "code",
   "execution_count": 10,
   "metadata": {},
   "outputs": [
    {
     "name": "stdout",
     "output_type": "stream",
     "text": [
      "5\n",
      "8 3 7 9 2\n",
      "3\n",
      "5 7 9 \n",
      "no yes yes "
     ]
    }
   ],
   "source": [
    "#집합 자료형 이용\n",
    "n = int(input())\n",
    "\n",
    "array = set(map(int, input().split()))\n",
    "\n",
    "m = int(input())\n",
    "\n",
    "x = list(map(int, input().split()))\n",
    "\n",
    "for i in x:\n",
    "    if i in array:\n",
    "        print('yes', end=' ')\n",
    "    else:\n",
    "        print('no', end=' ')\n",
    "        \n",
    "\n"
   ]
  },
  {
   "cell_type": "markdown",
   "metadata": {},
   "source": [
    "# 떡볶이 떡 만들기\n",
    "\n",
    "떡을 잘라서 남은 부분을 손님이 가져간다. 손님이 요청한 길이가 M일때, 적어도 M만큼 얻기위해서 절단기 높이의 최대값을 설정해라\n",
    "\n",
    "### 입력 예시\n",
    "\n",
    "4 6\n",
    "\n",
    "19 15 10 17\n",
    "\n",
    "### 출력 예시\n",
    "\n",
    "15\n",
    "\n",
    "\n",
    "\n"
   ]
  },
  {
   "cell_type": "code",
   "execution_count": 35,
   "metadata": {},
   "outputs": [
    {
     "name": "stdout",
     "output_type": "stream",
     "text": [
      "4 6 \n",
      "19 17 10 15\n",
      "15\n"
     ]
    }
   ],
   "source": [
    "n, m = map(int, input().split())\n",
    "\n",
    "data = list(map(int, input().split()))\n",
    "\n",
    "start = 0\n",
    "end = max(data)\n",
    "temp_mid = 0\n",
    "\n",
    "def binary_search(data, start, end, target):\n",
    "    cutting_length = 0\n",
    "    global temp_mid \n",
    "    \n",
    "    if start > end:\n",
    "#         print(1)\n",
    "        return temp_mid\n",
    "\n",
    "#     print(2)\n",
    "    \n",
    "    mid = (start + end) // 2\n",
    "#     print(temp_mid)\n",
    "    \n",
    "    for check in data:\n",
    "        if check - mid > 0:\n",
    "            cutting_length += check - mid\n",
    "            \n",
    "    if cutting_length < target:\n",
    "        end = mid - 1\n",
    "        return binary_search(data, start, end, target)\n",
    "    else:\n",
    "        temp_mid = mid\n",
    "        start = mid + 1\n",
    "        return binary_search(data, start, end, target)\n",
    "\n",
    "\n",
    "\n",
    "print(binary_search(data, start, end, m))\n",
    "    \n",
    "                \n",
    "######global 사용법 숙지 필요...!!\n",
    "        \n",
    "                \n",
    "    "
   ]
  },
  {
   "cell_type": "code",
   "execution_count": null,
   "metadata": {},
   "outputs": [],
   "source": []
  },
  {
   "cell_type": "code",
   "execution_count": null,
   "metadata": {},
   "outputs": [],
   "source": []
  }
 ],
 "metadata": {
  "kernelspec": {
   "display_name": "Python 3",
   "language": "python",
   "name": "python3"
  },
  "language_info": {
   "codemirror_mode": {
    "name": "ipython",
    "version": 3
   },
   "file_extension": ".py",
   "mimetype": "text/x-python",
   "name": "python",
   "nbconvert_exporter": "python",
   "pygments_lexer": "ipython3",
   "version": "3.8.2"
  }
 },
 "nbformat": 4,
 "nbformat_minor": 4
}
