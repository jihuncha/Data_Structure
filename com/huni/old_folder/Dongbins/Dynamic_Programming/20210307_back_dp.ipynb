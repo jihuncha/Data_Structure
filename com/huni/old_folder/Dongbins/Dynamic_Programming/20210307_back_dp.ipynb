{
 "cells": [
  {
   "cell_type": "markdown",
   "id": "knowing-struggle",
   "metadata": {},
   "source": [
    "# 문제\n",
    "\n",
    "다음 소스는 N번째 피보나치 수를 구하는 C++ 함수이다.\n",
    "\n",
    "int fibonacci(int n) {\n",
    "\n",
    "    if (n == 0) {\n",
    "    \n",
    "        printf(\"0\");\n",
    "        \n",
    "        return 0;\n",
    "        \n",
    "    } else if (n == 1) {\n",
    "    \n",
    "        printf(\"1\");\n",
    "        \n",
    "        return 1;\n",
    "        \n",
    "    } else {\n",
    "    \n",
    "        return fibonacci(n‐1) + fibonacci(n‐2);\n",
    "        \n",
    "    }\n",
    "}\n",
    "\n",
    "fibonacci(3)을 호출하면 다음과 같은 일이 일어난다.\n",
    "\n",
    "fibonacci(3)은 fibonacci(2)와 fibonacci(1) (첫 번째 호출)을 호출한다.\n",
    "\n",
    "fibonacci(2)는 fibonacci(1) (두 번째 호출)과 fibonacci(0)을 호출한다.\n",
    "\n",
    "두 번째 호출한 fibonacci(1)은 1을 출력하고 1을 리턴한다.\n",
    "\n",
    "fibonacci(0)은 0을 출력하고, 0을 리턴한다.\n",
    "\n",
    "fibonacci(2)는 fibonacci(1)과 fibonacci(0)의 결과를 얻고, 1을 리턴한다.\n",
    "\n",
    "첫 번째 호출한 fibonacci(1)은 1을 출력하고, 1을 리턴한다.\n",
    "\n",
    "fibonacci(3)은 fibonacci(2)와 fibonacci(1)의 결과를 얻고, 2를 리턴한다.\n",
    "\n",
    "1은 2번 출력되고, 0은 1번 출력된다. N이 주어졌을 때, fibonacci(N)을 호출했을 때, \n",
    "\n",
    "0과 1이 각각 몇 번 출력되는지 구하는 프로그램을 작성하시오.\n",
    "\n",
    "### 입력\n",
    "\n",
    "첫째 줄에 테스트 케이스의 개수 T가 주어진다.\n",
    "\n",
    "각 테스트 케이스는 한 줄로 이루어져 있고, N이 주어진다. N은 40보다 작거나 같은 자연수 또는 0이다.\n",
    "\n",
    "### 출력\n",
    "\n",
    "각 테스트 케이스마다 0이 출력되는 횟수와 1이 출력되는 횟수를 공백으로 구분해서 출력한다.\n",
    "\n",
    "예제 입력 1 \n",
    "\n",
    "3\n",
    "\n",
    "0\n",
    "\n",
    "1\n",
    "\n",
    "3\n",
    "\n",
    "예제 출력 1 \n",
    "\n",
    "1 0\n",
    "\n",
    "0 1\n",
    "\n",
    "1 2"
   ]
  },
  {
   "cell_type": "code",
   "execution_count": 7,
   "id": "blind-imagination",
   "metadata": {},
   "outputs": [
    {
     "name": "stdout",
     "output_type": "stream",
     "text": [
      "3\n",
      "0\n",
      "1\n",
      "3\n",
      "1 0 \n",
      "0 1 \n",
      "1 2 \n"
     ]
    }
   ],
   "source": [
    "text_case = int(input())\n",
    "\n",
    "data = []\n",
    "for check in range(text_case):\n",
    "    data.append(int(input()))\n",
    "\n",
    "dic = {0:[1,0], 1:[0,1]}\n",
    "\n",
    "def pabonacchi_sample(x):    \n",
    "    \n",
    "    if x == 1:\n",
    "        return [0,1]\n",
    "    elif x == 0:\n",
    "        return [1,0]\n",
    "\n",
    "    if x in dic:\n",
    "        return dic[x]\n",
    "    \n",
    "    dic[x] = list_sum(pabonacchi_sample(x-1),pabonacchi_sample(x-2))\n",
    "    return dic[x]\n",
    "\n",
    "def list_sum(one,two):\n",
    "    result = [one[i]+two[i] for i in range(len(one))]\n",
    "    return result\n",
    "        \n",
    "\n",
    "for result in data:\n",
    "    pabonacchi_sample(result)\n",
    "#     print(dic[result])\n",
    "    for a in dic[result]:\n",
    "        print(a, end=' ')\n",
    "    print()\n",
    "    \n"
   ]
  },
  {
   "cell_type": "markdown",
   "metadata": {},
   "source": [
    "2# 333\n",
    "### "
   ]
  },
  {
   "cell_type": "markdown",
   "id": "strange-premium",
   "metadata": {},
   "source": []
  },
  {
   "cell_type": "code",
   "execution_count": 10,
   "metadata": {},
   "outputs": [
    {
     "name": "stdout",
     "output_type": "stream",
     "text": [
      "3\n",
      "0\n",
      "1 0\n",
      "1\n",
      "0 1\n",
      "2\n",
      "1 1\n"
     ]
    }
   ],
   "source": [
    "# import sys\n",
    "\n",
    "# t = int(sys.stdin.readline().rstrip())\n",
    "\n",
    "t = int(input())\n",
    "\n",
    "d = [0] * 41\n",
    "\n",
    "d[1] = 1\n",
    "d[2] = 1\n",
    "\n",
    "\n",
    "def fibo(x):\n",
    "    if x == 0:\n",
    "        return 0\n",
    "    elif x == 1:\n",
    "        return 1\n",
    "    elif d[x] != 0:\n",
    "        return d[x]\n",
    "    else:\n",
    "        d[x] = fibo(x - 1) + fibo(x - 2)\n",
    "        return d[x]\n",
    "\n",
    "\n",
    "for i in range(t):\n",
    "#     n = int(sys.stdin.readline().rstrip())\n",
    "    n = int(input())\n",
    "    if n == 0:\n",
    "        print(1, 0)\n",
    "    else:\n",
    "        print(fibo(n - 1), fibo(n))"
   ]
  },
  {
   "cell_type": "code",
   "execution_count": 22,
   "metadata": {},
   "outputs": [
    {
     "name": "stdout",
     "output_type": "stream",
     "text": [
      "18\n",
      "4\n"
     ]
    }
   ],
   "source": [
    "N = int(input())\n",
    "\n",
    "count = 0\n",
    "\n",
    "while True:\n",
    "    if N % 5 == 0:\n",
    "        count += N // 5\n",
    "        break\n",
    "    \n",
    "    N = N - 3\n",
    "    count += 1\n",
    "    \n",
    "    if N < 0:\n",
    "        count = -1\n",
    "        break\n",
    "    \n",
    "print(count)\n",
    "    "
   ]
  },
  {
   "cell_type": "code",
   "execution_count": 19,
   "metadata": {},
   "outputs": [
    {
     "name": "stdout",
     "output_type": "stream",
     "text": [
      "18\n",
      "4\n"
     ]
    }
   ],
   "source": [
    "N=int(input())\n",
    "count=0\n",
    "while N>=0:\n",
    "    if N%5==0:\n",
    "        count+=(N//5)\n",
    "        print(count)\n",
    "        break\n",
    "    N-=3\n",
    "    count+=1\n",
    "\n",
    "else:\n",
    "    print(-1)"
   ]
  },
  {
   "cell_type": "markdown",
   "metadata": {},
   "source": [
    "# 1, 2, 3 더하기\n",
    "\n",
    "### 9095 번 문제\n",
    "\n",
    "정수 4를 1, 2, 3의 합으로 나타내는 방법은 총 7가지가 있다. 합을 나타낼 때는 수를 1개 이상 사용해야 한다.\n",
    "\n",
    "1+1+1+1\n",
    "\n",
    "1+1+2\n",
    "\n",
    "1+2+1\n",
    "\n",
    "2+1+1\n",
    "\n",
    "2+2\n",
    "\n",
    "1+3\n",
    "\n",
    "3+1\n",
    "\n",
    "정수 n이 주어졌을 때, n을 1, 2, 3의 합으로 나타내는 방법의 수를 구하는 프로그램을 작성하시오.\n",
    "\n",
    "### 입력\n",
    "\n",
    "첫째 줄에 테스트 케이스의 개수 T가 주어진다. 각 테스트 케이스는 한 줄로 이루어져 있고, 정수 n이 주어진다. n은 양수이며 11보다 작다.\n",
    "\n",
    "### 출력\n",
    "\n",
    "각 테스트 케이스마다, n을 1, 2, 3의 합으로 나타내는 방법의 수를 출력한다."
   ]
  },
  {
   "cell_type": "code",
   "execution_count": null,
   "metadata": {},
   "outputs": [],
   "source": []
  }
 ],
 "metadata": {
  "kernelspec": {
   "display_name": "Python 3",
   "language": "python",
   "name": "python3"
  },
  "language_info": {
   "codemirror_mode": {
    "name": "ipython",
    "version": 3
   },
   "file_extension": ".py",
   "mimetype": "text/x-python",
   "name": "python",
   "nbconvert_exporter": "python",
   "pygments_lexer": "ipython3",
   "version": "3.7.6"
  }
 },
 "nbformat": 4,
 "nbformat_minor": 5
}
