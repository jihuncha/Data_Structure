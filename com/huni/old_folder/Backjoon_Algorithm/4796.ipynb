{
 "cells": [
  {
   "cell_type": "markdown",
   "metadata": {},
   "source": [
    "# 등산가\n",
    "\n",
    "김강산은 가족들과 함께 캠핑을 떠났다. 하지만, 캠핑장에는 다음과 같은 경고문이 쓰여 있었다.\n",
    "\n",
    "캠핑장은 연속하는 20일 중 10일동안만 사용할 수 있습니다.\n",
    "\n",
    "강산이는 이제 막 28일 휴가를 시작했다. 이번 휴가 기간 동안 강산이는 캠핑장을 며칠동안 사용할 수 있을까?\n",
    "\n",
    "강산이는 조금 더 일반화해서 문제를 풀려고 한다. \n",
    "\n",
    "캠핑장을 연속하는 P일 중, L일동안만 사용할 수 있다. 강산이는 이제 막 V일짜리 휴가를 시작했다. 강산이가 캠핑장을 최대 며칠동안 사용할 수 있을까? (1 < L < P < V)\n",
    "\n",
    "# 입력\n",
    "\n",
    "입력은 여러 개의 테스트 케이스로 이루어져 있다. 각 테스트 케이스는 한 줄로 이루어져 있고, L, P, V를 순서대로 포함하고 있다. 모든 입력 정수는 int범위이다. 마지막 줄에는 0이 3개 주어진다.\n",
    "\n",
    "### 예제 입력 1 \n",
    "\n",
    "5 8 20\n",
    "\n",
    "5 8 17\n",
    "\n",
    "0 0 0\n",
    "\n",
    "### 예제 출력 1 \n",
    "\n",
    "Case 1: 14\n",
    "\n",
    "Case 2: 11"
   ]
  },
  {
   "cell_type": "code",
   "execution_count": null,
   "metadata": {},
   "outputs": [
    {
     "name": "stdout",
     "output_type": "stream",
     "text": [
      "5 8 15\n",
      "1\n",
      "Case 1: 10\n"
     ]
    }
   ],
   "source": [
    "i = 1\n",
    "check = False\n",
    "while True:\n",
    "    L,P,V = map(int, input().split())\n",
    "    if L == 0 and P == 0 and V ==0:\n",
    "        break\n",
    "#     print(V // P)\n",
    "    temp = V % P\n",
    "    if V % P > L:\n",
    "        temp = L % P\n",
    "    print(\"Case {}: {}\".format(i, (V // P) * L + temp))\n",
    "    i+=1\n",
    "    \n",
    "\n",
    "# print(L,P,V)"
   ]
  },
  {
   "cell_type": "code",
   "execution_count": null,
   "metadata": {},
   "outputs": [],
   "source": []
  },
  {
   "cell_type": "code",
   "execution_count": null,
   "metadata": {},
   "outputs": [],
   "source": []
  },
  {
   "cell_type": "code",
   "execution_count": null,
   "metadata": {},
   "outputs": [],
   "source": []
  },
  {
   "cell_type": "code",
   "execution_count": null,
   "metadata": {},
   "outputs": [],
   "source": []
  }
 ],
 "metadata": {
  "kernelspec": {
   "display_name": "Python 3",
   "language": "python",
   "name": "python3"
  },
  "language_info": {
   "codemirror_mode": {
    "name": "ipython",
    "version": 3
   },
   "file_extension": ".py",
   "mimetype": "text/x-python",
   "name": "python",
   "nbconvert_exporter": "python",
   "pygments_lexer": "ipython3",
   "version": "3.7.6"
  }
 },
 "nbformat": 4,
 "nbformat_minor": 4
}
