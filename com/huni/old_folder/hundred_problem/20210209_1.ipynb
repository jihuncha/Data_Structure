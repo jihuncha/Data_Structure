{
 "cells": [
  {
   "cell_type": "code",
   "execution_count": 1,
   "id": "saved-messenger",
   "metadata": {},
   "outputs": [],
   "source": [
    "# 이미지가 컴퓨터에 저장될 때에도 디지털 데이터화 되어 저장된다.\n",
    "\n",
    "# 가장 기본적인 방법으로는 그림을 구성하는 한 점(pixel, 픽셀)의 색상을\n",
    "# 빨강(r), 초록(g), 파랑(b)의 3가지의 빛의 세기 값으로 따로 변환하여 저장하는 것인데,\n",
    "\n",
    "# 예를 들어 r, g, b 각 색에 대해서 8비트(0~255, 256가지 가능)씩을 사용한다고 하면,\n",
    "\n",
    "# 한 점의 색상은 3가지 r, g, b의 8비트+8비트+8비트로 총 24비트로 표현해서\n",
    "# 총 2^24 가지의 서로 다른 빛의 색깔을 사용할 수 있는 것이다.\n",
    "\n",
    "# 그렇게 저장하는 점을 모아 하나의 큰 이미지를 저장할 수 있게 되는데,\n",
    "# 1024 * 768 사이즈에 각 점에 대해 24비트로 저장하면 그 이미지를 저장하기 위한\n",
    "# 저장 용량을 계산할 수 있다.\n",
    "\n",
    "# 이렇게 이미지의 원래(raw) 데이터를 압축하지 않고 그대로 저장하는 대표적인 이미지 파일이\n",
    "# *.bmp 파일이며, 비트로 그림을 구성한다고 하여 비트맵 방식 또는 래스터 방식이라고 한다.\n",
    "\n",
    "# 이미지의 가로 해상도 w, 세로 해상도 h, 한 픽셀을 저장하기 위한 비트 b 가 주어질 때,\n",
    "# 압축하지 않고 저장하기 위해 필요한 저장 용량을 계산하는 프로그램을 작성해 보자.\n",
    "\n",
    "\n",
    "# 예를 들어\n",
    "# 일반적인 1024 * 768 사이즈(해상도)의 각점에 대해\n",
    "# 24비트(rgb 각각 8비트씩 3개)로 저장하려면 1024 * 768 * 24 bit의 저장 용량이 필요하다.\n",
    "\n",
    "# 실제 그런지 확인하고 싶다면, 간단한 그림 편집/수정 프로그램을 통해 확인할 수 있다.\n",
    "\n",
    "\n",
    "# **\n",
    "#       8 bit(비트)           = 1byte(바이트)     //       8bit=1Byte\n",
    "# 1024 Byte(210 byte) = 1KB(킬로 바이트) // 1024bit=1KB\n",
    "# 1024 KB(210 KB)      = 1MB(메가 바이트)\n",
    "# 1024 MB(210 MB)     = 1GB(기가 바이트)\n",
    "# 1024 GB(210 GB)      = 1TB(테라 바이트)\n",
    "\n",
    "# 입력\n",
    "# w, h, b 가 공백을 두고 입력된다.\n",
    "# 단, w, h는 모두 정수이고 1~1024 이다. b는 40이하의 4의 배수이다.\n",
    "\n",
    "\n",
    "# 출력\n",
    "# 필요한 저장 공간을 MB 단위로 바꾸어 출력한다.\n",
    "# 소수점 이하 셋째 자리에서 반올림해 둘째 자리까지 출력한 뒤 MB를 출력한다.\n",
    "\n",
    "\n",
    "# 입력 예시   \n",
    "# 1024 768 24\n",
    "\n",
    "# 출력 예시\n",
    "# 2.25 MB"
   ]
  },
  {
   "cell_type": "code",
   "execution_count": 10,
   "id": "competent-private",
   "metadata": {},
   "outputs": [
    {
     "name": "stdout",
     "output_type": "stream",
     "text": [
      "1024 768 24\n",
      "1024 768 24\n",
      "2.25 MB\n"
     ]
    }
   ],
   "source": [
    "w,h,b = map(int, input().split())\n",
    "# print(w,h,b)\n",
    "\n",
    "result = w*h*b/8/1024/1024\n",
    "\n",
    "print('%.2f MB' %result)\n",
    "\n",
    "# print(w*h*b/8/1024/1024)"
   ]
  },
  {
   "cell_type": "code",
   "execution_count": null,
   "id": "gross-volume",
   "metadata": {},
   "outputs": [],
   "source": [
    "# 1, 2, 3 ... 을 순서대로 계속 더해나갈 때,\n",
    "# 그 합이 입력한 정수보다 작을 동안만 계속 더하는 프로그램을 작성해보자.\n",
    "\n",
    "# 즉, 1부터 n까지 정수를 계속 더한다고 할 때,\n",
    "# 어디까지 더해야 입력한 수보다 같거나 커지는지 알아보고자 하는 문제이다.\n",
    "\n",
    "# 하지만, 이번에는 그 때의 합을 출력해야 한다.\n",
    "\n",
    "# 예를 들어 57을 입력하면\n",
    "# 1+2+3+...+8+9+10=55에 다시 11을 더해 66이 될 때,\n",
    "# 그 값 66이 출력되어야 한다.\n",
    "\n",
    "\n",
    "# 참고\n",
    "# 조건문이나 반복문의 코드블록 안에서 break;가 실행되면\n",
    "# 가장 가까운 반복 코드블록 구역의 밖으로 빠져나간다.\n",
    "\n",
    "\n",
    "# 예시\n",
    "# int n, i, s=0;\n",
    "# scanf(\"%d\", &n);\n",
    "# for(i=1; ; i++) //for 반목문에서 가운데의 조건이 빠진 경우 무한 반복된다.\n",
    "# {\n",
    "#   s+=i;\n",
    "#   if(s>=n)\n",
    "#     break; //참이면, 가장 가까운 반복 코드블록의 밖으로 빠져나간다.\n",
    "# } //break; 가 실행되면 반복을 중단하고 여기로 빠져 나온다.\n",
    "# printf(\"%d\", s);\n",
    "\n",
    "# 무한 반복이 되는 코드는\n",
    "# while(1) {...}, do {...}while(1); 등도 가능하다.\n",
    "# 0이 아니면 모두 참(true)으로 인식되기 때문이다.\n",
    "\n",
    "# 언제까지 합을 계산할 지, 정수 1개를 입력받는다.\n",
    "# 단, 입력되는 자연수는 100,000,000이하이다.\n",
    "\n",
    "\n",
    "# 출력\n",
    "# 1, 2, 3, 4, 5 ... 순서대로 계속 더해가다가, 그 합이 입력된 정수보다 커지거나 같아지는 경우,\n",
    "# 그때까지의 합을 출력한다.\n",
    "\n",
    "\n",
    "# 입력 예시   \n",
    "# 57\n",
    "\n",
    "# 출력 예시\n",
    "# 66"
   ]
  },
  {
   "cell_type": "code",
   "execution_count": 12,
   "id": "exterior-treaty",
   "metadata": {},
   "outputs": [
    {
     "name": "stdout",
     "output_type": "stream",
     "text": [
      "57\n",
      "66\n"
     ]
    }
   ],
   "source": [
    "data = int(input())\n",
    "\n",
    "start = 0\n",
    "result = 0\n",
    "\n",
    "while(result < data):\n",
    "    start +=1\n",
    "    result += start\n",
    "\n",
    "print(result)"
   ]
  },
  {
   "cell_type": "code",
   "execution_count": 13,
   "id": "chemical-couple",
   "metadata": {},
   "outputs": [],
   "source": [
    "# 1부터 입력한 정수까지 1씩 증가시켜 출력하는 프로그램을 작성하되,\n",
    "# 3의 배수인 경우는 출력하지 않도록 만들어보자.\n",
    "\n",
    "# 예를 들면,\n",
    "# 1 2 4 5 7 8 10 11 13 14 ...\n",
    "# 와 같이 출력하는 것이다.\n",
    "\n",
    "\n",
    "# 참고\n",
    "# 반복문 안에서 continue;가 실행되면 그 아래의 내용을 건너뛰고, 다음 반복을 수행한다.\n",
    "# 즉, 다음 반복으로 넘어가는 것이다.\n",
    "\n",
    "# 예시\n",
    "# for(i=1; i<=n; i++) //1부터 시작해 n까지 1씩 증가시키면서 반복한다.\n",
    "# {\n",
    "#   if(i%2==0)\n",
    "#     continue; //짝수라면? 아래 부분은 건너뛰고! 계속~\n",
    "#   printf(\"%d \", i); //결국 짝수가 아닐 때에만 출력된다.\n",
    "# }\n",
    "\n",
    "# 정수 1개를 입력받는다.\n",
    "# (1 ~ 100)\n",
    "\n",
    "\n",
    "# 출력\n",
    "# 1부터 입력한 정수보다 작거나 같을 때까지 1씩 증가시켜 출력하되\n",
    "# 3의 배수는 출력하지 않는다.\n",
    "\n",
    "\n",
    "# 입력 예시   \n",
    "# 10\n",
    "\n",
    "# 출력 예시\n",
    "# 1 2 4 5 7 8 10"
   ]
  },
  {
   "cell_type": "code",
   "execution_count": 14,
   "id": "according-illness",
   "metadata": {},
   "outputs": [
    {
     "name": "stdout",
     "output_type": "stream",
     "text": [
      "10\n",
      "1 2 4 5 7 8 10 "
     ]
    }
   ],
   "source": [
    "data = int(input())\n",
    "\n",
    "for result in range(1, data+1):\n",
    "    if result % 3 != 0:\n",
    "        print(result, end=' ')"
   ]
  },
  {
   "cell_type": "code",
   "execution_count": 15,
   "id": "strange-housing",
   "metadata": {},
   "outputs": [],
   "source": [
    "# 어떤 규칙에 따라 수를 순서대로 나열한 것을 수열(series)이라고 한다.\n",
    "\n",
    "# 예를 들어\n",
    "# 1 4 7 10 13 16 19 22 25 ... 은\n",
    "# 1부터 시작해 이전에 만든 수에 3을 더해 다음 수를 만든 수열이다.\n",
    "# 이러한 것을 수학에서는 앞뒤 수들의 차이가 같다고 하여\n",
    "\n",
    "# 등차(차이가 같다의 한문 말) 수열이라고 한다.\n",
    "# 수열을 알게 된 영일이는 갑자기 궁금해졌다.\n",
    "\n",
    "# \"그럼.... 123번째 나오는 수는 뭘까?\"\n",
    "\n",
    "# 영일이는 프로그램을 만들어 더 큰 수도 자동으로 계산하고 싶어졌다.\n",
    "\n",
    "# 시작 값(a), 등차(d), 몇 번째인지를 나타내는 정수(n)가 입력될 때\n",
    "# n번째 수를 출력하는 프로그램을 만들어보자.\n",
    "# 입력\n",
    "# 시작 값(a), 등차의 값(d), 몇 번째 수 인지를 의미하는 정수(n)가\n",
    "# 공백을 두고 입력된다.(모두 0 ~ 100)\n",
    "\n",
    "\n",
    "# 출력\n",
    "# n번째 수를 출력한다.\n",
    "\n",
    "\n",
    "# 입력 예시   \n",
    "# 1 3 5\n",
    "\n",
    "# 출력 예시\n",
    "# 13"
   ]
  },
  {
   "cell_type": "code",
   "execution_count": 17,
   "id": "august-honor",
   "metadata": {},
   "outputs": [
    {
     "name": "stdout",
     "output_type": "stream",
     "text": [
      "1 3 5\n",
      "13\n"
     ]
    }
   ],
   "source": [
    "a,d,m = map(int, input().split())\n",
    "\n",
    "start = 1\n",
    "\n",
    "while(start != m):\n",
    "    start += 1\n",
    "    a += d\n",
    "    \n",
    "print(a)"
   ]
  },
  {
   "cell_type": "code",
   "execution_count": null,
   "id": "appreciated-board",
   "metadata": {},
   "outputs": [],
   "source": [
    "# 어떤 규칙에 따라 수를 순서대로 나열한 것을 수열이라고 한다.\n",
    "\n",
    "# 예를 들어\n",
    "# 2 6 18 54 162 486 ... 은\n",
    "# 2부터 시작해 이전에 만든 수에 3을 곱해 다음 수를 만든 수열이다.\n",
    "\n",
    "# 이러한 것을 수학에서는 앞뒤 수들의 비율이 같다고 하여\n",
    "# 등비(비율이 같다의 한문 말) 수열이라고 한다.\n",
    "\n",
    "\n",
    "# 등비 수열을 알게된 영일이는 갑자기 궁금해졌다.\n",
    "\n",
    "# \"그럼.... 13번째 나오는 수는 뭘까?\"\n",
    "\n",
    "# 영일이는 프로그램을 만들어 더 큰 수도 자동으로 계산하고 싶어졌다.\n",
    "\n",
    "\n",
    "# 시작 값(a), 등비(r), 몇 번째인지를 나타내는 정수(n)가 입력될 때\n",
    "# n번째 수를 출력하는 프로그램을 만들어보자.\n",
    "\n",
    "# 입력\n",
    "# 시작 값(a), 등비의 값(r), 몇 번째 인지를 나타내는 정수(n)가\n",
    "# 공백을 두고 입력된다.(모두 0 ~ 10)\n",
    "\n",
    "\n",
    "# 출력\n",
    "# n번째 수를 출력한다.\n",
    "\n",
    "\n",
    "# 입력 예시   \n",
    "# 2 3 7\n",
    "\n",
    "# 출력 예시\n",
    "# 1458"
   ]
  },
  {
   "cell_type": "code",
   "execution_count": 19,
   "id": "alpha-botswana",
   "metadata": {},
   "outputs": [
    {
     "name": "stdout",
     "output_type": "stream",
     "text": [
      "2 3 7\n",
      "1458\n"
     ]
    }
   ],
   "source": [
    "a,d,m = map(int, input().split())\n",
    "\n",
    "start = 1\n",
    "\n",
    "while(start != m):\n",
    "    start += 1\n",
    "    a *= d\n",
    "    \n",
    "print(a)"
   ]
  },
  {
   "cell_type": "code",
   "execution_count": null,
   "id": "romance-return",
   "metadata": {},
   "outputs": [],
   "source": [
    "# 어떤 규칙에 따라 수를 순서대로 나열한 것을 수열이라고 한다.\n",
    "\n",
    "# 예를 들어\n",
    "# 1 -1 3 -5 11 -21 43 ... 은\n",
    "# 1부터 시작해 이전에 만든 수에 -2를 곱한 다음 1을 더해 다음 수를 만든 수열이다.\n",
    "# \n",
    "# 이런 이상한 수열을 알게 된 영일이는 또 궁금해졌다.\n",
    "\n",
    "# \"그럼.... 13번째 나오는 수는 뭘까?\"\n",
    "\n",
    "# 영일이는 물론 수학을 아주 잘하지만 이런 문제는 본 적이 거의 없었다...\n",
    "\n",
    "# 그래서 프로그램을 만들어 더 큰 수도 자동으로 계산하고 싶어졌다.\n",
    "\n",
    "\n",
    "# 시작 값(a), 곱할 값(m), 더할 값(d), 몇 번째인지를 나타내는 정수(n)가 입력될 때,\n",
    "# n번째 수를 출력하는 프로그램을 만들어보자.\n",
    "\n",
    "# 입력\n",
    "# 시작 값(a), 곱할 값(m), 더할 값(d), 몇 번째 인지를 나타내는 정수(n)가\n",
    "# 공백을 두고 입력된다.(a, m, d는 -50 ~ +50, n은 10이하의 자연수)\n",
    "\n",
    "\n",
    "# 출력\n",
    "# n번째 수를 출력한다.\n",
    "\n",
    "\n",
    "# 입력 예시   \n",
    "# 1 -2 1 8\n",
    "\n",
    "# 출력 예시\n",
    "# -85"
   ]
  },
  {
   "cell_type": "code",
   "execution_count": 20,
   "id": "mature-anchor",
   "metadata": {},
   "outputs": [
    {
     "name": "stdout",
     "output_type": "stream",
     "text": [
      "1 -2 1 8\n",
      "-85\n"
     ]
    }
   ],
   "source": [
    "a,m,d,p = map(int, input().split())\n",
    "\n",
    "start = 1\n",
    "\n",
    "while(start != p):\n",
    "    start += 1\n",
    "    a = a*m + d\n",
    "    \n",
    "print(a)"
   ]
  },
  {
   "cell_type": "code",
   "execution_count": null,
   "id": "equal-strike",
   "metadata": {},
   "outputs": [],
   "source": [
    "# 온라인 채점시스템에는 초등학생, 중고등학생, 대학생, 대학원생,\n",
    "# 일반인, 군인, 프로그래머, 탑코더 등 아주 많은 사람들이 들어와 문제를 풀고 있는데,\n",
    "\n",
    "# 실시간 채점 정보는 메뉴의 채점기록(Judge Status)을 통해 살펴볼 수 있다.\n",
    "\n",
    "# 자! 여기서...잠깐..\n",
    "# 같은 날 동시에 가입한 3명의 사람들이 온라인 채점시스템에 들어와 문제를 푸는 날짜가\n",
    "# 매우 규칙적이라고 할 때, 다시 모두 함께 문제를 풀게 되는 그날은 언제일까?\n",
    "\n",
    "# 예를 들어 3명이 같은 날 가입/등업하고, 각각 3일마다, 7일마다, 9일마다\n",
    "# 한 번씩 들어온다면, 처음 가입하고 63일 만에 다시 3명이 함께 문제를 풀게 된다.\n",
    "\n",
    "\n",
    "# 갑자기 힌트?\n",
    "\n",
    "# 왠지 어려워 보이지 않는가?\n",
    "\n",
    "# 수학에서 배운 최소공배수를 생각한 사람들도 있을 것이다. 하지만, 정보에서 배우고 경험하는\n",
    "# 정보과학의 세상은 때때로 컴퓨터의 힘을 빌려 간단한 방법으로 해결할 수 있게 한다.\n",
    "\n",
    "# 아래의 코드를 읽고 이해한 후 도전해 보자.\n",
    "\n",
    "# day는 날 수, a/b/c는 방문 주기이다.\n",
    "# ...\n",
    "# day=1;\n",
    "# while(day%a!=0 || day%b!=0 || day%c!=0) day++; //이게 무슨 의미일까?\n",
    "# printf(＂%d＂, day);\n",
    "# ...\n",
    "\n",
    "# 물론, 아주 많은 다양한 방법이 있을 수 있다.\n",
    "\n",
    "# 정보과학의 문제해결에 있어서 정답은?\n",
    "# 하나가 아니라 주어진 시간/기억공간으로 정확한 결과를 얻을 수 있는 모든 방법이다.\n",
    "\n",
    "# 따라서, 모든 문제들에는 정답이 하나뿐만이 아니다.\n",
    "\n",
    "# 새로운, 더 빠른, 더 간단한 방법을 다양하게 생각해보고 도전해 볼 수 있다.\n",
    "\n",
    "# 3명이 다시 모두 함께 방문해 문제를 풀어보는 날(동시 가입/등업 후 며칠 후?)을 출력한다.\n",
    "\n",
    "\n",
    "# 입력 예시   \n",
    "# 3 7 9\n",
    "\n",
    "# 출력 예시\n",
    "# 63"
   ]
  },
  {
   "cell_type": "markdown",
   "id": "tropical-physiology",
   "metadata": {},
   "source": [
    "위에 문제를 풀기위해..\n",
    "\n",
    "## 1.최대공약수 GCD(Greatest Common Divisor)\n",
    "최대공약수는 두 자연수의 공통된 약수 중 가장 큰 수를 의미한다.\n",
    "\n",
    "ex) 72 와 30의 최대공약수는 6이다.\n",
    "\n",
    "## 2.최소공배수 LCM(Least Common Multiple)\n",
    "최소공배수는 두 자연수의 공통된 배수 중 가장 작은 수를 의미한다.\n",
    "최소공배수 = 두 자연수의 곱 / 최대공약수\n",
    "\n",
    "ex) 72 와 30의 최소공배수는 360이다.\n",
    "\n",
    "\n",
    "## 3.유클리드 호제법(Euclidean Algorithm)\n",
    "2개의 자연수를 받아 최대공약수를 받기 위해 2부터 두 자연수 중 작은 자연수까지 모두 나누어보면서 가장 큰 공약수를 구할 수 있다.\n",
    "\n",
    "유클리드 호제법이란 알고리즘을 사용하면 시간복잡도를 O(logN)으로 줄일 수 있다.\n",
    "\n",
    "\n"
   ]
  },
  {
   "cell_type": "code",
   "execution_count": 38,
   "id": "regular-trouble",
   "metadata": {},
   "outputs": [
    {
     "name": "stdout",
     "output_type": "stream",
     "text": [
      "33 6\n"
     ]
    },
    {
     "data": {
      "text/plain": [
       "3"
      ]
     },
     "execution_count": 38,
     "metadata": {},
     "output_type": "execute_result"
    }
   ],
   "source": [
    "#최대 공약수 구하기 (유클리드 호제법 O)\n",
    "\n",
    "def gcd(x,y):\n",
    "    t = 1\n",
    "    if x < y :    \n",
    "        x,y = y,x  # x와 y 스위칭\n",
    "    elif x > y :\n",
    "        while t != 0:\n",
    "            t = x%y\n",
    "            x = y\n",
    "            y = t\n",
    "    else :\n",
    "        return x\n",
    "    return x\n",
    "\n",
    "\n",
    "x,y = map(int, input().split())\n",
    "\n",
    "gcd(x,y)\n",
    "\n"
   ]
  },
  {
   "cell_type": "code",
   "execution_count": 39,
   "id": "beautiful-reservoir",
   "metadata": {},
   "outputs": [
    {
     "name": "stdout",
     "output_type": "stream",
     "text": [
      "33 6\n"
     ]
    },
    {
     "data": {
      "text/plain": [
       "3"
      ]
     },
     "execution_count": 39,
     "metadata": {},
     "output_type": "execute_result"
    }
   ],
   "source": [
    "# 최대 공약수 구하기 (유클리드 호제법 O + 재귀 호출)\n",
    "\n",
    "def gcd(x,y):\n",
    "    if y == 0:\n",
    "        return x\n",
    "    return gcd(y, x%y)\n",
    "\n",
    "\n",
    "x,y = map(int, input().split())\n",
    "\n",
    "gcd(x,y)"
   ]
  },
  {
   "cell_type": "code",
   "execution_count": 52,
   "id": "typical-swaziland",
   "metadata": {},
   "outputs": [
    {
     "name": "stdout",
     "output_type": "stream",
     "text": [
      "3 7 9\n",
      "63\n"
     ]
    }
   ],
   "source": [
    "# 문제해결..\n",
    "\n",
    "def gcd(x,y):\n",
    "    if y == 0:\n",
    "        return x\n",
    "    return gcd(y, x%y)\n",
    "\n",
    "def lcm(x,y,gcd):\n",
    "    return x * y / gcd\n",
    "\n",
    "# x,y = map(int, input().split())\n",
    "\n",
    "# print(gcd(x,y))\n",
    "# print(int(lcm(x,y,gcd(x,y))))\n",
    "\n",
    "\n",
    "a,b,c = map(int, input().split())\n",
    "\n",
    "first_result = int(lcm(a,b,gcd(a,b)))\n",
    "final_result = int(lcm(first_result, c, gcd(first_result, c)))\n",
    "print(final_result)"
   ]
  },
  {
   "cell_type": "code",
   "execution_count": null,
   "id": "coral-mistress",
   "metadata": {},
   "outputs": [],
   "source": [
    "# 정보 선생님은 수업을 시작하기 전에 이상한 출석을 부른다.\n",
    "\n",
    "# 선생님은 출석부를 보고 번호를 부르는데,\n",
    "# 학생들의 얼굴과 이름을 빨리 익히기 위해 번호를 무작위(랜덤)으로 부른다.\n",
    "\n",
    "# 그리고 얼굴과 이름이 잘 기억되지 않는 학생들은 번호를 여러 번 불러\n",
    "# 이름과 얼굴을 빨리 익히려고 하는 것이다.\n",
    "\n",
    "# 출석 번호를 n번 무작위로 불렀을 때, 각 번호(1 ~ 23)가 불린 횟수를 각각 출력해보자.\n",
    "\n",
    "# 입력\n",
    "# 첫 번째 줄에 출석 번호를 부른 횟수인 정수 n이 입력된다. (1 ~ 10000)\n",
    "# 두 번째 줄에는 무작위로 부른 n개의 번호(1 ~ 23)가 공백을 두고 순서대로 입력된다.\n",
    "\n",
    "\n",
    "# 출력\n",
    "# 1번부터 번호가 불린 횟수를 순서대로 공백으로 구분하여 한 줄로 출력한다.\n",
    "\n",
    "\n",
    "# 입력 예시   \n",
    "# 10\n",
    "# 1 3 2 2 5 6 7 4 5 9\n",
    "\n",
    "# 출력 예시\n",
    "# 1 2 1 1 2 1 1 0 1 0 0 0 0 0 0 0 0 0 0 0 0 0 0"
   ]
  },
  {
   "cell_type": "code",
   "execution_count": 59,
   "id": "studied-patient",
   "metadata": {},
   "outputs": [
    {
     "name": "stdout",
     "output_type": "stream",
     "text": [
      "10\n",
      "1 3 2 2 5 6 7 4 5 9\n",
      "1 2 1 1 2 1 1 0 1 0 0 0 0 0 0 0 0 0 0 0 0 0 0 "
     ]
    }
   ],
   "source": [
    "count_all = int(input())\n",
    "\n",
    "count_detail = list(map(int, input().split()))\n",
    "\n",
    "#초기화...\n",
    "result_list = [0] * 23\n",
    "\n",
    "#make list\n",
    "for mak_list in count_detail:\n",
    "    result_list[mak_list - 1] += 1\n",
    "    \n",
    "#print\n",
    "for output in result_list:\n",
    "    print(output, end=' ')\n",
    "\n",
    "# print(result_list)\n",
    "\n",
    "# print(count_detail)"
   ]
  },
  {
   "cell_type": "code",
   "execution_count": 60,
   "id": "weird-debate",
   "metadata": {},
   "outputs": [],
   "source": [
    "# 입력\n",
    "# 번호를 부른 횟수(n, 1 ~ 10000)가 첫 줄에 입력된다.\n",
    "# n개의 랜덤 번호(k, 1 ~ 23)가 두 번째 줄에 공백을 사이에 두고 순서대로 입력된다.\n",
    "\n",
    "\n",
    "# 출력\n",
    "# 출석을 부른 번호 순서를 바꾸어 공백을 두고 출력한다.\n",
    "\n",
    "\n",
    "# 입력 예시   \n",
    "# 10\n",
    "# 10 4 2 3 6 6 7 9 8 5\n",
    "\n",
    "# 출력 예시\n",
    "# 5 8 9 7 6 6 3 2 4 10"
   ]
  },
  {
   "cell_type": "code",
   "execution_count": 62,
   "id": "sexual-bennett",
   "metadata": {},
   "outputs": [
    {
     "name": "stdout",
     "output_type": "stream",
     "text": [
      "10\n",
      "10 4 2 3 6 6 7 9 8 5\n",
      "5 8 9 7 6 6 3 2 4 10 "
     ]
    }
   ],
   "source": [
    "count_all = int(input())\n",
    "\n",
    "count_detail = list(map(int, input().split()))\n",
    "\n",
    "count_detail.reverse()\n",
    "\n",
    "#print\n",
    "for output in count_detail:\n",
    "    print(output, end=' ')\n",
    "\n",
    "# print(count_detail)"
   ]
  },
  {
   "cell_type": "code",
   "execution_count": null,
   "id": "settled-female",
   "metadata": {},
   "outputs": [],
   "source": [
    "# 정보 선생님은 오늘도 이상한 출석을 부른다.\n",
    "\n",
    "# 영일이는 오늘도 다른 생각을 해보았다.\n",
    "# 출석 번호를 다 부르지는 않은 것 같은데... 가장 빠른 번호가 뭐였지?\n",
    "\n",
    "# 출석 번호를 n번 무작위로 불렀을 때, 가장 빠른 번호를 출력해 보자.\n",
    "\n",
    "\n",
    "# 참고\n",
    "# 배열에 순서대로 기록해 두면, 기록된 내용을 모두 검사해 가장 작은 값을 찾아내면 된다.\n",
    "\n",
    "# 그런데, 가장 작은 값은 어떻게 어떤 것과 비교하고 찾아야 할까?\n",
    "\n",
    "# 입력\n",
    "# 번호를 부른 횟수(n, 1 ~ 10000)가 첫 줄에 입력된다.\n",
    "# n개의 랜덤 번호(k, 1 ~ 23)가 두 번째 줄에 공백을 사이에 두고 순서대로 입력된다.\n",
    "\n",
    "\n",
    "# 출력\n",
    "# 출석을 부른 번호 중에 가장 빠른 번호를 1개만 출력한다.\n",
    "\n",
    "\n",
    "# 입력 예시   \n",
    "# 10\n",
    "# 10 4 2 3 6 6 7 9 8 5\n",
    "\n",
    "# 출력 예시\n",
    "# 2"
   ]
  },
  {
   "cell_type": "code",
   "execution_count": 63,
   "id": "japanese-depth",
   "metadata": {},
   "outputs": [
    {
     "name": "stdout",
     "output_type": "stream",
     "text": [
      "10\n",
      "10 4 2 3 6 6 7 9 8 5\n",
      "2\n"
     ]
    }
   ],
   "source": [
    "count_all = int(input())\n",
    "\n",
    "count_detail = list(map(int, input().split()))\n",
    "\n",
    "temp_minimum = 0\n",
    "\n",
    "for idx,mak_result in enumerate(count_detail):\n",
    "    if idx == 0:\n",
    "        temp_minimum = mak_result\n",
    "    else:\n",
    "        if temp_minimum > mak_result:\n",
    "            temp_minimum = mak_result\n",
    "\n",
    "print(temp_minimum)\n",
    "\n"
   ]
  },
  {
   "cell_type": "code",
   "execution_count": null,
   "id": "strong-bangkok",
   "metadata": {},
   "outputs": [],
   "source": [
    "# 기숙사 생활을 하는 학교에서 어떤 금요일(전원 귀가일)에는 모두 집으로 귀가를 한다.\n",
    "\n",
    "# 오랜만에 집에 간 영일이는 아버지와 함께 두던 매우 큰 오목에 대해서 생각해 보다가\n",
    "# \"바둑판에 돌을 올린 것을 프로그래밍 할 수 있을까?\"하고 생각하였다.\n",
    "\n",
    "# 바둑판(19 * 19)에 n개의 흰 돌을 놓는다고 할 때,\n",
    "# n개의 흰 돌이 놓인 위치를 출력하는 프로그램을 작성해보자.\n",
    "\n",
    "\n",
    "# 참고\n",
    "# 가로번호, 세로번호를 사용할 수 있는 2차원 배열을 사용하면\n",
    "# 이러한 형태를 쉽게 기록하고 사용할 수 있다. 물론 더 확장한 n차원 배열도 만들 수 있다.\n",
    "\n",
    "# 입력\n",
    "# 바둑판에 올려 놓을 흰 돌의 개수(n)가 첫 줄에 입력된다.\n",
    "# 둘째 줄 부터 n+1 번째 줄까지 힌 돌을 놓을 좌표(x, y)가 n줄 입력된다.\n",
    "# n은 10이하의 자연수이고 x, y 좌표는 1 ~ 19 까지이며, 같은 좌표는 입력되지 않는다.\n",
    "\n",
    "\n",
    "# 출력\n",
    "# 흰 돌이 올려진 바둑판의 상황을 출력한다.\n",
    "# 흰 돌이 있는 위치는 1, 없는 곳은 0으로 출력한다.\n",
    "\n",
    "\n",
    "# 입력 예시   \n",
    "# 5\n",
    "# 1 1\n",
    "# 2 2\n",
    "# 3 3\n",
    "# 4 4\n",
    "# 5 5\n",
    "\n",
    "# 출력 예시\n",
    "# 1 0 0 0 0 0 0 0 0 0 0 0 0 0 0 0 0 0 0\n",
    "# 0 1 0 0 0 0 0 0 0 0 0 0 0 0 0 0 0 0 0\n",
    "# 0 0 1 0 0 0 0 0 0 0 0 0 0 0 0 0 0 0 0\n",
    "# 0 0 0 1 0 0 0 0 0 0 0 0 0 0 0 0 0 0 0\n",
    "# 0 0 0 0 1 0 0 0 0 0 0 0 0 0 0 0 0 0 0\n",
    "# 0 0 0 0 0 0 0 0 0 0 0 0 0 0 0 0 0 0 0\n",
    "# 0 0 0 0 0 0 0 0 0 0 0 0 0 0 0 0 0 0 0\n",
    "# 0 0 0 0 0 0 0 0 0 0 0 0 0 0 0 0 0 0 0\n",
    "# 0 0 0 0 0 0 0 0 0 0 0 0 0 0 0 0 0 0 0\n",
    "# 0 0 0 0 0 0 0 0 0 0 0 0 0 0 0 0 0 0 0\n",
    "# 0 0 0 0 0 0 0 0 0 0 0 0 0 0 0 0 0 0 0\n",
    "# 0 0 0 0 0 0 0 0 0 0 0 0 0 0 0 0 0 0 0\n",
    "# 0 0 0 0 0 0 0 0 0 0 0 0 0 0 0 0 0 0 0\n",
    "# 0 0 0 0 0 0 0 0 0 0 0 0 0 0 0 0 0 0 0\n",
    "# 0 0 0 0 0 0 0 0 0 0 0 0 0 0 0 0 0 0 0\n",
    "# 0 0 0 0 0 0 0 0 0 0 0 0 0 0 0 0 0 0 0\n",
    "# 0 0 0 0 0 0 0 0 0 0 0 0 0 0 0 0 0 0 0\n",
    "# 0 0 0 0 0 0 0 0 0 0 0 0 0 0 0 0 0 0 0\n",
    "# 0 0 0 0 0 0 0 0 0 0 0 0 0 0 0 0 0 0 0"
   ]
  },
  {
   "cell_type": "code",
   "execution_count": 70,
   "id": "english-perth",
   "metadata": {},
   "outputs": [
    {
     "name": "stdout",
     "output_type": "stream",
     "text": [
      "5\n",
      "1 1\n",
      "2 2\n",
      "3 3\n",
      "4 4\n",
      "5 5\n",
      "1 0 0 0 0 0 0 0 0 0 0 0 0 0 0 0 0 0 0 \n",
      "0 1 0 0 0 0 0 0 0 0 0 0 0 0 0 0 0 0 0 \n",
      "0 0 1 0 0 0 0 0 0 0 0 0 0 0 0 0 0 0 0 \n",
      "0 0 0 1 0 0 0 0 0 0 0 0 0 0 0 0 0 0 0 \n",
      "0 0 0 0 1 0 0 0 0 0 0 0 0 0 0 0 0 0 0 \n",
      "0 0 0 0 0 0 0 0 0 0 0 0 0 0 0 0 0 0 0 \n",
      "0 0 0 0 0 0 0 0 0 0 0 0 0 0 0 0 0 0 0 \n",
      "0 0 0 0 0 0 0 0 0 0 0 0 0 0 0 0 0 0 0 \n",
      "0 0 0 0 0 0 0 0 0 0 0 0 0 0 0 0 0 0 0 \n",
      "0 0 0 0 0 0 0 0 0 0 0 0 0 0 0 0 0 0 0 \n",
      "0 0 0 0 0 0 0 0 0 0 0 0 0 0 0 0 0 0 0 \n",
      "0 0 0 0 0 0 0 0 0 0 0 0 0 0 0 0 0 0 0 \n",
      "0 0 0 0 0 0 0 0 0 0 0 0 0 0 0 0 0 0 0 \n",
      "0 0 0 0 0 0 0 0 0 0 0 0 0 0 0 0 0 0 0 \n",
      "0 0 0 0 0 0 0 0 0 0 0 0 0 0 0 0 0 0 0 \n",
      "0 0 0 0 0 0 0 0 0 0 0 0 0 0 0 0 0 0 0 \n",
      "0 0 0 0 0 0 0 0 0 0 0 0 0 0 0 0 0 0 0 \n",
      "0 0 0 0 0 0 0 0 0 0 0 0 0 0 0 0 0 0 0 \n",
      "0 0 0 0 0 0 0 0 0 0 0 0 0 0 0 0 0 0 0 \n"
     ]
    }
   ],
   "source": [
    "#배열 초기화\n",
    "#리스트 초기화 -> list comprehension \n",
    "array = [[0] * 19 for _ in range(19)]\n",
    "\n",
    "# print(array)\n",
    "\n",
    "line_count = int(input())\n",
    "# list_temp = []\n",
    "\n",
    "for check in range(line_count):\n",
    "    a,b = map(int, input().split())\n",
    "    array[a - 1][b - 1] = 1\n",
    "\n",
    "# print(array)\n",
    "\n",
    "for result_show in array:\n",
    "    for result_show_second in result_show:\n",
    "        print(result_show_second, end=' ')\n",
    "    print('')\n",
    "\n",
    "# print(list_temp)"
   ]
  },
  {
   "cell_type": "code",
   "execution_count": 68,
   "id": "continuous-emergency",
   "metadata": {},
   "outputs": [
    {
     "name": "stdout",
     "output_type": "stream",
     "text": [
      "[[0, 0, 0, 0, 0], [0, 0, 0, 0, 0], [0, 0, 0, 0, 0], [0, 0, 0, 0, 0], [0, 0, 0, 0, 0]]\n",
      "[[0, 0, 0, 0, 0], [0, 5, 0, 0, 0], [0, 0, 0, 0, 0], [0, 0, 0, 0, 0], [0, 0, 0, 0, 0]]\n"
     ]
    }
   ],
   "source": [
    "# #배열 초기화\n",
    "# #리스트 초기화 -> list comprehension \n",
    "# array = [[0] * 5 for _ in range(5)]\n",
    "\n",
    "# print(array)\n",
    "\n",
    "# array[1][1] = 5\n",
    "# print(array)"
   ]
  },
  {
   "cell_type": "code",
   "execution_count": null,
   "id": "massive-detroit",
   "metadata": {},
   "outputs": [],
   "source": []
  }
 ],
 "metadata": {
  "kernelspec": {
   "display_name": "Python 3",
   "language": "python",
   "name": "python3"
  },
  "language_info": {
   "codemirror_mode": {
    "name": "ipython",
    "version": 3
   },
   "file_extension": ".py",
   "mimetype": "text/x-python",
   "name": "python",
   "nbconvert_exporter": "python",
   "pygments_lexer": "ipython3",
   "version": "3.8.2"
  }
 },
 "nbformat": 4,
 "nbformat_minor": 5
}
