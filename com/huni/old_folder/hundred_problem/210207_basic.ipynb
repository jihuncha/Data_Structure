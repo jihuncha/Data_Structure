{
 "cells": [
  {
   "cell_type": "code",
   "execution_count": 4,
   "metadata": {},
   "outputs": [
    {
     "name": "stdout",
     "output_type": "stream",
     "text": [
      "12.23\n",
      "12.230000\n"
     ]
    }
   ],
   "source": [
    "#자리수 표현 -> %\n",
    "\n",
    "test = input()\n",
    "print(\"%0.6f\" % float(test))"
   ]
  },
  {
   "cell_type": "code",
   "execution_count": 5,
   "metadata": {},
   "outputs": [
    {
     "name": "stdout",
     "output_type": "stream",
     "text": [
      "10.23\n",
      "10.230000\n"
     ]
    }
   ],
   "source": [
    "#자리수 표현 -> %\n",
    "\n",
    "test = input()\n",
    "print(\"%0.6f\" % float(test))"
   ]
  },
  {
   "cell_type": "code",
   "execution_count": 6,
   "metadata": {},
   "outputs": [
    {
     "name": "stdout",
     "output_type": "stream",
     "text": [
      "12.2\n",
      "12.20\n"
     ]
    }
   ],
   "source": [
    "b = float(input())\n",
    "print(\"%.2f\" % b)"
   ]
  },
  {
   "cell_type": "code",
   "execution_count": 7,
   "metadata": {},
   "outputs": [
    {
     "name": "stdout",
     "output_type": "stream",
     "text": [
      "1 2\n",
      "1 2\n"
     ]
    }
   ],
   "source": [
    "#input()\n",
    "\n",
    "a,b = input().split()\n",
    "print(a, b)"
   ]
  },
  {
   "cell_type": "code",
   "execution_count": 20,
   "metadata": {},
   "outputs": [
    {
     "name": "stdout",
     "output_type": "stream",
     "text": [
      "0b111100\n",
      "0o74\n",
      "0x3c\n",
      "===========================\n",
      "111100\n",
      "74\n",
      "3c\n",
      "===========================\n",
      "60\n",
      "60\n",
      "60\n"
     ]
    }
   ],
   "source": [
    "#파이선 진수 변환 \n",
    "#내장함수를 이용한다.\n",
    "\n",
    "value = 60\n",
    "\n",
    "#2, 8, 16 진수 표현\n",
    "print(bin(value))\n",
    "print(oct(value))\n",
    "print(hex(value))\n",
    "\n",
    "print(\"===========================\")\n",
    "#.format 사용\n",
    "\n",
    "b = format(value, 'b')\n",
    "o = format(value, 'o')\n",
    "h = format(value, 'x')\n",
    "\n",
    "print(b)\n",
    "print(o)\n",
    "print(h)\n",
    "\n",
    "print(\"===========================\")\n",
    "\n",
    "#다른인자를 10진수로 변환\n",
    "b_result = int('0b111100', 2)\n",
    "o_result = int('0o74', 8)\n",
    "h_result = int('0x3c', 16)\n",
    "\n",
    "print(b_result)\n",
    "print(o_result)\n",
    "print(h_result)\n",
    "\n"
   ]
  },
  {
   "cell_type": "code",
   "execution_count": 22,
   "metadata": {},
   "outputs": [
    {
     "name": "stdout",
     "output_type": "stream",
     "text": [
      "2진수:111100, 8진수:74, 16진수:3c\n",
      "2진수:0b111100, 8진수:0o74, 16진수:0x3c\n"
     ]
    }
   ],
   "source": [
    "# 표현..? 0 이 무엇인가?\n",
    "s = \"2진수:{0:b}, 8진수:{0:o}, 16진수:{0:x}\".format(60)\n",
    "s_test = \"2진수:{0:#b}, 8진수:{0:#o}, 16진수:{0:#x}\".format(60)\n",
    "\n",
    "\n",
    "print(s)\n",
    "\n",
    "print(s_test)"
   ]
  },
  {
   "cell_type": "code",
   "execution_count": 25,
   "metadata": {},
   "outputs": [
    {
     "name": "stdout",
     "output_type": "stream",
     "text": [
      "1 0\n",
      "0\n"
     ]
    }
   ],
   "source": [
    "# 두 개의 참(1) 또는 거짓(0)이 입력될 때,\n",
    "# 모두 참일 때에만 참을 출력하는 프로그램을 작성해보자.\n",
    "\n",
    "a,b = input().split()\n",
    "\n",
    "if int(a) == 1 and int(b) == 1:print(1)\n",
    "else: print(0)"
   ]
  },
  {
   "cell_type": "code",
   "execution_count": 26,
   "metadata": {},
   "outputs": [
    {
     "name": "stdout",
     "output_type": "stream",
     "text": [
      "1 0\n",
      "1\n"
     ]
    }
   ],
   "source": [
    "# 두 개의 참(1) 또는 거짓(0)이 입력될 때,\n",
    "# 하나라도 참이면 참을 출력하는 프로그램을 작성해보자.\n",
    "\n",
    "a,b = input().split()\n",
    "\n",
    "if int(a) == 1 or int(b) == 1:print(1)\n",
    "else: print(0)"
   ]
  },
  {
   "cell_type": "code",
   "execution_count": 30,
   "metadata": {},
   "outputs": [
    {
     "name": "stdout",
     "output_type": "stream",
     "text": [
      "0 1\n",
      "1\n"
     ]
    }
   ],
   "source": [
    "# 두 가지의 참(1) 또는 거짓(0)이 입력될 때,\n",
    "# 참/거짓이 서로 다를 때에만 참을 출력하는 프로그램을 작성해보자.\n",
    "\n",
    "a,b = input().split()\n",
    "\n",
    "if (int(a) == 1 and int(b) == 0) or (int(a) == 0 and int(b) == 1):print(1)\n",
    "else: print(0)\n"
   ]
  },
  {
   "cell_type": "code",
   "execution_count": 31,
   "metadata": {},
   "outputs": [
    {
     "name": "stdout",
     "output_type": "stream",
     "text": [
      "1 1\n",
      "1\n"
     ]
    }
   ],
   "source": [
    "# 두 개의 참(1) 또는 거짓(0)이 입력될 때,\n",
    "# 참/거짓이 서로 같을 때에만 참이 계산되는 프로그램을 작성해보자.\n",
    "\n",
    "a,b = input().split()\n",
    "\n",
    "if (int(a) == 1 and int(b) == 1) or (int(a) == 0 and int(b) == 0):print(1)\n",
    "else: print(0)\n"
   ]
  },
  {
   "cell_type": "code",
   "execution_count": 33,
   "metadata": {},
   "outputs": [
    {
     "name": "stdout",
     "output_type": "stream",
     "text": [
      "1 1\n",
      "0\n"
     ]
    }
   ],
   "source": [
    "# 두 개의 참(1) 또는 거짓(0)이 입력될 때,\n",
    "# 모두 거짓일 때에만 참이 계산되는 프로그램을 작성해보자.\n",
    "\n",
    "\n",
    "a,b = input().split()\n",
    "\n",
    "if int(a) == 0 and int(b) == 0:print(1)\n",
    "else: print(0)"
   ]
  },
  {
   "cell_type": "code",
   "execution_count": 60,
   "metadata": {},
   "outputs": [
    {
     "name": "stdout",
     "output_type": "stream",
     "text": [
      "123\n",
      "-124\n"
     ]
    }
   ],
   "source": [
    "# 입력 된 정수를 비트단위로 참/거짓을 바꾼 후 정수로 출력해보자.\n",
    "# 비트단위(bitwise)연산자 ~ 를 붙이면 된다.(~ : tilde, 틸드라고 읽는다.)\n",
    "\n",
    "# 비트 단위로 1 -> 0, 0 -> 1로 바꾼 후 그 값을 10진수로 출력한다.\n",
    "\n",
    "# 비트바꾸기 -> ~ 하나면된다.\n",
    "\n",
    "data = input()\n",
    "data_result = int(data)\n",
    "b = format(data_result, 'b')\n",
    "# print(b)\n",
    "print(~int(b, 2))\n",
    "\n",
    "# result = ''\n",
    "# for change in b:\n",
    "# #     print(change)\n",
    "# #     print(type(change))\n",
    "#     if change == '1':\n",
    "#         change = '0'\n",
    "#     else:\n",
    "#         change = '1'\n",
    "#     result += str(change)\n",
    "# print(int(result, 2))"
   ]
  },
  {
   "cell_type": "code",
   "execution_count": 70,
   "metadata": {},
   "outputs": [
    {
     "name": "stdout",
     "output_type": "stream",
     "text": [
      "3 5\n"
     ]
    },
    {
     "data": {
      "text/plain": [
       "1"
      ]
     },
     "execution_count": 70,
     "metadata": {},
     "output_type": "execute_result"
    }
   ],
   "source": [
    "# 입력된 정수 두 개를 비트단위로 and 연산한 후 그 결과를 정수로 출력해보자.\n",
    "# 비트단위(bitwise)연산자 &를 사용하면 된다.(and, ampersand, 앰퍼센드라고 읽는다.)\n",
    "\n",
    "# 두 정수를 비트단위(bitwise)로 and 계산을 수행한 결과를 10진수로 출력한다.\n",
    "\n",
    "# >>> bin(0b1101 & 0b1001)    # 비트 AND\n",
    "# '0b1001'\n",
    "# >>> 13 & 9                  # 비트 AND\n",
    "# 9\n",
    "# >>> bin(0b1101 | 0b1001)    # 비트 OR\n",
    "# '0b1101'\n",
    "# >>> 13 | 9                  # 비트 OR\n",
    "# 13\n",
    "# >>> bin(0b1101 ^ 0b1001)    # 비트 XOR\n",
    "# '0b100'\n",
    "# >>> 13 ^ 9                  # 비트 XOR\n",
    "# 4\n",
    "# >>> bin(~0b1101)            # 비트 NOT\n",
    "# '-0b1110'\n",
    "# >>> ~13                     # 비트 NOT\n",
    "# -14\n",
    "\n",
    "a,b = map(int, input().split())\n",
    "# print(a,b)\n",
    "a_bin = bin(a)\n",
    "b_bin = bin(b)\n",
    "# print(a_bin)\n",
    "\n",
    "print(int(bin(int(a_bin, 2) & int(b_bin,2)) ,2))\n",
    "\n",
    "\n",
    "\n"
   ]
  },
  {
   "cell_type": "code",
   "execution_count": 71,
   "metadata": {},
   "outputs": [
    {
     "name": "stdout",
     "output_type": "stream",
     "text": [
      "3 5\n",
      "7\n"
     ]
    }
   ],
   "source": [
    "# 입력된 정수 두 개를 비트단위로 or 연산한 후 그 결과를 정수로 출력해보자.\n",
    "# 비트단위(bitwise) 연산자 |(or, vertical bar, 버티컬바)를 사용하면 된다.\n",
    "\n",
    "\n",
    "# 두 정수를 비트단위(bitwise)로 or 계산을 수행한 결과를 10진수로 출력한다.\n",
    "\n",
    "\n",
    "a,b = map(int, input().split())\n",
    "# print(a,b)\n",
    "a_bin = bin(a)\n",
    "b_bin = bin(b)\n",
    "# print(a_bin)\n",
    "\n",
    "print(int(bin(int(a_bin, 2) | int(b_bin,2)) ,2))"
   ]
  },
  {
   "cell_type": "code",
   "execution_count": 72,
   "metadata": {},
   "outputs": [
    {
     "name": "stdout",
     "output_type": "stream",
     "text": [
      "3 5\n",
      "6\n"
     ]
    }
   ],
   "source": [
    "# 입력된 정수 두 개를 비트단위로 xor 연산한 후 그 결과를 정수로 출력해보자.\n",
    "# 비트단위(bitwise) 연산자 ^(xor, circumflex/caret, 서컴플렉스/카릿)를 사용하면 된다.\n",
    "\n",
    "# 두 정수를 비트단위(bitwise)로 xor 계산을 수행한 결과를 10진수로 출력한다.\n",
    "\n",
    "a,b = map(int, input().split())\n",
    "# print(a,b)\n",
    "a_bin = bin(a)\n",
    "b_bin = bin(b)\n",
    "# print(a_bin)\n",
    "\n",
    "print(int(bin(int(a_bin, 2) ^ int(b_bin,2)) ,2))"
   ]
  },
  {
   "cell_type": "code",
   "execution_count": 74,
   "metadata": {},
   "outputs": [
    {
     "name": "stdout",
     "output_type": "stream",
     "text": [
      "123 456\n",
      "456\n"
     ]
    }
   ],
   "source": [
    "# 입력된 두 정수 a, b 중 큰 값을 출력하는 프로그램을 작성해보자.\n",
    "# 단, 조건문을 사용하지 않고 3항 연산자 ? 를 사용한다.\n",
    "\n",
    "#파이선은 삼항연산자를 and or 로 표기 -> and 는 ? or 은 :  -> 이건 초기버전\n",
    "#하기 버전 사용  -> true if 조건 else false\n",
    "\n",
    "a,b = map(int, input().split())\n",
    "# print(a > b and a or b)\n",
    "print(a if a>b else b) "
   ]
  },
  {
   "cell_type": "code",
   "execution_count": 80,
   "metadata": {},
   "outputs": [
    {
     "name": "stdout",
     "output_type": "stream",
     "text": [
      "2 3 2\n"
     ]
    },
    {
     "data": {
      "text/plain": [
       "3"
      ]
     },
     "execution_count": 80,
     "metadata": {},
     "output_type": "execute_result"
    }
   ],
   "source": [
    "# 입력된 세 정수 a, b, c 중 가장 작은 값을 출력하는 프로그램을 작성해보자.\n",
    "# 단, 조건문을 사용하지 않고 3항 연산자 ? 를 사용한다.\n",
    "\n",
    "a,b,c = map(int, input().split())\n",
    "\n",
    "print(a if (a<b and a<c) else b if (b<a and b<c) else c)\n",
    "\n"
   ]
  },
  {
   "cell_type": "code",
   "execution_count": 82,
   "metadata": {},
   "outputs": [
    {
     "name": "stdout",
     "output_type": "stream",
     "text": [
      "2 4 3\n",
      "2\n",
      "4\n"
     ]
    }
   ],
   "source": [
    "\n",
    "# 세 정수 a, b, c가 입력되었을 때, 짝수만 출력해보자.\n",
    "\n",
    "# 세 정수 a, b, c 가 공백을 두고 입력된다.\n",
    "# 0 ~ +2147483647 범위의 정수들이 입력되며 적어도 1개는 짝수이다.\n",
    "# 짝수만 순서대로 줄을 바꿔 출력한다.\n",
    "\n",
    "data = list(map(int, input().split()))\n",
    "\n",
    "# print(data)\n",
    "\n",
    "for result in data:\n",
    "    if result % 2 == 0:\n",
    "        print(result)\n"
   ]
  },
  {
   "cell_type": "code",
   "execution_count": 84,
   "metadata": {},
   "outputs": [
    {
     "name": "stdout",
     "output_type": "stream",
     "text": [
      "1 2 8\n",
      "odd\n",
      "even\n",
      "even\n"
     ]
    }
   ],
   "source": [
    "# 세 정수 a, b, c가 입력되었을 때, 짝(even)/홀(odd)을 출력해보자.\n",
    "\n",
    "\n",
    "# 입력된 순서대로 짝(even)/홀(odd)을 줄을 바꿔 출력한다.\n",
    "\n",
    "\n",
    "data = list(map(int, input().split()))\n",
    "\n",
    "# print(data)\n",
    "\n",
    "for result in data:\n",
    "    if result % 2 == 0:\n",
    "        print('even')\n",
    "    else:\n",
    "        print('odd')\n",
    "\n"
   ]
  },
  {
   "cell_type": "code",
   "execution_count": 88,
   "metadata": {},
   "outputs": [
    {
     "name": "stdout",
     "output_type": "stream",
     "text": [
      "-124\n",
      "minus\n",
      "even\n"
     ]
    }
   ],
   "source": [
    "# 정수 1개가 입력되었을 때, 음(minus)/양(plus)과 짝(even)/홀(odd)을 출력해보자.\n",
    "\n",
    "# 입력된 정수에 대해\n",
    "# 첫 줄에 minus 나 plus 를 출력하고,\n",
    "# 두 번째 줄에 odd 나 even 을 출력한다.\n",
    "\n",
    "data = int(input())\n",
    "# print(data)\n",
    "if data < 0:\n",
    "    print('minus')\n",
    "else :\n",
    "    print('plus')\n",
    "\n",
    "if data % 2 ==0:\n",
    "    print('even')\n",
    "else: print('odd')"
   ]
  },
  {
   "cell_type": "code",
   "execution_count": 89,
   "metadata": {},
   "outputs": [
    {
     "name": "stdout",
     "output_type": "stream",
     "text": [
      "70\n",
      "B\n"
     ]
    }
   ],
   "source": [
    "# 점수(정수, 0 ~ 100)를 입력받아 평가를 출력해보자.\n",
    "\n",
    "\n",
    "# 평가 기준\n",
    "# 점수 범위 : 평가\n",
    "#  90 ~ 100 : A\n",
    "#  70 ~   89 : B\n",
    "#  40 ~   69 : C\n",
    "#    0 ~   39 : D\n",
    "\n",
    "\n",
    "# 로 평가되어야 한다.\n",
    "\n",
    "data = int(input())\n",
    "\n",
    "if data >= 90:\n",
    "    print('A')\n",
    "elif data >= 70:\n",
    "    print('B')\n",
    "elif data >= 40:\n",
    "    print('C')\n",
    "else:\n",
    "    print('D')"
   ]
  },
  {
   "cell_type": "code",
   "execution_count": 92,
   "metadata": {},
   "outputs": [
    {
     "name": "stdout",
     "output_type": "stream",
     "text": [
      "C\n",
      "run!\n"
     ]
    }
   ],
   "source": [
    "# 평가를 문자(A, B, C, D, ...)로 입력받아 내용을 다르게 출력해보자.\n",
    "\n",
    "# 평가 내용\n",
    "# 평가 : 내용\n",
    "# A : best!!!\n",
    "# B : good!!\n",
    "# C : run!\n",
    "# D : slowly~\n",
    "# 나머지 문자들 : what?\n",
    "\n",
    "# 영문자 1개가 입력된다.\n",
    "# (A, B, C, D 등의 한 문자가 입력된다.)\n",
    "\n",
    "data = input()\n",
    "\n",
    "if data == 'A':\n",
    "    print('best!!!')\n",
    "elif data == 'B':\n",
    "    print('good!!')\n",
    "elif data == 'C':\n",
    "    print('run!')\n",
    "elif data =='D':\n",
    "    print('slowly~')\n",
    "else:\n",
    "    print('what?')\n",
    "    \n"
   ]
  },
  {
   "cell_type": "code",
   "execution_count": 94,
   "metadata": {},
   "outputs": [
    {
     "name": "stdout",
     "output_type": "stream",
     "text": [
      "11\n",
      "fall\n"
     ]
    }
   ],
   "source": [
    "# 월이 입력될 때 계절 이름이 출력되도록 해보자.\n",
    "\n",
    "# 예\n",
    "# 월 : 계절 이름\n",
    "# 12, 1, 2 : winter\n",
    "#   3, 4, 5 : spring\n",
    "#   6, 7, 8 : summer\n",
    "#   9, 10, 11 : fall\n",
    "\n",
    "data = int(input())\n",
    "\n",
    "if data == 12 or data == 1 or data ==2:\n",
    "    print('winter')\n",
    "elif data == 3 or data == 4 or data ==5:\n",
    "    print('spring')\n",
    "elif data == 6 or data ==7 or data ==8:\n",
    "    print('summer')\n",
    "elif data == 9 or data ==10 or data == 11:\n",
    "    print('fall')\n"
   ]
  },
  {
   "cell_type": "code",
   "execution_count": 95,
   "metadata": {},
   "outputs": [
    {
     "name": "stdout",
     "output_type": "stream",
     "text": [
      "7 4 2 3 0 1 5 6 9\n",
      "7\n",
      "4\n",
      "2\n",
      "3\n"
     ]
    }
   ],
   "source": [
    "# 정수가 순서대로 입력된다.\n",
    "# -2147483648 ~ +2147483647, 단 개수는 알 수 없다.\n",
    "\n",
    "# 0이 아니면 입력된 정수를 출력하고, 0이 입력되면 출력을 중단해보자.\n",
    "# while( ), for( ), do~while( ) 등의 반복문을 사용할 수 없다.\n",
    "\n",
    "# 입력된 정수를 줄을 바꿔 하나씩 출력하는데, 0이 입력되면 종료한다.\n",
    "# (0은 출력하지 않는다.)\n",
    "\n",
    "\n",
    "# 입력 예시   \n",
    "# 7 4 2 3 0 1 5 6 9 10 8\n",
    "\n",
    "# 출력 예시\n",
    "# 7\n",
    "# 4\n",
    "# 2\n",
    "# 3\n",
    "\n",
    "data = list(map(int, input().split()))\n",
    "\n",
    "for result in data:\n",
    "    if result != 0: print(result)\n",
    "    else: break"
   ]
  },
  {
   "cell_type": "code",
   "execution_count": 96,
   "metadata": {},
   "outputs": [
    {
     "name": "stdout",
     "output_type": "stream",
     "text": [
      "5\n",
      "1 2 3 4 5\n",
      "1\n",
      "2\n",
      "3\n",
      "4\n",
      "5\n"
     ]
    }
   ],
   "source": [
    "# n개의 정수가 순서대로 입력된다.\n",
    "# -2147483648 ~ +2147483647, 단 n의 최대 개수는 알 수 없다.\n",
    "\n",
    "# n개의 입력된 정수를 순서대로 출력해보자.\n",
    "\n",
    "# 첫 줄에 정수의 개수 n이 입력되고,\n",
    "# 두 번째 줄에 n개의 정수가 공백을 두고 입력된다.\n",
    "# -2147483648 ~ +2147483647, 단 n의 최대 개수는 알 수 없다.\n",
    "\n",
    "\n",
    "# 출력\n",
    "# n개의 정수를 한 개씩 줄을 바꿔 출력한다.\n",
    "\n",
    "\n",
    "# 입력 예시   \n",
    "# 5\n",
    "# 1 2 3 4 5\n",
    "\n",
    "# 출력 예시\n",
    "# 1\n",
    "# 2\n",
    "# 3\n",
    "# 4\n",
    "# 5\n",
    "\n",
    "n = int(input())\n",
    "data = list(map(int, input().split()))\n",
    "\n",
    "\n",
    "for result in range(n):\n",
    "    print(data[result])"
   ]
  },
  {
   "cell_type": "code",
   "execution_count": 97,
   "metadata": {},
   "outputs": [
    {
     "name": "stdout",
     "output_type": "stream",
     "text": [
      "5\n",
      "5\n",
      "4\n",
      "3\n",
      "2\n",
      "1\n"
     ]
    }
   ],
   "source": [
    "# 정수(1 ~ 100) 1개가 입력되었을 때 카운트다운을 출력해보자.\n",
    "\n",
    "n = int(input())\n",
    "\n",
    "for result in range(n):\n",
    "    print(n - result)\n",
    "    \n",
    "    "
   ]
  },
  {
   "cell_type": "code",
   "execution_count": 99,
   "metadata": {},
   "outputs": [
    {
     "name": "stdout",
     "output_type": "stream",
     "text": [
      "5\n",
      "4\n",
      "3\n",
      "2\n",
      "1\n",
      "0\n"
     ]
    }
   ],
   "source": [
    "n = int(input())\n",
    "\n",
    "for result in range(n):\n",
    "    print(n - result -1)"
   ]
  },
  {
   "cell_type": "code",
   "execution_count": 112,
   "metadata": {},
   "outputs": [
    {
     "name": "stdout",
     "output_type": "stream",
     "text": [
      "f\n",
      "a b c d e f "
     ]
    }
   ],
   "source": [
    "# 영문자(a ~ z) 1개가 입력되었을 때 그 문자까지의 알파벳을 순서대로 출력해보자.\n",
    "\n",
    "# 입력\n",
    "# 영문자 1개가 입력된다.\n",
    "# (a ~ z)\n",
    "\n",
    "\n",
    "# 출력\n",
    "# a부터 입력한 문자까지 순서대로 공백을 두고 출력한다.\n",
    "\n",
    "\n",
    "# 입력 예시   \n",
    "# f\n",
    "\n",
    "# 출력 예시\n",
    "# a b c d e f\n",
    "\n",
    "#아스키코드 체크 ->chr() (숫자를 문자로)\n",
    "#ord() (문자를 숫자로)\n",
    "\n",
    "# print(ord('a'))\n",
    "\n",
    "input_data = input()\n",
    "\n",
    "code = ord(input_data)\n",
    "first_alphabet = ord('a')\n",
    "\n",
    "for check in range(first_alphabet, code + 1):\n",
    "    print(chr(check), end=' ')"
   ]
  },
  {
   "cell_type": "code",
   "execution_count": 115,
   "metadata": {},
   "outputs": [
    {
     "name": "stdout",
     "output_type": "stream",
     "text": [
      "5\n",
      "0\n",
      "1\n",
      "2\n",
      "3\n",
      "4\n",
      "5\n"
     ]
    }
   ],
   "source": [
    "# 정수(0 ~ 100) 1개를 입력받아 0부터 그 수까지 순서대로 출력해보자.\n",
    "\n",
    "# 입력\n",
    "# 정수 1개가 입력된다.\n",
    "# (0 ~ 100)\n",
    "\n",
    "\n",
    "# 출력\n",
    "# 0부터 그 수까지 줄을 바꿔 한 개씩 출력한다.\n",
    "\n",
    "data = int(input())\n",
    "\n",
    "for result in range(0, data+1):\n",
    "    print(result)"
   ]
  },
  {
   "cell_type": "code",
   "execution_count": 116,
   "metadata": {},
   "outputs": [
    {
     "name": "stdout",
     "output_type": "stream",
     "text": [
      "5\n",
      "6\n"
     ]
    }
   ],
   "source": [
    "# 정수(1 ~ 100) 1개를 입력받아 1부터 그 수까지 짝수의 합을 구해보자.\n",
    "\n",
    "data = int(input())\n",
    "\n",
    "result = 0\n",
    "for check in range(0, data+1):\n",
    "    if check % 2 ==0:\n",
    "        result += check\n",
    "        \n",
    "print(result)"
   ]
  },
  {
   "cell_type": "code",
   "execution_count": 118,
   "metadata": {},
   "outputs": [
    {
     "name": "stdout",
     "output_type": "stream",
     "text": [
      "x b k d l q g a c\n",
      "x\n",
      "b\n",
      "k\n",
      "d\n",
      "l\n",
      "q\n"
     ]
    }
   ],
   "source": [
    "# 'q'가 입력될 때까지 입력한 문자를 계속 출력하는 프로그램을 작성해보자.\n",
    "\n",
    "# 문자들이 1개씩 계속해서 입력된다.\n",
    "\n",
    "\n",
    "# 출력\n",
    "# 'q'가 입력될 때까지 입력된 문자를 줄을 바꿔 한 줄씩 출력한다.\n",
    "\n",
    "\n",
    "# 입력 예시   \n",
    "# x b k d l q g a c\n",
    "\n",
    "# 출력 예시\n",
    "# x\n",
    "# b\n",
    "# k\n",
    "# d\n",
    "# l\n",
    "# q\n",
    "\n",
    "data = list(map(str, input().split()))\n",
    "\n",
    "# print(data)\n",
    "\n",
    "for check in data:\n",
    "    if check == 'q':\n",
    "        print(check)\n",
    "        break\n",
    "    else:\n",
    "        print(check)"
   ]
  },
  {
   "cell_type": "code",
   "execution_count": 126,
   "metadata": {},
   "outputs": [
    {
     "name": "stdout",
     "output_type": "stream",
     "text": [
      "55\n",
      "10\n"
     ]
    }
   ],
   "source": [
    "# 1, 2, 3 ... 을 계속 더해 나갈 때,\n",
    "# 그 합이 입력한 정수(0 ~ 1000)보다 같거나 작을 때까지\n",
    "# 계속 더하는 프로그램을 작성해보자.\n",
    "\n",
    "# 즉, 1부터 n까지 정수를 계속 더한다고 할 때,\n",
    "# 어디까지 더해야 입력한 수보다 같거나 커지는지 알아보고자 하는 문제이다.\n",
    "\n",
    "# 정수 1개가 입력된다.\n",
    "\n",
    "\n",
    "# 출력\n",
    "# 1, 2, 3, 4, 5 ... 를 순서대로 계속 더해 합을 만들어가다가,\n",
    "# 입력된 정수와 같거나 커졌을 때, 마지막에 더한 정수를 출력한다.\n",
    "\n",
    "\n",
    "# 입력 예시   \n",
    "# 55\n",
    "\n",
    "# 출력 예시\n",
    "# 10\n",
    "\n",
    "my_result = int(input())\n",
    "# print(my_result)\n",
    "\n",
    "first_num = 0\n",
    "result_temp = 0\n",
    "while result_temp < my_result:\n",
    "    first_num+=1\n",
    "    result_temp += first_num\n",
    "#     print(result_temp)\n",
    "\n",
    "print(first_num)\n",
    "    "
   ]
  },
  {
   "cell_type": "code",
   "execution_count": 130,
   "metadata": {},
   "outputs": [
    {
     "name": "stdout",
     "output_type": "stream",
     "text": [
      "2 3\n",
      "1 1\n",
      "1 2\n",
      "1 3\n",
      "2 1\n",
      "2 2\n",
      "2 3\n"
     ]
    }
   ],
   "source": [
    "# 1부터 n까지, 1부터 m까지 숫자가 적힌\n",
    "# 서로 다른 주사위 2개를 던졌을 때 나올 수 있는 모든 경우를 출력해보자.\n",
    "\n",
    "# 참고\n",
    "# 중첩의 원리...\n",
    "# 반복 실행 구조도 조건 실행 구조와 마찬가지로 중첩의 원리가 적용된다.\n",
    "# 반복 실행 구조를 중첩하면 원하는 반복 구조를 다양하게 만들어 낼 수 있다.\n",
    "\n",
    "\n",
    "# 주사위 2개의 면의 개수 n, m이 공백을 두고 입력된다.\n",
    "# 단, n, m은 10이하의 자연수\n",
    "\n",
    "\n",
    "# 출력\n",
    "# 나올 수 있는 주사위의 숫자를 한 세트씩 줄을 바꿔 모두 출력한다.\n",
    "# 첫 번째 수는 n, 두 번째 수는 m으로 고정해 출력하도록 한다.\n",
    "\n",
    "\n",
    "# 입력 예시   \n",
    "# 2 3\n",
    "\n",
    "# 출력 예시\n",
    "# 1 1\n",
    "# 1 2\n",
    "# 1 3\n",
    "# 2 1\n",
    "# 2 2\n",
    "# 2 3\n",
    "\n",
    "a,b = map(int, input().split())\n",
    "\n",
    "for first_dice in range(1, a+1):\n",
    "    for second_dice in range(1,b+1):\n",
    "        print(first_dice, second_dice)\n",
    "        \n"
   ]
  },
  {
   "cell_type": "code",
   "execution_count": null,
   "metadata": {},
   "outputs": [],
   "source": [
    "# 16진수(0, 1, 2, 3, 4, 5, 6, 7, 8, 9, A, B, C, D, E, F)를 배운\n",
    "# 영일(01)이는 16진수끼리 곱하는 16진수 구구단?에 대해서 궁금해졌다.\n",
    "\n",
    "# A, B, C, D, E, F 중 하나가 입력될 때,\n",
    "# 1부터 F까지 곱한 16진수 구구단의 내용을 출력해보자.\n",
    "# (단, A ~ F 까지만 입력된다.)\n",
    "\n",
    "\n",
    "# 16진수로 한 자리 수가 입력된다.\n",
    "# 단, A ~ F 까지만 입력된다.\n",
    "\n",
    "\n",
    "# 출력\n",
    "# 입력된 16진수에 1~F까지 순서대로 곱한, 16진수 구구단을 줄을 바꿔 출력한다.\n",
    "# 계산 결과도 16진수로 출력해야 한다.\n",
    "\n",
    "\n",
    "# 입력 예시   \n",
    "# B\n",
    "\n",
    "# 출력 예시\n",
    "# B*1=B\n",
    "# B*2=16\n",
    "# B*3=21\n",
    "# B*4=2C\n",
    "# B*5=37\n",
    "# B*6=42\n",
    "# B*7=4D\n",
    "# B*8=58\n",
    "# B*9=63\n",
    "# B*A=6E\n",
    "# B*B=79\n",
    "# B*C=84\n",
    "# B*D=8F\n",
    "# B*E=9A\n",
    "# B*F=A5\n",
    "\n"
   ]
  }
 ],
 "metadata": {
  "kernelspec": {
   "display_name": "Python 3",
   "language": "python",
   "name": "python3"
  },
  "language_info": {
   "codemirror_mode": {
    "name": "ipython",
    "version": 3
   },
   "file_extension": ".py",
   "mimetype": "text/x-python",
   "name": "python",
   "nbconvert_exporter": "python",
   "pygments_lexer": "ipython3",
   "version": "3.7.6"
  }
 },
 "nbformat": 4,
 "nbformat_minor": 4
}
