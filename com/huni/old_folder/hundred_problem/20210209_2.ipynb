{
 "cells": [
  {
   "cell_type": "code",
   "execution_count": 2,
   "id": "three-hundred",
   "metadata": {},
   "outputs": [],
   "source": [
    "# 부모님을 기다리던 영일이는 검정/흰 색 바둑알을 바둑판에 꽉 채워 깔아 놓고 놀다가...\n",
    "\n",
    "# \"십(+)자 뒤집기를 해볼까?\"하고 생각했다.\n",
    "\n",
    "# 바둑판(19 * 19)에 흰 돌(1) 또는 검정 돌(0)이 모두 꽉 채워져 놓여있을 때,\n",
    "# n개의 좌표를 입력받아 십(+)자 뒤집기한 결과를 출력하는 프로그램을 작성해보자.\n",
    "\n",
    "# 참고\n",
    "# 가로 번호, 세로 번호를 사용할 수 있는 2차원 배열을 사용하면\n",
    "# 이러한 형태를 쉽게 기록하고 사용할 수 있다. 물론 더 확장한 n차원 배열도 만들 수 있다.\n",
    "\n",
    "# 입력\n",
    "# 바둑알이 깔려 있는 상황이 19 * 19 크기의 정수값으로 입력된다.\n",
    "# 십자 뒤집기 횟수(n)가 입력된다.\n",
    "# 십자 뒤집기 좌표가 횟수(n) 만큼 입력된다. 단, n은 10이하의 자연수이다.\n",
    "\n",
    "\n",
    "# 출력\n",
    "# 십자 뒤집기 결과를 출력한다."
   ]
  },
  {
   "cell_type": "code",
   "execution_count": null,
   "id": "maritime-advocate",
   "metadata": {},
   "outputs": [],
   "source": [
    "# 입력 예시   \n",
    "# 0 0 0 0 0 0 0 0 0 1 0 1 0 0 0 0 0 0 0\n",
    "# 0 0 0 0 0 0 0 0 0 1 0 1 0 0 0 0 0 0 0\n",
    "# 0 0 0 0 0 0 0 0 0 1 0 1 0 0 0 0 0 0 0\n",
    "# 0 0 0 0 0 0 0 0 0 1 0 1 0 0 0 0 0 0 0\n",
    "# 0 0 0 0 0 0 0 0 0 1 0 1 0 0 0 0 0 0 0\n",
    "# 0 0 0 0 0 0 0 0 0 1 0 1 0 0 0 0 0 0 0\n",
    "# 0 0 0 0 0 0 0 0 0 1 0 1 0 0 0 0 0 0 0\n",
    "# 0 0 0 0 0 0 0 0 0 1 0 1 0 0 0 0 0 0 0\n",
    "# 0 0 0 0 0 0 0 0 0 1 0 1 0 0 0 0 0 0 0\n",
    "# 1 1 1 1 1 1 1 1 1 1 1 1 1 1 1 1 1 1 1\n",
    "# 0 0 0 0 0 0 0 0 0 1 0 1 0 0 0 0 0 0 0\n",
    "# 1 1 1 1 1 1 1 1 1 1 1 1 1 1 1 1 1 1 1\n",
    "# 0 0 0 0 0 0 0 0 0 1 0 1 0 0 0 0 0 0 0\n",
    "# 0 0 0 0 0 0 0 0 0 1 0 1 0 0 0 0 0 0 0\n",
    "# 0 0 0 0 0 0 0 0 0 1 0 1 0 0 0 0 0 0 0\n",
    "# 0 0 0 0 0 0 0 0 0 1 0 1 0 0 0 0 0 0 0\n",
    "# 0 0 0 0 0 0 0 0 0 1 0 1 0 0 0 0 0 0 0\n",
    "# 0 0 0 0 0 0 0 0 0 1 0 1 0 0 0 0 0 0 0\n",
    "# 0 0 0 0 0 0 0 0 0 1 0 1 0 0 0 0 0 0 0\n",
    "# 2\n",
    "# 10 10\n",
    "# 12 12\n",
    "\n",
    "# 출력 예시\n",
    "# 0 0 0 0 0 0 0 0 0 0 0 0 0 0 0 0 0 0 0\n",
    "# 0 0 0 0 0 0 0 0 0 0 0 0 0 0 0 0 0 0 0\n",
    "# 0 0 0 0 0 0 0 0 0 0 0 0 0 0 0 0 0 0 0\n",
    "# 0 0 0 0 0 0 0 0 0 0 0 0 0 0 0 0 0 0 0\n",
    "# 0 0 0 0 0 0 0 0 0 0 0 0 0 0 0 0 0 0 0\n",
    "# 0 0 0 0 0 0 0 0 0 0 0 0 0 0 0 0 0 0 0\n",
    "# 0 0 0 0 0 0 0 0 0 0 0 0 0 0 0 0 0 0 0\n",
    "# 0 0 0 0 0 0 0 0 0 0 0 0 0 0 0 0 0 0 0\n",
    "# 0 0 0 0 0 0 0 0 0 0 0 0 0 0 0 0 0 0 0\n",
    "# 0 0 0 0 0 0 0 0 0 1 0 1 0 0 0 0 0 0 0\n",
    "# 0 0 0 0 0 0 0 0 0 0 0 0 0 0 0 0 0 0 0\n",
    "# 0 0 0 0 0 0 0 0 0 1 0 1 0 0 0 0 0 0 0\n",
    "# 0 0 0 0 0 0 0 0 0 0 0 0 0 0 0 0 0 0 0\n",
    "# 0 0 0 0 0 0 0 0 0 0 0 0 0 0 0 0 0 0 0\n",
    "# 0 0 0 0 0 0 0 0 0 0 0 0 0 0 0 0 0 0 0\n",
    "# 0 0 0 0 0 0 0 0 0 0 0 0 0 0 0 0 0 0 0\n",
    "# 0 0 0 0 0 0 0 0 0 0 0 0 0 0 0 0 0 0 0\n",
    "# 0 0 0 0 0 0 0 0 0 0 0 0 0 0 0 0 0 0 0\n",
    "# 0 0 0 0 0 0 0 0 0 0 0 0 0 0 0 0 0 0 0"
   ]
  },
  {
   "cell_type": "code",
   "execution_count": 7,
   "id": "bizarre-depression",
   "metadata": {},
   "outputs": [
    {
     "name": "stdout",
     "output_type": "stream",
     "text": [
      "0 0 0 0 0 0 0 0 0 1 0 1 0 0 0 0 0 0 0 0 0 0 0 0 0 0 0 0 1 0 1 0 0 0 0 0 0 0 0 0 0 0 0 0 0 0 0 1 0 1 0 0 0 0 0 0 0 0 0 0 0 0 0 0 0 0 1 0 1 0 0 0 0 0 0 0 0 0 0 0 0 0 0 0 0 1 0 1 0 0 0 0 0 0 0 0 0 0 0 0 0 0 0 0 1 0 1 0 0 0 0 0 0 0 0 0 0 0 0 0 0 0 0 1 0 1 0 0 0 0 0 0 0 0 0 0 0 0 0 0 0 0 1 0 1 0 0 0 0 0 0 0 0 0 0 0 0 0 0 0 0 1 0 1 0 0 0 0 0 0 0 1 1 1 1 1 1 1 1 1 1 1 1 1 1 1 1 1 1 1 0 0 0 0 0 0 0 0 0 1 0 1 0 0 0 0 0 0 0 1 1 1 1 1 1 1 1 1 1 1 1 1 1 1 1 1 1 1 0 0 0 0 0 0 0 0 0 1 0 1 0 0 0 0 0 0 0 0 0 0 0 0 0 0 0 0 1 0 1 0 0 0 0 0 0 0 0 0 0 0 0 0 0 0 0 1 0 1 0 0 0 0 0 0 0 0 0 0 0 0 0 0 0 0 1 0 1 0 0 0 0 0 0 0 0 0 0 0 0 0 0 0 0 1 0 1 0 0 0 0 0 0 0 0 0 0 0 0 0 0 0 0 1 0 1 0 0 0 0 0 0 0 0 0 0 0 0 0 0 0 0 1 0 1 0 0 0 0 0 0 0\n"
     ]
    },
    {
     "ename": "KeyboardInterrupt",
     "evalue": "Interrupted by user",
     "output_type": "error",
     "traceback": [
      "\u001b[1;31m---------------------------------------------------------------------------\u001b[0m",
      "\u001b[1;31mKeyboardInterrupt\u001b[0m                         Traceback (most recent call last)",
      "\u001b[1;32m<ipython-input-7-53c00714ef85>\u001b[0m in \u001b[0;36m<module>\u001b[1;34m\u001b[0m\n\u001b[0;32m      1\u001b[0m \u001b[0minput_list\u001b[0m \u001b[1;33m=\u001b[0m \u001b[1;33m[\u001b[0m\u001b[1;33m]\u001b[0m\u001b[1;33m\u001b[0m\u001b[1;33m\u001b[0m\u001b[0m\n\u001b[0;32m      2\u001b[0m \u001b[1;32mfor\u001b[0m \u001b[0mline\u001b[0m \u001b[1;32min\u001b[0m \u001b[0mrange\u001b[0m\u001b[1;33m(\u001b[0m\u001b[1;36m19\u001b[0m\u001b[1;33m)\u001b[0m\u001b[1;33m:\u001b[0m\u001b[1;33m\u001b[0m\u001b[1;33m\u001b[0m\u001b[0m\n\u001b[1;32m----> 3\u001b[1;33m     \u001b[0minput_list\u001b[0m\u001b[1;33m.\u001b[0m\u001b[0mappend\u001b[0m\u001b[1;33m(\u001b[0m\u001b[0mlist\u001b[0m\u001b[1;33m(\u001b[0m\u001b[0mmap\u001b[0m\u001b[1;33m(\u001b[0m\u001b[0mint\u001b[0m\u001b[1;33m,\u001b[0m \u001b[0minput\u001b[0m\u001b[1;33m(\u001b[0m\u001b[1;33m)\u001b[0m\u001b[1;33m.\u001b[0m\u001b[0msplit\u001b[0m\u001b[1;33m(\u001b[0m\u001b[1;33m)\u001b[0m\u001b[1;33m)\u001b[0m\u001b[1;33m)\u001b[0m\u001b[1;33m)\u001b[0m\u001b[1;33m\u001b[0m\u001b[1;33m\u001b[0m\u001b[0m\n\u001b[0m\u001b[0;32m      4\u001b[0m \u001b[1;33m\u001b[0m\u001b[0m\n\u001b[0;32m      5\u001b[0m \u001b[0mprint\u001b[0m\u001b[1;33m(\u001b[0m\u001b[0minput_list\u001b[0m\u001b[1;33m)\u001b[0m\u001b[1;33m\u001b[0m\u001b[1;33m\u001b[0m\u001b[0m\n",
      "\u001b[1;32mc:\\users\\user\\appdata\\local\\programs\\python\\python38\\lib\\site-packages\\ipykernel\\kernelbase.py\u001b[0m in \u001b[0;36mraw_input\u001b[1;34m(self, prompt)\u001b[0m\n\u001b[0;32m    855\u001b[0m                 \u001b[1;34m\"raw_input was called, but this frontend does not support input requests.\"\u001b[0m\u001b[1;33m\u001b[0m\u001b[1;33m\u001b[0m\u001b[0m\n\u001b[0;32m    856\u001b[0m             )\n\u001b[1;32m--> 857\u001b[1;33m         return self._input_request(str(prompt),\n\u001b[0m\u001b[0;32m    858\u001b[0m             \u001b[0mself\u001b[0m\u001b[1;33m.\u001b[0m\u001b[0m_parent_ident\u001b[0m\u001b[1;33m,\u001b[0m\u001b[1;33m\u001b[0m\u001b[1;33m\u001b[0m\u001b[0m\n\u001b[0;32m    859\u001b[0m             \u001b[0mself\u001b[0m\u001b[1;33m.\u001b[0m\u001b[0m_parent_header\u001b[0m\u001b[1;33m,\u001b[0m\u001b[1;33m\u001b[0m\u001b[1;33m\u001b[0m\u001b[0m\n",
      "\u001b[1;32mc:\\users\\user\\appdata\\local\\programs\\python\\python38\\lib\\site-packages\\ipykernel\\kernelbase.py\u001b[0m in \u001b[0;36m_input_request\u001b[1;34m(self, prompt, ident, parent, password)\u001b[0m\n\u001b[0;32m    899\u001b[0m             \u001b[1;32mexcept\u001b[0m \u001b[0mKeyboardInterrupt\u001b[0m\u001b[1;33m:\u001b[0m\u001b[1;33m\u001b[0m\u001b[1;33m\u001b[0m\u001b[0m\n\u001b[0;32m    900\u001b[0m                 \u001b[1;31m# re-raise KeyboardInterrupt, to truncate traceback\u001b[0m\u001b[1;33m\u001b[0m\u001b[1;33m\u001b[0m\u001b[1;33m\u001b[0m\u001b[0m\n\u001b[1;32m--> 901\u001b[1;33m                 \u001b[1;32mraise\u001b[0m \u001b[0mKeyboardInterrupt\u001b[0m\u001b[1;33m(\u001b[0m\u001b[1;34m\"Interrupted by user\"\u001b[0m\u001b[1;33m)\u001b[0m \u001b[1;32mfrom\u001b[0m \u001b[1;32mNone\u001b[0m\u001b[1;33m\u001b[0m\u001b[1;33m\u001b[0m\u001b[0m\n\u001b[0m\u001b[0;32m    902\u001b[0m             \u001b[1;32mexcept\u001b[0m \u001b[0mException\u001b[0m \u001b[1;32mas\u001b[0m \u001b[0me\u001b[0m\u001b[1;33m:\u001b[0m\u001b[1;33m\u001b[0m\u001b[1;33m\u001b[0m\u001b[0m\n\u001b[0;32m    903\u001b[0m                 \u001b[0mself\u001b[0m\u001b[1;33m.\u001b[0m\u001b[0mlog\u001b[0m\u001b[1;33m.\u001b[0m\u001b[0mwarning\u001b[0m\u001b[1;33m(\u001b[0m\u001b[1;34m\"Invalid Message:\"\u001b[0m\u001b[1;33m,\u001b[0m \u001b[0mexc_info\u001b[0m\u001b[1;33m=\u001b[0m\u001b[1;32mTrue\u001b[0m\u001b[1;33m)\u001b[0m\u001b[1;33m\u001b[0m\u001b[1;33m\u001b[0m\u001b[0m\n",
      "\u001b[1;31mKeyboardInterrupt\u001b[0m: Interrupted by user"
     ]
    }
   ],
   "source": [
    "input_list = []\n",
    "for line in range(19):\n",
    "    input_list.append(list(map(int, input().split())))\n",
    "    \n",
    "# print(input_list)"
   ]
  },
  {
   "cell_type": "code",
   "execution_count": null,
   "id": "addressed-driver",
   "metadata": {},
   "outputs": [],
   "source": []
  },
  {
   "cell_type": "code",
   "execution_count": null,
   "id": "committed-harris",
   "metadata": {},
   "outputs": [],
   "source": []
  }
 ],
 "metadata": {
  "kernelspec": {
   "display_name": "Python 3",
   "language": "python",
   "name": "python3"
  },
  "language_info": {
   "codemirror_mode": {
    "name": "ipython",
    "version": 3
   },
   "file_extension": ".py",
   "mimetype": "text/x-python",
   "name": "python",
   "nbconvert_exporter": "python",
   "pygments_lexer": "ipython3",
   "version": "3.8.2"
  }
 },
 "nbformat": 4,
 "nbformat_minor": 5
}
